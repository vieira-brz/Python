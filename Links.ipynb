{
 "cells": [
  {
   "cell_type": "markdown",
   "metadata": {},
   "source": [
    "> Comandos\n",
    "\n",
    "- Iniciais: https://gist.github.com/luizomf/8623264cbf69cd2619bcdee258628f41\n",
    "- Iniciais P2: https://gist.github.com/luizomf/688c8a48fe007829c120818138ac2317\n",
    "\n",
    "# \n",
    "---\n",
    "# \n",
    "\n",
    "> Python\n",
    "\n",
    "- Download: https://www.python.org/downloads/\n",
    "\n",
    "    No **Windows** deve-se executar: <p style=\"color: yellow\">Set-ExecutionPolicy AllSigned -Force</p> para rodar o ambiente virtual com venv. (AllSigned = Faz perguntas, Unrestricted = Não faz perguntas)\n",
    "\n",
    "# \n",
    "---\n",
    "# \n",
    "\n",
    "> Homebrew\n",
    "\n",
    "- https://brew.sh/\n",
    "\n",
    "# \n",
    "---\n",
    "# \n",
    "\n",
    "> PyEnv\n",
    "\n",
    "- https://github.com/pyenv/pyenv\n",
    "\n",
    "# \n",
    "---\n",
    "# \n",
    "\n",
    "> Configuração inicial\n",
    "\n",
    "- VSCode: https://gist.github.com/luizomf/b9b0b953ec681af598d79f44226221af\n",
    "- VSCode: https://gist.github.com/luizomf/b9b0b953ec681af598d79f44226221af\n",
    "\n",
    "#\n",
    "---\n",
    "#\n",
    "\n",
    "> Adicionais do curso:\n",
    "\n",
    "- Tipagem de dados: https://youtu.be/2j_Q1k75tIo\n",
    "- Match/Case, mais que Switch/Case: https://youtu.be/2f_5LRQV3k0?feature=shared\n",
    "- Comandos que todo Dev deveria saber: https://youtu.be/UQBAytRBNiM\n",
    "- Expressões regulares com Python: https://www.udemy.com/course/expressoes-regulares-com-python-3-curso-gratuito/"
   ]
  }
 ],
 "metadata": {
  "language_info": {
   "name": "python"
  }
 },
 "nbformat": 4,
 "nbformat_minor": 2
}
