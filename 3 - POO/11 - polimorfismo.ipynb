{
 "cells": [
  {
   "cell_type": "code",
   "execution_count": 1,
   "metadata": {},
   "outputs": [
    {
     "name": "stdout",
     "output_type": "stream",
     "text": [
      "E-mail: enviando -  testando e-mail\n",
      "Notificação enviada\n",
      "SMS: enviando -  testando SMS\n",
      "Notificação NÃO enviada\n"
     ]
    }
   ],
   "source": [
    "# Polimorfismo em Python Orientado a Objetos\n",
    "# Polimorfismo é o princípio que permite que\n",
    "# classes deridavas de uma mesma superclasse\n",
    "# tenham métodos iguais (com mesma assinatura)\n",
    "# mas comportamentos diferentes.\n",
    "# Assinatura do método = Mesmo nome e quantidade\n",
    "# de parâmetros (retorno não faz parte da assinatura)\n",
    "# Opinião + princípios que contam:\n",
    "# Assinatura do método: nome, parâmetros e retorno iguais\n",
    "# SO\"L\"ID\n",
    "# Princípio da substituição de liskov\n",
    "# Objetos de uma superclasse devem ser substituíveis\n",
    "# por objetos de uma subclasse sem quebrar a aplicação.\n",
    "\n",
    "# Polimorfismo em Python Orientado a Objetos\n",
    "# Polimorfismo é o princípio que permite que\n",
    "# classes deridavas de uma mesma superclasse\n",
    "# tenham métodos iguais (com mesma assinatura)\n",
    "# mas comportamentos diferentes.\n",
    "# Assinatura do método = Mesmo nome e quantidade\n",
    "# de parâmetros (retorno não faz parte da assinatura)\n",
    "# Opinião + princípios que contam:\n",
    "# Assinatura do método: nome, parâmetros e retorno iguais\n",
    "# SO\"L\"ID\n",
    "# Princípio da substituição de liskov\n",
    "# Objetos de uma superclasse devem ser substituíveis\n",
    "# por objetos de uma subclasse sem quebrar a aplicação.\n",
    "# Sobrecarga de métodos (overload)  🐍 = ❌\n",
    "# Sobreposição de métodos (override) 🐍 = ✅\n",
    "from abc import ABC, abstractmethod\n",
    "\n",
    "\n",
    "class Notificacao(ABC):\n",
    "    def __init__(self, mensagem):\n",
    "        self.mensagem = mensagem\n",
    "\n",
    "    @abstractmethod\n",
    "    def enviar(self) -> bool: ...\n",
    "\n",
    "\n",
    "class NotificacaoEmail(Notificacao):\n",
    "    def enviar(self) -> bool:\n",
    "        print('E-mail: enviando - ', self.mensagem)\n",
    "        return True\n",
    "\n",
    "\n",
    "class NotificacaoSMS(Notificacao):\n",
    "    def enviar(self) -> bool:\n",
    "        print('SMS: enviando - ', self.mensagem)\n",
    "        return False\n",
    "\n",
    "\n",
    "def notificar(notificacao: Notificacao):\n",
    "    notificacao_enviada = notificacao.enviar()\n",
    "\n",
    "    if notificacao_enviada:\n",
    "        print('Notificação enviada')\n",
    "    else:\n",
    "        print('Notificação NÃO enviada')\n",
    "\n",
    "\n",
    "notificacao_email = NotificacaoEmail('testando e-mail')\n",
    "notificar(notificacao_email)\n",
    "\n",
    "notificacao_sms = NotificacaoSMS('testando SMS')\n",
    "notificar(notificacao_sms)"
   ]
  }
 ],
 "metadata": {
  "kernelspec": {
   "display_name": "Python 3",
   "language": "python",
   "name": "python3"
  },
  "language_info": {
   "codemirror_mode": {
    "name": "ipython",
    "version": 3
   },
   "file_extension": ".py",
   "mimetype": "text/x-python",
   "name": "python",
   "nbconvert_exporter": "python",
   "pygments_lexer": "ipython3",
   "version": "3.8.10"
  }
 },
 "nbformat": 4,
 "nbformat_minor": 2
}
