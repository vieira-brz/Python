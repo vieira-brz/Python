{
 "cells": [
  {
   "cell_type": "markdown",
   "metadata": {},
   "source": [
    "# Property"
   ]
  },
  {
   "cell_type": "code",
   "execution_count": 1,
   "metadata": {},
   "outputs": [
    {
     "name": "stdout",
     "output_type": "stream",
     "text": [
      "PROPERTY\n",
      "Azul\n",
      "PROPERTY\n",
      "Azul\n",
      "PROPERTY\n",
      "Azul\n",
      "PROPERTY\n",
      "Azul\n",
      "PROPERTY\n",
      "Azul\n",
      "PROPERTY\n",
      "Azul\n",
      "123456\n"
     ]
    }
   ],
   "source": [
    "# @property - um getter no modo Pythônico\n",
    "# getter - um método para obter um atributo\n",
    "# cor -> get_cor()\n",
    "# modo pythônico - modo do Python de fazer coisas\n",
    "# @property é uma propriedade do objeto, ela\n",
    "# é um método que se comporta como um\n",
    "# atributo 🤯 🤯 🤯\n",
    "# Geralmente é usada nas seguintes situações:\n",
    "# - como getter\n",
    "# - p/ evitar quebrar código cliente\n",
    "# - p/ habilitar setter\n",
    "# - p/ executar ações ao obter um atributo\n",
    "# Código cliente - é o código que usa seu código\n",
    "class Caneta:\n",
    "    def __init__(self, cor):\n",
    "        self.cor_tinta = cor\n",
    "\n",
    "    @property\n",
    "    def cor(self):\n",
    "        print('PROPERTY')\n",
    "        return self.cor_tinta\n",
    "\n",
    "    @property\n",
    "    def cor_tampa(self):\n",
    "        return 123456\n",
    "\n",
    "###########################\n",
    "\n",
    "\n",
    "caneta = Caneta('Azul')\n",
    "print(caneta.cor)\n",
    "print(caneta.cor)\n",
    "print(caneta.cor)\n",
    "print(caneta.cor)\n",
    "print(caneta.cor)\n",
    "print(caneta.cor)\n",
    "print(caneta.cor_tampa)\n",
    "\n",
    "#####################################\n",
    "\n",
    "# class Caneta:\n",
    "#     def __init__(self, cor):\n",
    "#         self.cor_tinta = cor\n",
    "\n",
    "#     def get_cor(self):\n",
    "#         print('GET COR')\n",
    "#         return self.cor_tinta\n",
    "\n",
    "# ###########################\n",
    "\n",
    "\n",
    "# caneta = Caneta('Azul')\n",
    "# print(caneta.get_cor())\n",
    "# print(caneta.get_cor())\n",
    "# print(caneta.get_cor())\n",
    "# print(caneta.get_cor())\n",
    "# print(caneta.get_cor())"
   ]
  },
  {
   "cell_type": "markdown",
   "metadata": {},
   "source": [
    "# Property + Setter"
   ]
  },
  {
   "cell_type": "code",
   "execution_count": 2,
   "metadata": {},
   "outputs": [
    {
     "name": "stdout",
     "output_type": "stream",
     "text": [
      "ESTOU NO SETTER\n",
      "ESTOU NO SETTER\n",
      "ESTOU NO GETTER\n",
      "Rosa\n",
      "Azul\n"
     ]
    }
   ],
   "source": [
    "# @property + @setter - getter e setter no modo Pythônico\n",
    "# - como getter\n",
    "# - p/ evitar quebrar código cliente\n",
    "# - p/ habilitar setter\n",
    "# - p/ executar ações ao obter um atributo\n",
    "# Atributos que começar com um ou dois underlines\n",
    "# não devem ser usados fora da classe.\n",
    "#  🐍🤓🤯🤯🤯🤯\n",
    "class Caneta:\n",
    "    def __init__(self, cor):\n",
    "        # private protected\n",
    "        self.cor = cor\n",
    "        self._cor_tampa = None\n",
    "\n",
    "    @property\n",
    "    def cor(self):\n",
    "        print('ESTOU NO GETTER')\n",
    "        return self._cor\n",
    "\n",
    "    @cor.setter\n",
    "    def cor(self, valor):\n",
    "        print('ESTOU NO SETTER')\n",
    "        self._cor = valor\n",
    "\n",
    "    @property\n",
    "    def cor_tampa(self):\n",
    "        return self._cor_tampa\n",
    "\n",
    "    @cor_tampa.setter\n",
    "    def cor_tampa(self, valor):\n",
    "        self._cor_tampa = valor\n",
    "\n",
    "\n",
    "caneta = Caneta('Azul')\n",
    "caneta.cor = 'Rosa'\n",
    "caneta.cor_tampa = 'Azul'\n",
    "print(caneta.cor)\n",
    "print(caneta.cor_tampa)"
   ]
  }
 ],
 "metadata": {
  "kernelspec": {
   "display_name": "Python 3",
   "language": "python",
   "name": "python3"
  },
  "language_info": {
   "codemirror_mode": {
    "name": "ipython",
    "version": 3
   },
   "file_extension": ".py",
   "mimetype": "text/x-python",
   "name": "python",
   "nbconvert_exporter": "python",
   "pygments_lexer": "ipython3",
   "version": "3.8.10"
  }
 },
 "nbformat": 4,
 "nbformat_minor": 2
}
