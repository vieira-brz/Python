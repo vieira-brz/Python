{
 "cells": [
  {
   "cell_type": "markdown",
   "metadata": {},
   "source": [
    "# Herança Simples"
   ]
  },
  {
   "cell_type": "code",
   "execution_count": 1,
   "metadata": {},
   "outputs": [
    {
     "name": "stdout",
     "output_type": "stream",
     "text": [
      "EITA, nem saí da classe CLIENTE\n",
      "Luiz Otávio Cliente\n",
      "Classe PESSOA\n",
      "Maria Helena Aluno\n",
      "cpf aluno\n"
     ]
    }
   ],
   "source": [
    "# Herança simples - Relações entre classes\n",
    "# Associação - usa, Agregação - tem\n",
    "# Composição - É dono de, Herança - É um\n",
    "#\n",
    "# Herança vs Composição\n",
    "#\n",
    "# Classe principal (Pessoa)\n",
    "#   -> super class, base class, parent class\n",
    "# Classes filhas (Cliente)\n",
    "#   -> sub class, child class, derived class\n",
    "class Pessoa:\n",
    "    cpf = '1234'\n",
    "\n",
    "    def __init__(self, nome, sobrenome):\n",
    "        self.nome = nome\n",
    "        self.sobrenome = sobrenome\n",
    "\n",
    "    def falar_nome_classe(self):\n",
    "        print('Classe PESSOA')\n",
    "        print(self.nome, self.sobrenome, self.__class__.__name__)\n",
    "\n",
    "\n",
    "class Cliente(Pessoa):\n",
    "    def falar_nome_classe(self):\n",
    "        print('EITA, nem saí da classe CLIENTE')\n",
    "        print(self.nome, self.sobrenome, self.__class__.__name__)\n",
    "\n",
    "\n",
    "class Aluno(Pessoa):\n",
    "    cpf = 'cpf aluno'\n",
    "    ...\n",
    "\n",
    "\n",
    "c1 = Cliente('Luiz', 'Otávio')\n",
    "c1.falar_nome_classe()\n",
    "a1 = Aluno('Maria', 'Helena')\n",
    "a1.falar_nome_classe()\n",
    "print(a1.cpf)\n",
    "# help(Cliente)"
   ]
  },
  {
   "cell_type": "markdown",
   "metadata": {},
   "source": [
    "# Herança Múltipla"
   ]
  },
  {
   "cell_type": "code",
   "execution_count": 1,
   "metadata": {},
   "outputs": [
    {
     "name": "stdout",
     "output_type": "stream",
     "text": [
      "D\n",
      "[<class '__main__.D'>, <class '__main__.B'>, <class '__main__.C'>, <class '__main__.A'>, <class 'object'>]\n"
     ]
    }
   ],
   "source": [
    "# Herança Múltipla - Python Orientado a Objetos\n",
    "# Quer dizer que no Python, uma classe pode estender\n",
    "# várias outras classes.\n",
    "# Herança simples:\n",
    "# Animal -> Mamifero -> Humano -> Pessoa -> Cliente\n",
    "# Herança múltipla e mixins\n",
    "# Log -> FileLog\n",
    "# Animal -> Mamifero -> Humano -> Pessoa -> Cliente\n",
    "# Cliente(Pessoa, FileLog)\n",
    "#\n",
    "# A, B, C, D\n",
    "# D(B, C) - C(A) - B(A) - A\n",
    "#\n",
    "# método -> falar\n",
    "#           A\n",
    "#         /   \\\n",
    "#        B     C\n",
    "#         \\   /\n",
    "#           D\n",
    "#\n",
    "# Python 3 usa C3 superclass linearization\n",
    "# para gerar o mro.\n",
    "# Você não precisa estudar isso (é complexo)\n",
    "# https://en.wikipedia.org/wiki/C3_linearization\n",
    "#\n",
    "# Para saber a ordem de chamada dos métodos\n",
    "# Use o método de classe Classe.mro()\n",
    "# Ou o atributo __mro__ (Dunder - Double Underscore)\n",
    "\n",
    "class A:\n",
    "    ...\n",
    "\n",
    "    def quem_sou(self):\n",
    "        print('A')\n",
    "\n",
    "\n",
    "class B(A):\n",
    "    ...\n",
    "\n",
    "    # def quem_sou(self):\n",
    "    #     print('B')\n",
    "\n",
    "\n",
    "class C(A):\n",
    "    ...\n",
    "\n",
    "    def quem_sou(self):\n",
    "        print('C')\n",
    "\n",
    "\n",
    "class D(B, C):\n",
    "    ...\n",
    "\n",
    "    def quem_sou(self):\n",
    "        print('D')\n",
    "\n",
    "\n",
    "d = D()\n",
    "d.quem_sou()\n",
    "# print(D.__mro__)\n",
    "print(D.mro())"
   ]
  }
 ],
 "metadata": {
  "kernelspec": {
   "display_name": "Python 3",
   "language": "python",
   "name": "python3"
  },
  "language_info": {
   "codemirror_mode": {
    "name": "ipython",
    "version": 3
   },
   "file_extension": ".py",
   "mimetype": "text/x-python",
   "name": "python",
   "nbconvert_exporter": "python",
   "pygments_lexer": "ipython3",
   "version": "3.8.10"
  }
 },
 "nbformat": 4,
 "nbformat_minor": 2
}
