{
 "cells": [
  {
   "cell_type": "code",
   "execution_count": 22,
   "metadata": {},
   "outputs": [],
   "source": [
    "# Pascal Case para nomes de classe\n",
    "\n",
    "class Carro:\n",
    "    ano = 2003\n",
    "    \n",
    "    # Inicializa os atributos da classe\n",
    "    def __init__(self, nome):\n",
    "        self.nome = nome\n",
    "\n",
    "    def acelerar(self):\n",
    "        print(f'{self.nome} está acelerando...')\n",
    "\n",
    "    def getIdade(self):\n",
    "        return 2024 - Carro.ano"
   ]
  },
  {
   "cell_type": "code",
   "execution_count": 23,
   "metadata": {},
   "outputs": [
    {
     "name": "stdout",
     "output_type": "stream",
     "text": [
      "Fusca\n",
      "Fusca está acelerando...\n"
     ]
    }
   ],
   "source": [
    "fusca = Carro('Fusca')\n",
    "\n",
    "print(fusca.nome)\n",
    "\n",
    "fusca.acelerar()"
   ]
  },
  {
   "cell_type": "code",
   "execution_count": 24,
   "metadata": {},
   "outputs": [
    {
     "name": "stdout",
     "output_type": "stream",
     "text": [
      "Celta\n",
      "Celta está acelerando...\n"
     ]
    }
   ],
   "source": [
    "celta = Carro('Celta')\n",
    "\n",
    "print(celta.nome)\n",
    "\n",
    "celta.acelerar()"
   ]
  },
  {
   "cell_type": "code",
   "execution_count": 26,
   "metadata": {},
   "outputs": [
    {
     "data": {
      "text/plain": [
       "(21, 21)"
      ]
     },
     "execution_count": 26,
     "metadata": {},
     "output_type": "execute_result"
    }
   ],
   "source": [
    "fusca.getIdade(), celta.getIdade()"
   ]
  }
 ],
 "metadata": {
  "kernelspec": {
   "display_name": "Python 3",
   "language": "python",
   "name": "python3"
  },
  "language_info": {
   "codemirror_mode": {
    "name": "ipython",
    "version": 3
   },
   "file_extension": ".py",
   "mimetype": "text/x-python",
   "name": "python",
   "nbconvert_exporter": "python",
   "pygments_lexer": "ipython3",
   "version": "3.12.4"
  }
 },
 "nbformat": 4,
 "nbformat_minor": 2
}
