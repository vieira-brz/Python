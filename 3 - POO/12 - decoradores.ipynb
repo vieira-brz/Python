{
 "cells": [
  {
   "cell_type": "code",
   "execution_count": 2,
   "metadata": {},
   "outputs": [
    {
     "name": "stdout",
     "output_type": "stream",
     "text": [
      "Time({'nome': 'Brasil'})\n",
      "Time({'nome': 'Portugal'})\n",
      "Planeta({'nome': 'Terra'})\n",
      "Planeta({'nome': 'Marte'})\n",
      "Você está em casa\n",
      "O planeta é Marte\n"
     ]
    }
   ],
   "source": [
    "# Funções decoradoras e decoradores com métodos\n",
    "\n",
    "def meu_repr(self):\n",
    "    class_name = self.__class__.__name__\n",
    "    class_dict = self.__dict__\n",
    "    class_repr = f'{class_name}({class_dict})'\n",
    "    return class_repr\n",
    "\n",
    "\n",
    "def adiciona_repr(cls):\n",
    "    cls.__repr__ = meu_repr\n",
    "    return cls\n",
    "\n",
    "\n",
    "def meu_planeta(metodo):\n",
    "    def interno(self, *args, **kwargs):\n",
    "        resultado = metodo(self, *args, **kwargs)\n",
    "\n",
    "        if 'Terra' in resultado:\n",
    "            return 'Você está em casa'\n",
    "        return resultado\n",
    "    return interno\n",
    "\n",
    "\n",
    "@adiciona_repr\n",
    "class Time:\n",
    "    def __init__(self, nome):\n",
    "        self.nome = nome\n",
    "\n",
    "\n",
    "@adiciona_repr\n",
    "class Planeta:\n",
    "    def __init__(self, nome):\n",
    "        self.nome = nome\n",
    "\n",
    "    @meu_planeta\n",
    "    def falar_nome(self):\n",
    "        return f'O planeta é {self.nome}'\n",
    "\n",
    "\n",
    "brasil = Time('Brasil')\n",
    "portugal = Time('Portugal')\n",
    "\n",
    "terra = Planeta('Terra')\n",
    "marte = Planeta('Marte')\n",
    "\n",
    "print(brasil)\n",
    "print(portugal)\n",
    "\n",
    "print(terra)\n",
    "print(marte)\n",
    "\n",
    "print(terra.falar_nome())\n",
    "print(marte.falar_nome())"
   ]
  },
  {
   "cell_type": "code",
   "execution_count": 5,
   "metadata": {},
   "outputs": [
    {
     "name": "stdout",
     "output_type": "stream",
     "text": [
      "12\n"
     ]
    }
   ],
   "source": [
    "# Classes decoradoras (Decorator classes)\n",
    "class Multiplicar:\n",
    "    def __init__(self, multiplicador):\n",
    "        self._multiplicador = multiplicador\n",
    "\n",
    "    def __call__(self, func):\n",
    "        def interna(*args, **kwargs):\n",
    "            resultado = func(*args, **kwargs)\n",
    "            return resultado * self._multiplicador\n",
    "        return interna\n",
    "\n",
    "\n",
    "@Multiplicar(2)\n",
    "def soma(x, y):\n",
    "    return x + y\n",
    "\n",
    "\n",
    "dois_mais_quatro = soma(2, 4)\n",
    "print(dois_mais_quatro)"
   ]
  }
 ],
 "metadata": {
  "kernelspec": {
   "display_name": "Python 3",
   "language": "python",
   "name": "python3"
  },
  "language_info": {
   "codemirror_mode": {
    "name": "ipython",
    "version": 3
   },
   "file_extension": ".py",
   "mimetype": "text/x-python",
   "name": "python",
   "nbconvert_exporter": "python",
   "pygments_lexer": "ipython3",
   "version": "3.8.10"
  }
 },
 "nbformat": 4,
 "nbformat_minor": 2
}
