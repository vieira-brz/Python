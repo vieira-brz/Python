{
 "cells": [
  {
   "cell_type": "code",
   "execution_count": null,
   "metadata": {},
   "outputs": [],
   "source": [
    "\"\"\"Este é um módulo de exemplo\n",
    "\n",
    "Este módulo contém funções e exemplos de documentação de funções.\n",
    "A função soma você já conhece bastante.\n",
    "\"\"\"\n",
    "\n",
    "variavel_1 = 1\n",
    "\n",
    "# def soma(x, y):\n",
    "\n",
    "def soma(x: int | float, y: int | float) -> int | float:\n",
    "\n",
    "    \"\"\"Soma x e y\n",
    "\n",
    "    Este módulo contém funções e exemplos de documentação de funções.\n",
    "    A função soma você já conhece bastante.\n",
    "\n",
    "    :param x: Número 1\n",
    "    :type x: int or float\n",
    "    :param y: Número 2\n",
    "    :type y: int or float\n",
    "\n",
    "    :return: A soma entre x e y\n",
    "    :rtype: int or float\n",
    "    \"\"\"\n",
    "\n",
    "    return x + y\n",
    "\n",
    "\n",
    "def multiplica(\n",
    "    x: int | float,\n",
    "    y: int | float,\n",
    "    z: int | float | None = None\n",
    ") -> int | float:\n",
    "\n",
    "    \"\"\"Multiplica x, y e/ou z\n",
    "\n",
    "    Multiplica x e y. Se z for enviado, multiplica x, y, z.\n",
    "    \"\"\"\n",
    "\n",
    "    if z is None:\n",
    "        return x * y\n",
    "    return x * y * z\n",
    "\n",
    "\n",
    "variavel_2 = 2\n",
    "variavel_3 = 3\n",
    "variavel_4 = 4"
   ]
  },
  {
   "cell_type": "code",
   "execution_count": null,
   "metadata": {},
   "outputs": [],
   "source": [
    "# import nome_arquivo\n",
    "# help(nome_arquivo)"
   ]
  }
 ],
 "metadata": {
  "kernelspec": {
   "display_name": "Python 3",
   "language": "python",
   "name": "python3"
  },
  "language_info": {
   "codemirror_mode": {
    "name": "ipython",
    "version": 3
   },
   "file_extension": ".py",
   "mimetype": "text/x-python",
   "name": "python",
   "nbconvert_exporter": "python",
   "pygments_lexer": "ipython3",
   "version": "3.8.10"
  }
 },
 "nbformat": 4,
 "nbformat_minor": 2
}
