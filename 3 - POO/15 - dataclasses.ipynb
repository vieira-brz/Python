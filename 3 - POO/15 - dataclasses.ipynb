{
 "cells": [
  {
   "cell_type": "code",
   "execution_count": null,
   "metadata": {},
   "outputs": [],
   "source": [
    "# dataclasses - O que são dataclasses?\n",
    "# O módulo dataclasses fornece um decorador e funções para criar métodos como\n",
    "# __init__(), __repr__(), __eq__() (entre outros) em classes definidas pelo\n",
    "# usuário.\n",
    "# Em resumo: dataclasses são syntax sugar para criar classes normais.\n",
    "# Foi descrito na PEP 557 e adicionado na versão 3.7 do Python.\n",
    "# doc: https://docs.python.org/3/library/dataclasses.html\n",
    "from dataclasses import dataclass\n",
    "\n",
    "\n",
    "@dataclass\n",
    "class Pessoa:\n",
    "    nome: str\n",
    "    idade: int\n",
    "\n",
    "\n",
    "if __name__ == '__main__':\n",
    "    p1 = Pessoa('Luiz', 30)\n",
    "    p2 = Pessoa('Luiz', 30)\n",
    "    print(p1 == p2)"
   ]
  },
  {
   "cell_type": "markdown",
   "metadata": {},
   "source": [
    "Com métodos, property e setter..."
   ]
  },
  {
   "cell_type": "code",
   "execution_count": null,
   "metadata": {},
   "outputs": [],
   "source": [
    "@dataclass\n",
    "class Pessoa:\n",
    "    nome: str\n",
    "    sobrenome: str\n",
    "\n",
    "    @property\n",
    "    def nome_completo(self):\n",
    "        return f'{self.nome} {self.sobrenome}'\n",
    "\n",
    "    @nome_completo.setter\n",
    "    def nome_completo(self, valor):\n",
    "        nome, *sobrenome = valor.split()\n",
    "        self.nome = nome\n",
    "        self.sobrenome = ' '.join(sobrenome)\n",
    "\n",
    "\n",
    "if __name__ == '__main__':\n",
    "    p1 = Pessoa('Luiz', 'Otávio')\n",
    "    p1.nome_completo = 'Maria Helena'\n",
    "    print(p1)\n",
    "    print(p1.nome_completo)"
   ]
  },
  {
   "cell_type": "markdown",
   "metadata": {},
   "source": [
    "`__init__` e `__post_init__`"
   ]
  },
  {
   "cell_type": "code",
   "execution_count": null,
   "metadata": {},
   "outputs": [],
   "source": [
    "from dataclasses import dataclass\n",
    "\n",
    "\n",
    "@dataclass(init=False)\n",
    "class Pessoa:\n",
    "    nome: str\n",
    "    sobrenome: str\n",
    "\n",
    "    def __init__(self, nome, sobrenome):\n",
    "        self.nome = nome\n",
    "        self.sobrenome = sobrenome\n",
    "        self.nome_completo = f'{self.nome} {self.sobrenome}'\n",
    "\n",
    "    def __post_init__(self):\n",
    "        print('POST INIT')\n",
    "        \n",
    "\n",
    "if __name__ == '__main__':\n",
    "    p1 = Pessoa('Luiz', 'Otávio')\n",
    "    print(p1)\n",
    "    print(p1.nome_completo)"
   ]
  },
  {
   "cell_type": "markdown",
   "metadata": {},
   "source": [
    "Configuração decorator..."
   ]
  },
  {
   "cell_type": "code",
   "execution_count": null,
   "metadata": {},
   "outputs": [],
   "source": [
    "from dataclasses import dataclass\n",
    "\n",
    "\n",
    "@dataclass(repr=True)\n",
    "class Pessoa:\n",
    "    nome: str\n",
    "    sobrenome: str\n",
    "\n",
    "\n",
    "if __name__ == '__main__':\n",
    "    lista = [Pessoa('A', 'Z'), Pessoa('B', 'Y'), Pessoa('C', 'X')]\n",
    "    ordenadas = sorted(lista, reverse=True, key=lambda p: p.sobrenome)\n",
    "    print(ordenadas)"
   ]
  },
  {
   "cell_type": "markdown",
   "metadata": {},
   "source": [
    "Asdict e astuple..."
   ]
  },
  {
   "cell_type": "code",
   "execution_count": null,
   "metadata": {},
   "outputs": [],
   "source": [
    "# Em resumo: dataclasses são syntax sugar para criar classes normais.\n",
    "# Foi descrito na PEP 557 e adicionado na versão 3.7 do Python.\n",
    "# doc: https://docs.python.org/3/library/dataclasses.html\n",
    "from dataclasses import asdict, astuple, dataclass\n",
    "\n",
    "\n",
    "@dataclass\n",
    "class Pessoa:\n",
    "    nome: str\n",
    "    sobrenome: str\n",
    "\n",
    "\n",
    "if __name__ == '__main__':\n",
    "    p1 = Pessoa('Luiz', 'Otávio')\n",
    "    print(asdict(p1).keys())\n",
    "    print(asdict(p1).values())\n",
    "    print(asdict(p1).items())\n",
    "    print(astuple(p1)[0])"
   ]
  },
  {
   "cell_type": "markdown",
   "metadata": {},
   "source": [
    "Valores padrão, field e fields..."
   ]
  },
  {
   "cell_type": "code",
   "execution_count": null,
   "metadata": {},
   "outputs": [],
   "source": [
    "# Valores padrão e field em dataclasses\n",
    "# doc: https://docs.python.org/3/library/dataclasses.html\n",
    "from dataclasses import dataclass, field\n",
    "\n",
    "\n",
    "@dataclass\n",
    "class Pessoa:\n",
    "    nome: str = field(\n",
    "        default='MISSING', repr=False\n",
    "    )\n",
    "    sobrenome: str = 'Not sent'\n",
    "    idade: int = 100\n",
    "    enderecos: list[str] = field(default_factory=list)\n",
    "\n",
    "\n",
    "if __name__ == '__main__':\n",
    "    p1 = Pessoa()\n",
    "    # print(fields(p1))\n",
    "    print(p1)"
   ]
  }
 ],
 "metadata": {
  "language_info": {
   "name": "python"
  }
 },
 "nbformat": 4,
 "nbformat_minor": 2
}
