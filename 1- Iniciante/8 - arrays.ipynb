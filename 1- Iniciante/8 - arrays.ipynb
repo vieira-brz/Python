{
 "cells": [
  {
   "cell_type": "markdown",
   "metadata": {},
   "source": [
    "### List\n",
    "\n",
    "- Mutável\n",
    "\n",
    "- Suporta vários valores de qualquer tipo\n",
    "\n",
    "- Conhecimento reutilizáveis - índices e fatiamento\n",
    "\n",
    "- Métodos Úteis: append, insert, pop, del, clear, extend, +"
   ]
  },
  {
   "cell_type": "code",
   "execution_count": 18,
   "metadata": {},
   "outputs": [
    {
     "data": {
      "text/plain": [
       "[123, True, 'Vini', 1.5, []]"
      ]
     },
     "execution_count": 18,
     "metadata": {},
     "output_type": "execute_result"
    }
   ],
   "source": [
    "lista = [123, True, 'Vini', 1.50, []]\n",
    "lista"
   ]
  },
  {
   "cell_type": "code",
   "execution_count": 19,
   "metadata": {},
   "outputs": [
    {
     "data": {
      "text/plain": [
       "('VINI', str)"
      ]
     },
     "execution_count": 19,
     "metadata": {},
     "output_type": "execute_result"
    }
   ],
   "source": [
    "lista[2].upper(), type(lista[2])"
   ]
  },
  {
   "cell_type": "code",
   "execution_count": 20,
   "metadata": {},
   "outputs": [
    {
     "data": {
      "text/plain": [
       "[123, True, 'Vinicius', 1.5, []]"
      ]
     },
     "execution_count": 20,
     "metadata": {},
     "output_type": "execute_result"
    }
   ],
   "source": [
    "lista[-3] = 'Vinicius'\n",
    "lista"
   ]
  },
  {
   "cell_type": "code",
   "execution_count": 21,
   "metadata": {},
   "outputs": [
    {
     "name": "stdout",
     "output_type": "stream",
     "text": [
      "[10, 20, 30, 40, 50]\n",
      "[10, 30, 40, 50]\n",
      "[10, 30, 40]\n",
      "[10, 20, 30, 40]\n"
     ]
    }
   ],
   "source": [
    "lista = [10, 20, 30, 40]\n",
    "\n",
    "# Append\n",
    "lista.append(50)            \n",
    "print(lista)\n",
    "\n",
    "# Delete\n",
    "del lista[1]\n",
    "print(lista)\n",
    "\n",
    "# Pop (remove último elemento) -->> se passar um número com parâmetro ele remove pela posição do item!\n",
    "lista.pop()\n",
    "print(lista)\n",
    "\n",
    "# Insert (índice, valor)\n",
    "lista.insert(1, 20)\n",
    "print(lista)"
   ]
  },
  {
   "cell_type": "code",
   "execution_count": 22,
   "metadata": {},
   "outputs": [
    {
     "name": "stdout",
     "output_type": "stream",
     "text": [
      "pri=[1, 2, 3] \n",
      "sec=[4, 5, 6] \n",
      "ter=[1, 2, 3, 4, 5, 6] \n",
      "qua=[1, 2, 3, 4, 5, 6]\n"
     ]
    }
   ],
   "source": [
    "pri = [1, 2, 3]\n",
    "sec = [4, 5, 6]\n",
    "\n",
    "# Concatenando listas\n",
    "ter = pri + sec\n",
    "\n",
    "# Extendendo lista\n",
    "qua = pri.copy()     # copy   -->> para não alterar a lista -->> pri\n",
    "qua.extend(sec)      # extend -->> mexe diretamente na lista (não retorna nada)\n",
    "\n",
    "print(f'{pri=} \\n{sec=} \\n{ter=} \\n{qua=}')"
   ]
  },
  {
   "cell_type": "markdown",
   "metadata": {},
   "source": [
    "### Tupla"
   ]
  },
  {
   "cell_type": "markdown",
   "metadata": {},
   "source": [
    "Uma tupla é imutável:"
   ]
  },
  {
   "cell_type": "code",
   "execution_count": 23,
   "metadata": {},
   "outputs": [
    {
     "ename": "TypeError",
     "evalue": "'tuple' object does not support item assignment",
     "output_type": "error",
     "traceback": [
      "\u001b[0;31m---------------------------------------------------------------------------\u001b[0m",
      "\u001b[0;31mTypeError\u001b[0m                                 Traceback (most recent call last)",
      "Cell \u001b[0;32mIn[23], line 2\u001b[0m\n\u001b[1;32m      1\u001b[0m nomes \u001b[38;5;241m=\u001b[39m \u001b[38;5;124m'\u001b[39m\u001b[38;5;124mAna\u001b[39m\u001b[38;5;124m'\u001b[39m, \u001b[38;5;124m'\u001b[39m\u001b[38;5;124mMaria\u001b[39m\u001b[38;5;124m'\u001b[39m, \u001b[38;5;124m'\u001b[39m\u001b[38;5;124mBraga\u001b[39m\u001b[38;5;124m'\u001b[39m         \u001b[38;5;66;03m# Criando uma tupla\u001b[39;00m\n\u001b[0;32m----> 2\u001b[0m \u001b[43mnomes\u001b[49m\u001b[43m[\u001b[49m\u001b[38;5;241;43m0\u001b[39;49m\u001b[43m]\u001b[49m \u001b[38;5;241m=\u001b[39m \u001b[38;5;124m'\u001b[39m\u001b[38;5;124mAnas\u001b[39m\u001b[38;5;124m'\u001b[39m\n",
      "\u001b[0;31mTypeError\u001b[0m: 'tuple' object does not support item assignment"
     ]
    }
   ],
   "source": [
    "nomes = 'Ana', 'Maria', 'Braga'         # Criando uma tupla\n",
    "nomes[0] = 'Anas'"
   ]
  },
  {
   "cell_type": "code",
   "execution_count": null,
   "metadata": {},
   "outputs": [],
   "source": [
    "nomes = ('Ana', 'Maria', 'Braga')           # Criando tupla\n",
    "nomes = tuple(['Ana', 'Maria', 'Braga'])    # Criando tupla a partir da conversão de uma lista"
   ]
  },
  {
   "cell_type": "code",
   "execution_count": null,
   "metadata": {},
   "outputs": [
    {
     "data": {
      "text/plain": [
       "('Ana', 'Maria', 'Braga')"
      ]
     },
     "execution_count": 7,
     "metadata": {},
     "output_type": "execute_result"
    }
   ],
   "source": [
    "nomes"
   ]
  },
  {
   "cell_type": "code",
   "execution_count": 1,
   "metadata": {},
   "outputs": [
    {
     "name": "stdout",
     "output_type": "stream",
     "text": [
      "{'valor': 'A', 'naipe': 'NAIPE'}\n",
      "Carta(valor='A', naipe='NAIPE')\n",
      "A\n",
      "A\n",
      "NAIPE\n",
      "NAIPE\n",
      "\n",
      "('valor', 'naipe')\n",
      "{'valor': 'VALOR', 'naipe': 'NAIPE'}\n",
      "A\n",
      "NAIPE\n"
     ]
    }
   ],
   "source": [
    "# namedtuples - tuplas imutáveis com nomes para valores\n",
    "# Usamos namedtuples para criar classes de objetos que são apenas um\n",
    "# agrupamento de atributos, como classes normais sem métodos, ou registros de\n",
    "# bases de dados, etc.\n",
    "# As namedtuples são imutáveis assim como as tuplas.\n",
    "# https://docs.python.org/3/library/collections.html#collections.namedtuple\n",
    "# https://docs.python.org/3/library/typing.html#typing.NamedTuple\n",
    "# https://brasilescola.uol.com.br/curiosidades/baralho.htm\n",
    "# from collections import namedtuple\n",
    "from typing import NamedTuple\n",
    "\n",
    "\n",
    "class Carta(NamedTuple):\n",
    "    valor: str = 'VALOR'\n",
    "    naipe: str = 'NAIPE'\n",
    "\n",
    "\n",
    "# Carta = namedtuple(\n",
    "#     'Carta', ['valor', 'naipe'],\n",
    "#     defaults=['VALOR', 'NAIPE']\n",
    "# )\n",
    "as_espadas = Carta('A')\n",
    "\n",
    "print(as_espadas._asdict())\n",
    "print(as_espadas)\n",
    "print(as_espadas[0])\n",
    "print(as_espadas.valor)\n",
    "print(as_espadas[1])\n",
    "print(as_espadas.naipe)\n",
    "\n",
    "print()\n",
    "print(as_espadas._fields)\n",
    "print(as_espadas._field_defaults)\n",
    "\n",
    "\n",
    "for valor in as_espadas:\n",
    "    print(valor)"
   ]
  },
  {
   "cell_type": "markdown",
   "metadata": {},
   "source": [
    "### Empacotamento e Desempacotamento"
   ]
  },
  {
   "cell_type": "markdown",
   "metadata": {},
   "source": [
    "Empacotando"
   ]
  },
  {
   "cell_type": "code",
   "execution_count": 27,
   "metadata": {},
   "outputs": [
    {
     "data": {
      "text/plain": [
       "['Vinicius', 'Vieira', 'Braz']"
      ]
     },
     "execution_count": 27,
     "metadata": {},
     "output_type": "execute_result"
    }
   ],
   "source": [
    "nomes = ['Vinicius', 'Vieira', 'Braz']\n",
    "nomes"
   ]
  },
  {
   "cell_type": "markdown",
   "metadata": {},
   "source": [
    "Desempacotando"
   ]
  },
  {
   "cell_type": "code",
   "execution_count": null,
   "metadata": {},
   "outputs": [
    {
     "data": {
      "text/plain": [
       "'Vieira'"
      ]
     },
     "execution_count": 4,
     "metadata": {},
     "output_type": "execute_result"
    }
   ],
   "source": [
    "nome1, nome2, nome3 = nomes\n",
    "\n",
    "nome2"
   ]
  },
  {
   "cell_type": "code",
   "execution_count": null,
   "metadata": {},
   "outputs": [
    {
     "data": {
      "text/plain": [
       "('Vinicius', ['Vieira', 'Braz'])"
      ]
     },
     "execution_count": 5,
     "metadata": {},
     "output_type": "execute_result"
    }
   ],
   "source": [
    "nome1, *_ = nomes\n",
    "\n",
    "nome1, _"
   ]
  },
  {
   "cell_type": "code",
   "execution_count": 28,
   "metadata": {},
   "outputs": [
    {
     "data": {
      "text/plain": [
       "('Vinicius', 'Braz')"
      ]
     },
     "execution_count": 28,
     "metadata": {},
     "output_type": "execute_result"
    }
   ],
   "source": [
    "nome1, *_, nomeFinal = nomes\n",
    "\n",
    "nome1, nomeFinal"
   ]
  },
  {
   "cell_type": "markdown",
   "metadata": {},
   "source": [
    "### Enumerate"
   ]
  },
  {
   "cell_type": "code",
   "execution_count": 24,
   "metadata": {},
   "outputs": [
    {
     "data": {
      "text/plain": [
       "<enumerate at 0x7ff00078f240>"
      ]
     },
     "execution_count": 24,
     "metadata": {},
     "output_type": "execute_result"
    }
   ],
   "source": [
    "lista = ['Maria', 'Helena', 'Luiz']\n",
    "lista.append('João')\n",
    "\n",
    "lista_enumerada = enumerate(lista)\n",
    "lista_enumerada"
   ]
  },
  {
   "cell_type": "code",
   "execution_count": 25,
   "metadata": {},
   "outputs": [
    {
     "name": "stdout",
     "output_type": "stream",
     "text": [
      "0 Maria (0, 'Maria')\n",
      "1 Helena (1, 'Helena')\n",
      "2 Luiz (2, 'Luiz')\n",
      "3 João (3, 'João')\n"
     ]
    }
   ],
   "source": [
    "for item in lista_enumerada:\n",
    "    idx, nome = item\n",
    "    print(idx, nome, item)"
   ]
  },
  {
   "cell_type": "markdown",
   "metadata": {},
   "source": [
    "### -"
   ]
  },
  {
   "cell_type": "markdown",
   "metadata": {},
   "source": [
    "### Exercícios"
   ]
  },
  {
   "cell_type": "code",
   "execution_count": null,
   "metadata": {},
   "outputs": [],
   "source": [
    "import os\n",
    "\n",
    "lista = []\n",
    "while True:\n",
    "    print('Selecione uma opção:')\n",
    "    opcao = input('[i]nserir [a]pagar [l]istar: ')\n",
    "\n",
    "    if opcao == 'i':\n",
    "        os.system('clear')\n",
    "        valor = input('Valor: ')\n",
    "        lista.append(valor)\n",
    "\n",
    "    elif opcao == 'a':\n",
    "        indice_str = input('Escolha o índice para apagar: ')\n",
    "\n",
    "        try: \n",
    "            indice = int(indice_str)\n",
    "            del lista[indice]\n",
    "        except:\n",
    "            print('Não foi possível apagar esse index!')\n",
    "    \n",
    "    elif opcao == 'l':\n",
    "        os.system('clear')\n",
    "\n",
    "        if len(lista) == 0:\n",
    "            print('Nada para listar')\n",
    "\n",
    "        for i, valor in enumerate(lista):\n",
    "            print(i, valor)       "
   ]
  }
 ],
 "metadata": {
  "kernelspec": {
   "display_name": "Python 3",
   "language": "python",
   "name": "python3"
  },
  "language_info": {
   "codemirror_mode": {
    "name": "ipython",
    "version": 3
   },
   "file_extension": ".py",
   "mimetype": "text/x-python",
   "name": "python",
   "nbconvert_exporter": "python",
   "pygments_lexer": "ipython3",
   "version": "3.8.10"
  }
 },
 "nbformat": 4,
 "nbformat_minor": 2
}
