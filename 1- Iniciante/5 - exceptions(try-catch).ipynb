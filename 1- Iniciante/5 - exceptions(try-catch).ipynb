{
 "cells": [
  {
   "cell_type": "markdown",
   "metadata": {},
   "source": [
    "### Try Catch"
   ]
  },
  {
   "cell_type": "code",
   "execution_count": 2,
   "metadata": {},
   "outputs": [
    {
     "name": "stdout",
     "output_type": "stream",
     "text": [
      "Trecho 1\n",
      "Isso não é um número\n"
     ]
    }
   ],
   "source": [
    "try:\n",
    "    print('Trecho 1')\n",
    "    \n",
    "    numero = float('Teste')\n",
    "    \n",
    "    print('Trecho 2')\n",
    "    \n",
    "    print(f'Dobro de {numero} é {numero * 2}')\n",
    "except:\n",
    "    print('Isso não é um número')"
   ]
  },
  {
   "cell_type": "code",
   "execution_count": 3,
   "metadata": {},
   "outputs": [
    {
     "name": "stdout",
     "output_type": "stream",
     "text": [
      "Trecho 1\n",
      "Trecho 2\n",
      "Dobro de 20.0 é 40.0\n"
     ]
    }
   ],
   "source": [
    "try:\n",
    "    print('Trecho 1')\n",
    "    \n",
    "    numero = float('20')\n",
    "    \n",
    "    print('Trecho 2')\n",
    "    \n",
    "    print(f'Dobro de {numero} é {numero * 2}')\n",
    "except:\n",
    "    print('Isso não é um número')"
   ]
  }
 ],
 "metadata": {
  "kernelspec": {
   "display_name": "Python 3",
   "language": "python",
   "name": "python3"
  },
  "language_info": {
   "codemirror_mode": {
    "name": "ipython",
    "version": 3
   },
   "file_extension": ".py",
   "mimetype": "text/x-python",
   "name": "python",
   "nbconvert_exporter": "python",
   "pygments_lexer": "ipython3",
   "version": "3.8.10"
  }
 },
 "nbformat": 4,
 "nbformat_minor": 2
}
