{
 "cells": [
  {
   "cell_type": "markdown",
   "metadata": {},
   "source": [
    "- Iterável -->> str, range, etc (\\_\\_iter\\_\\_)\n",
    "\n",
    "- Iterador -->> quem sabe entregar um valor por vez\n",
    "\n",
    "- Next -->> me entregue o próximo valor\n",
    "\n",
    "- Iter -->> me entregue seu iterador"
   ]
  },
  {
   "cell_type": "code",
   "execution_count": 55,
   "metadata": {},
   "outputs": [
    {
     "data": {
      "text/plain": [
       "<str_ascii_iterator at 0x1b632408160>"
      ]
     },
     "execution_count": 55,
     "metadata": {},
     "output_type": "execute_result"
    }
   ],
   "source": [
    "texto = 'Vini'.__iter__()\n",
    "texto"
   ]
  },
  {
   "cell_type": "code",
   "execution_count": 59,
   "metadata": {},
   "outputs": [
    {
     "name": "stdout",
     "output_type": "stream",
     "text": [
      "<str_ascii_iterator object at 0x000001B63240BCA0> V i\n"
     ]
    }
   ],
   "source": [
    "texto = iter('Vini')\n",
    "print(\n",
    "    texto, \n",
    "    texto.__next__(),\n",
    "    next(texto)\n",
    ")"
   ]
  },
  {
   "cell_type": "markdown",
   "metadata": {},
   "source": [
    "### While"
   ]
  },
  {
   "cell_type": "code",
   "execution_count": 2,
   "metadata": {},
   "outputs": [
    {
     "name": "stdout",
     "output_type": "stream",
     "text": [
      "Nome = Vinicius\n",
      "Nome = Vinio\n",
      "Nome = sair\n",
      "Fim do while...\n"
     ]
    }
   ],
   "source": [
    "condicao = True\n",
    "\n",
    "while condicao:\n",
    "\n",
    "    nome = input('Nome: ')\n",
    "    print(f'Nome = {nome}')\n",
    "\n",
    "    if nome == 'sair':\n",
    "        break # Procura o loop mais próximo\n",
    "\n",
    "print('Fim do while...') "
   ]
  },
  {
   "cell_type": "code",
   "execution_count": 4,
   "metadata": {},
   "outputs": [
    {
     "name": "stdout",
     "output_type": "stream",
     "text": [
      "1\n",
      "2\n",
      "3\n",
      "4\n",
      "5\n",
      "6\n",
      "7\n",
      "8\n",
      "9\n",
      "10\n",
      "Fim do código...\n"
     ]
    }
   ],
   "source": [
    "contador = 0\n",
    "\n",
    "while contador < 10:\n",
    "    contador += 1\n",
    "    print(contador)\n",
    "\n",
    "print('Fim do código...')"
   ]
  },
  {
   "cell_type": "code",
   "execution_count": 6,
   "metadata": {},
   "outputs": [
    {
     "name": "stdout",
     "output_type": "stream",
     "text": [
      "1\n",
      "2\n",
      "3\n",
      "4\n",
      "5\n",
      "Não vou mostrar o 6\n",
      "7\n",
      "8\n",
      "9\n",
      "10\n",
      "Fim do código...\n"
     ]
    }
   ],
   "source": [
    "contador = 0\n",
    "\n",
    "while contador <= 15:\n",
    "\n",
    "    contador += 1\n",
    "    \n",
    "    if contador == 6:\n",
    "        print('Não vou mostrar o 6')\n",
    "        continue # -->> isso vai pular essa etapa\n",
    "\n",
    "    print(contador)\n",
    "\n",
    "    if contador == 10:\n",
    "        break # -->> isso quebra o laço\n",
    "\n",
    "print('Fim do código...')"
   ]
  },
  {
   "cell_type": "code",
   "execution_count": 9,
   "metadata": {},
   "outputs": [
    {
     "name": "stdout",
     "output_type": "stream",
     "text": [
      "linha=1 coluna=1\n",
      "linha=1 coluna=2\n",
      "linha=1 coluna=3\n",
      "linha=1 coluna=4\n",
      "linha=1 coluna=5\n",
      "linha=2 coluna=1\n",
      "linha=2 coluna=2\n",
      "linha=2 coluna=3\n",
      "linha=2 coluna=4\n",
      "linha=2 coluna=5\n",
      "linha=3 coluna=1\n",
      "linha=3 coluna=2\n",
      "linha=3 coluna=3\n",
      "linha=3 coluna=4\n",
      "linha=3 coluna=5\n",
      "linha=4 coluna=1\n",
      "linha=4 coluna=2\n",
      "linha=4 coluna=3\n",
      "linha=4 coluna=4\n",
      "linha=4 coluna=5\n",
      "linha=5 coluna=1\n",
      "linha=5 coluna=2\n",
      "linha=5 coluna=3\n",
      "linha=5 coluna=4\n",
      "linha=5 coluna=5\n",
      "Fim do código...\n"
     ]
    }
   ],
   "source": [
    "linhas = 5\n",
    "colunas = 5\n",
    "\n",
    "linha = 1\n",
    "while linha <= linhas:\n",
    "\n",
    "    coluna = 1\n",
    "    while coluna <= colunas:\n",
    "        print(f'{linha=} {coluna=}')\n",
    "        coluna += 1\n",
    "\n",
    "    linha += 1\n",
    "\n",
    "print('Fim do código...')"
   ]
  },
  {
   "cell_type": "markdown",
   "metadata": {},
   "source": [
    "### For In"
   ]
  },
  {
   "cell_type": "code",
   "execution_count": 41,
   "metadata": {},
   "outputs": [
    {
     "name": "stdout",
     "output_type": "stream",
     "text": [
      "T\n",
      "e\n",
      "s\n",
      "t\n",
      "e\n"
     ]
    }
   ],
   "source": [
    "texto = 'Teste'\n",
    "\n",
    "for letra in texto:\n",
    "    print(letra)"
   ]
  },
  {
   "cell_type": "markdown",
   "metadata": {},
   "source": [
    "### Range + For\n",
    "\n",
    "range -->> range(start, stop, step)"
   ]
  },
  {
   "cell_type": "code",
   "execution_count": 52,
   "metadata": {},
   "outputs": [
    {
     "name": "stdout",
     "output_type": "stream",
     "text": [
      "0\n",
      "1\n",
      "2\n",
      "3\n",
      "4\n"
     ]
    }
   ],
   "source": [
    "numeros = range(5)\n",
    "\n",
    "for i in numeros:\n",
    "    print(i)"
   ]
  },
  {
   "cell_type": "code",
   "execution_count": 51,
   "metadata": {},
   "outputs": [
    {
     "name": "stdout",
     "output_type": "stream",
     "text": [
      "10\n",
      "11\n",
      "12\n",
      "13\n",
      "14\n"
     ]
    }
   ],
   "source": [
    "numeros = range(10, 15)\n",
    "\n",
    "for i in numeros:\n",
    "    print(i)"
   ]
  },
  {
   "cell_type": "code",
   "execution_count": 48,
   "metadata": {},
   "outputs": [
    {
     "name": "stdout",
     "output_type": "stream",
     "text": [
      "0\n",
      "5\n",
      "10\n",
      "15\n"
     ]
    }
   ],
   "source": [
    "numeros = range(0, 20, 5)\n",
    "\n",
    "for i in numeros:\n",
    "    print(i)"
   ]
  },
  {
   "cell_type": "markdown",
   "metadata": {},
   "source": [
    "---\n",
    "\n",
    "## Exercício"
   ]
  },
  {
   "cell_type": "markdown",
   "metadata": {},
   "source": [
    "### While"
   ]
  },
  {
   "cell_type": "markdown",
   "metadata": {},
   "source": [
    "Reconstrução de string"
   ]
  },
  {
   "cell_type": "code",
   "execution_count": 19,
   "metadata": {},
   "outputs": [
    {
     "name": "stdout",
     "output_type": "stream",
     "text": [
      "Teste de While\n"
     ]
    }
   ],
   "source": [
    "string = 'Teste de While'\n",
    "\n",
    "i = 0\n",
    "new_str = ''\n",
    "\n",
    "while i < len(string):\n",
    "    new_str += string[i]\n",
    "    i += 1\n",
    "\n",
    "print(new_str)"
   ]
  },
  {
   "cell_type": "markdown",
   "metadata": {},
   "source": [
    "Alteração de letras da string"
   ]
  },
  {
   "cell_type": "code",
   "execution_count": 17,
   "metadata": {},
   "outputs": [
    {
     "name": "stdout",
     "output_type": "stream",
     "text": [
      "73s73 d3 al73raçã0 d3 val0r\n"
     ]
    }
   ],
   "source": [
    "string = 'Teste de alteração de valor'\n",
    "\n",
    "i = 0\n",
    "new_str = ''\n",
    "\n",
    "while i < len(string):\n",
    "\n",
    "    letra = string[i]\n",
    "\n",
    "    if letra == 'e':\n",
    "        letra = '3'\n",
    "    elif letra == 'o':\n",
    "        letra = '0'\n",
    "    elif letra == 't' or letra == 'T':\n",
    "        letra = '7'\n",
    "\n",
    "    new_str += letra\n",
    "    i += 1\n",
    "\n",
    "print(new_str)"
   ]
  },
  {
   "cell_type": "code",
   "execution_count": 29,
   "metadata": {},
   "outputs": [
    {
     "name": "stdout",
     "output_type": "stream",
     "text": [
      "Resultado anterior + 2.0 = 2.0\n",
      "Resultado anterior - 1.0 = 1.0\n",
      "Resultado anterior * 10.0 = 10.0\n",
      "Resultado anterior / 2.0 = 5.0\n",
      "Resultado da equação: 5.0\n"
     ]
    }
   ],
   "source": [
    "condicao = True\n",
    "\n",
    "resultado = 0\n",
    "while condicao:\n",
    "    operacao = input('Operação (+, -, /, *, [s]air): ').lower()\n",
    "\n",
    "    if operacao.startswith('s'):\n",
    "        condicao = False  \n",
    "    else:\n",
    "        valor = float(input('Valor numérico: '))\n",
    "\n",
    "        if operacao == '+':\n",
    "            resultado += valor\n",
    "\n",
    "        elif operacao == '-':\n",
    "            resultado -= valor\n",
    "        \n",
    "        elif operacao == '/':\n",
    "            resultado /= valor\n",
    "        \n",
    "        elif operacao == '*':\n",
    "            resultado *= valor\n",
    "\n",
    "        print(f'Resultado anterior {operacao} {valor} = {resultado}')\n",
    "\n",
    "print('Você saiu do programa!' if resultado == 0 else f'Resultado da equação: {resultado}')"
   ]
  },
  {
   "cell_type": "markdown",
   "metadata": {},
   "source": [
    "Verificar qual letra apareceu mais vezes na frase"
   ]
  },
  {
   "cell_type": "code",
   "execution_count": 40,
   "metadata": {},
   "outputs": [
    {
     "name": "stdout",
     "output_type": "stream",
     "text": [
      "A letra que apareceu mais vezes foi \"o\", que apareceu 10x\n"
     ]
    }
   ],
   "source": [
    "frase = 'O Python é uma linguagem de programação multiparadigma.'\\\n",
    "        'Python foi criado por Guido Van Rossum.'.lower()\n",
    "\n",
    "i = 0\n",
    "apareceu_mais_vezes = 0\n",
    "letra_aparecimento = ''\n",
    "\n",
    "while i < len(frase):\n",
    "\n",
    "    letra_atual = frase[i]\n",
    "    \n",
    "    if letra_atual == ' ':\n",
    "        i += 1\n",
    "        continue\n",
    "    \n",
    "    qtd_letra_na_string = frase.count(letra_atual)\n",
    "\n",
    "    if apareceu_mais_vezes < qtd_letra_na_string:\n",
    "        apareceu_mais_vezes = qtd_letra_na_string\n",
    "        letra_aparecimento = letra_atual\n",
    "\n",
    "    i += 1\n",
    "\n",
    "print('A letra que apareceu mais vezes foi ' \n",
    "      f'\"{letra_aparecimento}\", que apareceu ' \n",
    "      f'{apareceu_mais_vezes}x'\n",
    ")"
   ]
  },
  {
   "cell_type": "markdown",
   "metadata": {},
   "source": [
    "### For and While"
   ]
  },
  {
   "cell_type": "markdown",
   "metadata": {},
   "source": [
    "Jogo da Palavra Secreta"
   ]
  },
  {
   "cell_type": "code",
   "execution_count": 68,
   "metadata": {},
   "outputs": [
    {
     "name": "stdout",
     "output_type": "stream",
     "text": [
      "Você ganhou, parabéns!!!\n",
      "A palavra era: perfume\n",
      "Número de tentativas: 6\n"
     ]
    }
   ],
   "source": [
    "import os\n",
    "\n",
    "palavra = 'perfume'\n",
    "acertos = ''\n",
    "tentativas = 0\n",
    "\n",
    "while True:\n",
    "    letra = input('Letra: ')\n",
    "\n",
    "    # Validando digito de apenas uma letra\n",
    "    if len(letra) > 1:\n",
    "        print('Digite apenas uma letra!!')\n",
    "        continue\n",
    "\n",
    "    # Atribuindo acertos\n",
    "    if letra in palavra:\n",
    "        acertos += letra\n",
    "\n",
    "    tentativas += 1\n",
    "\n",
    "    # Mostrando a palavra\n",
    "    palavra_formada = ''\n",
    "\n",
    "    for letra_da_palavra in palavra:\n",
    "        if letra_da_palavra in acertos:\n",
    "            palavra_formada += letra_da_palavra\n",
    "        else:\n",
    "            palavra_formada += '*'\n",
    "    \n",
    "    if palavra_formada == palavra:\n",
    "        os.system('cls')\n",
    "        print('Você ganhou, parabéns!!!')\n",
    "        print('A palavra era:', palavra)\n",
    "        print('Número de tentativas:', tentativas)\n",
    "        break   "
   ]
  },
  {
   "cell_type": "markdown",
   "metadata": {},
   "source": [
    "### - "
   ]
  }
 ],
 "metadata": {
  "kernelspec": {
   "display_name": "Python 3",
   "language": "python",
   "name": "python3"
  },
  "language_info": {
   "codemirror_mode": {
    "name": "ipython",
    "version": 3
   },
   "file_extension": ".py",
   "mimetype": "text/x-python",
   "name": "python",
   "nbconvert_exporter": "python",
   "pygments_lexer": "ipython3",
   "version": "3.12.3"
  }
 },
 "nbformat": 4,
 "nbformat_minor": 2
}
