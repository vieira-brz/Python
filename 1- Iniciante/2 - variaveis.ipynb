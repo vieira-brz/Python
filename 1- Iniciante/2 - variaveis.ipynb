{
 "cells": [
  {
   "cell_type": "markdown",
   "metadata": {},
   "source": [
    "### Funções"
   ]
  },
  {
   "cell_type": "markdown",
   "metadata": {},
   "source": [
    "> Verificar tipo da variável"
   ]
  },
  {
   "cell_type": "code",
   "execution_count": 8,
   "metadata": {},
   "outputs": [
    {
     "data": {
      "text/plain": [
       "str"
      ]
     },
     "execution_count": 8,
     "metadata": {},
     "output_type": "execute_result"
    }
   ],
   "source": [
    "type('Teste')"
   ]
  },
  {
   "cell_type": "code",
   "execution_count": 2,
   "metadata": {},
   "outputs": [
    {
     "name": "stdout",
     "output_type": "stream",
     "text": [
      "\n",
      "STR\n",
      "A\n",
      "\n",
      "NUM\n",
      "1 2\n",
      "\n",
      "NUM\n",
      "1.1 2.2\n",
      "\n",
      "NUM\n",
      "True 2\n",
      "\n",
      "OUTRO\n",
      "[0, 1, 2]\n",
      "\n",
      "OUTRO\n",
      "(1, 2)\n",
      "\n",
      "SET\n",
      "{0, 1, 5} True\n",
      "\n",
      "OUTRO\n",
      "{'nome': 'Luiz'}\n"
     ]
    }
   ],
   "source": [
    "lista = [\n",
    "    'a', 1, 1.1, True, [0, 1, 2], (1, 2),\n",
    "    {0, 1}, {'nome': 'Luiz'},\n",
    "]\n",
    "\n",
    "for item in lista:\n",
    "    \n",
    "    print()\n",
    "\n",
    "    if isinstance(item, set):\n",
    "        print('SET')\n",
    "        item.add(5)\n",
    "        print(item, isinstance(item, set))\n",
    "\n",
    "    elif isinstance(item, str):\n",
    "        print('STR')\n",
    "        print(item.upper())\n",
    "\n",
    "    elif isinstance(item, (int, float)):\n",
    "        print('NUM')   \n",
    "        print(item, item * 2)\n",
    "    \n",
    "    else:\n",
    "        print('OUTRO')\n",
    "        print(item)"
   ]
  },
  {
   "cell_type": "markdown",
   "metadata": {},
   "source": [
    "> Dir, HasAttr e GetAttr"
   ]
  },
  {
   "cell_type": "code",
   "execution_count": 6,
   "metadata": {},
   "outputs": [
    {
     "name": "stdout",
     "output_type": "stream",
     "text": [
      "Existe upper\n",
      "Luiz\n"
     ]
    }
   ],
   "source": [
    "string = 'Luiz'\n",
    "metodo = 'strip'\n",
    "\n",
    "if hasattr(string, metodo):\n",
    "    print('Existe upper')\n",
    "    print(getattr(string, metodo)())\n",
    "else:\n",
    "    print('Não existe o método', metodo)"
   ]
  },
  {
   "cell_type": "code",
   "execution_count": 8,
   "metadata": {},
   "outputs": [
    {
     "data": {
      "text/plain": [
       "'LUIZ'"
      ]
     },
     "execution_count": 8,
     "metadata": {},
     "output_type": "execute_result"
    }
   ],
   "source": [
    "getattr('luiz', 'upper')()"
   ]
  },
  {
   "cell_type": "markdown",
   "metadata": {},
   "source": [
    "> Conversão de Tipos"
   ]
  },
  {
   "cell_type": "code",
   "execution_count": 20,
   "metadata": {},
   "outputs": [
    {
     "name": "stdout",
     "output_type": "stream",
     "text": [
      "1\n",
      "1\n",
      "1.5\n",
      "1.5\n",
      "True\n"
     ]
    }
   ],
   "source": [
    "print(str(1))           # inteiro para string\n",
    "print(int('1'))         # string para inteiro\n",
    "print(str(1.5))         # float para string\n",
    "print(float('1.5'))     # string para float\n",
    "print(bool(' '))        # Qualquer tipo para booleano"
   ]
  },
  {
   "cell_type": "markdown",
   "metadata": {},
   "source": [
    "> Concatenação, Soma, Etc..."
   ]
  },
  {
   "cell_type": "code",
   "execution_count": 15,
   "metadata": {},
   "outputs": [
    {
     "name": "stdout",
     "output_type": "stream",
     "text": [
      "2\n",
      "11\n",
      "ab\n"
     ]
    }
   ],
   "source": [
    "print(1 + 1)\n",
    "\n",
    "# print('1' + 1) | Essa linha daria erro, não há como concatenar str com int, a menos que altere o tipo\n",
    "print('1' + str(1))\n",
    "\n",
    "print('a' + 'b')"
   ]
  },
  {
   "cell_type": "markdown",
   "metadata": {},
   "source": [
    "> Pedir ao usuário um valor para variável\n",
    "\n",
    "<p style=\"color: yellow\">Retorna sempre no tipo <strong>string</strong></p>"
   ]
  },
  {
   "cell_type": "code",
   "execution_count": 1,
   "metadata": {},
   "outputs": [
    {
     "name": "stdout",
     "output_type": "stream",
     "text": [
      "Vinícius\n"
     ]
    }
   ],
   "source": [
    "nome = input('Qual seu nome? ')\n",
    "print(nome)"
   ]
  },
  {
   "cell_type": "code",
   "execution_count": 5,
   "metadata": {},
   "outputs": [
    {
     "name": "stdout",
     "output_type": "stream",
     "text": [
      "<class 'str'> 20\n",
      "<class 'int'> 20\n"
     ]
    }
   ],
   "source": [
    "idade = input('Idade: ')\n",
    "print(type(idade), idade)\n",
    "\n",
    "idade = int(idade)\n",
    "print(type(idade), idade)"
   ]
  },
  {
   "cell_type": "markdown",
   "metadata": {},
   "source": [
    "Nome da variável + valor printados"
   ]
  },
  {
   "cell_type": "code",
   "execution_count": 4,
   "metadata": {},
   "outputs": [
    {
     "name": "stdout",
     "output_type": "stream",
     "text": [
      "nome='Vinícius'\n"
     ]
    }
   ],
   "source": [
    "print(f'{nome=}')"
   ]
  },
  {
   "cell_type": "markdown",
   "metadata": {},
   "source": [
    "---\n",
    "\n",
    "### String"
   ]
  },
  {
   "cell_type": "code",
   "execution_count": 5,
   "metadata": {},
   "outputs": [
    {
     "name": "stdout",
     "output_type": "stream",
     "text": [
      "Teste\n",
      "Teste\n",
      "Teste de \"código\"\n",
      "Teste de \"código\"\n"
     ]
    }
   ],
   "source": [
    "print('Teste')\n",
    "print(\"Teste\")\n",
    "print('Teste de \"código\"')\n",
    "print(\"Teste de \\\"código\\\"\")"
   ]
  },
  {
   "cell_type": "code",
   "execution_count": 3,
   "metadata": {},
   "outputs": [
    {
     "name": "stdout",
     "output_type": "stream",
     "text": [
      "Teste de \\\"código\\\"\n"
     ]
    }
   ],
   "source": [
    "# ao usar R o caracter de escape é exibido (envolve Regex)\n",
    "print(r\"Teste de \\\"código\\\"\")"
   ]
  },
  {
   "cell_type": "markdown",
   "metadata": {},
   "source": [
    "---\n",
    "\n",
    "### Int e Float"
   ]
  },
  {
   "cell_type": "code",
   "execution_count": 6,
   "metadata": {},
   "outputs": [
    {
     "name": "stdout",
     "output_type": "stream",
     "text": [
      "11\n",
      "-11\n",
      "0\n"
     ]
    }
   ],
   "source": [
    "# Inteiros\n",
    "print(11)\n",
    "print(-11)\n",
    "print(0)"
   ]
  },
  {
   "cell_type": "code",
   "execution_count": 7,
   "metadata": {},
   "outputs": [
    {
     "name": "stdout",
     "output_type": "stream",
     "text": [
      "1.5\n",
      "-1.5\n",
      "0.0\n"
     ]
    }
   ],
   "source": [
    "# Decimais (sempre usar .)\n",
    "print(1.5)\n",
    "print(-1.5)\n",
    "print(0.0)"
   ]
  },
  {
   "cell_type": "markdown",
   "metadata": {},
   "source": [
    "---\n",
    "\n",
    "### Booleano"
   ]
  },
  {
   "cell_type": "code",
   "execution_count": 12,
   "metadata": {},
   "outputs": [
    {
     "name": "stdout",
     "output_type": "stream",
     "text": [
      "True\n",
      "False\n"
     ]
    }
   ],
   "source": [
    "print(10 == 10) # Sim, então Verdadeiro (True)\n",
    "print(10 == 15) # Não, então Falso (False)"
   ]
  },
  {
   "cell_type": "markdown",
   "metadata": {},
   "source": [
    "Falsy e Truthy"
   ]
  },
  {
   "cell_type": "code",
   "execution_count": 3,
   "metadata": {},
   "outputs": [
    {
     "name": "stdout",
     "output_type": "stream",
     "text": [
      "TESTE truthy\n",
      "lista=[] falsy\n",
      "dicionario={} falsy\n",
      "conjunto=set() falsy\n",
      "tupla=() falsy\n",
      "string='' falsy\n",
      "inteito=0 falsy\n",
      "flutuante=0.0 falsy\n",
      "nada=None falsy\n",
      "falso=False falsy\n",
      "intervalo=range(0, 0) falsy\n"
     ]
    }
   ],
   "source": [
    "lista = []\n",
    "dicionario = {}\n",
    "conjunto = set()\n",
    "tupla = ()\n",
    "string = ''\n",
    "inteito = 0\n",
    "flutuante = 0.0\n",
    "nada = None\n",
    "falso = False\n",
    "intervalo = range(0)\n",
    "\n",
    "\n",
    "def falsy(valor):\n",
    "    return 'falsy' if not valor else 'truthy'\n",
    "\n",
    "\n",
    "print(f'TESTE', falsy('TESTE'))\n",
    "print(f'{lista=}', falsy(lista))\n",
    "print(f'{dicionario=}', falsy(dicionario))\n",
    "print(f'{conjunto=}', falsy(conjunto))\n",
    "print(f'{tupla=}', falsy(tupla))\n",
    "print(f'{string=}', falsy(string))\n",
    "print(f'{inteito=}', falsy(inteito))\n",
    "print(f'{flutuante=}', falsy(flutuante))\n",
    "print(f'{nada=}', falsy(nada))\n",
    "print(f'{falso=}', falsy(falso))\n",
    "print(f'{intervalo=}', falsy(intervalo))"
   ]
  },
  {
   "cell_type": "markdown",
   "metadata": {},
   "source": [
    "---\n",
    "\n",
    "### Set"
   ]
  },
  {
   "cell_type": "markdown",
   "metadata": {},
   "source": [
    "Set deixa apenas 1 valor, não aceita duplicados"
   ]
  },
  {
   "cell_type": "markdown",
   "metadata": {},
   "source": [
    "Funciona apenas com tipos imutáveis"
   ]
  },
  {
   "cell_type": "code",
   "execution_count": 2,
   "metadata": {},
   "outputs": [
    {
     "data": {
      "text/plain": [
       "(set(), set)"
      ]
     },
     "execution_count": 2,
     "metadata": {},
     "output_type": "execute_result"
    }
   ],
   "source": [
    "s1 = set()\n",
    "s1, type(s1)"
   ]
  },
  {
   "cell_type": "code",
   "execution_count": 5,
   "metadata": {},
   "outputs": [
    {
     "data": {
      "text/plain": [
       "({1, 2, 3, 'Vinicius'}, set)"
      ]
     },
     "execution_count": 5,
     "metadata": {},
     "output_type": "execute_result"
    }
   ],
   "source": [
    "s2 = {'Vinicius', 1, 2, 3}\n",
    "s2, type(s2)"
   ]
  },
  {
   "cell_type": "code",
   "execution_count": 6,
   "metadata": {},
   "outputs": [
    {
     "name": "stdout",
     "output_type": "stream",
     "text": [
      "[1, 2, 3, 3, 3, 3, 4, 5] {1, 2, 3, 4, 5} [1, 2, 3, 4, 5]\n"
     ]
    }
   ],
   "source": [
    "l1 = [1, 2, 3, 3, 3, 3, 4, 5]\n",
    "s1 = set(l1)\n",
    "l2 = list(s1)\n",
    "\n",
    "print(l1, s1, l2)"
   ]
  },
  {
   "cell_type": "code",
   "execution_count": 7,
   "metadata": {},
   "outputs": [
    {
     "data": {
      "text/plain": [
       "set()"
      ]
     },
     "execution_count": 7,
     "metadata": {},
     "output_type": "execute_result"
    }
   ],
   "source": [
    "s1.clear()\n",
    "s1"
   ]
  },
  {
   "cell_type": "code",
   "execution_count": 12,
   "metadata": {},
   "outputs": [
    {
     "data": {
      "text/plain": [
       "{1}"
      ]
     },
     "execution_count": 12,
     "metadata": {},
     "output_type": "execute_result"
    }
   ],
   "source": [
    "s2.discard('Vinicius')\n",
    "s2"
   ]
  },
  {
   "cell_type": "markdown",
   "metadata": {},
   "source": [
    "- união |\n",
    "- intersecção &\n",
    "- diferença -\n",
    "- diferença simétrica ^"
   ]
  },
  {
   "cell_type": "code",
   "execution_count": 16,
   "metadata": {},
   "outputs": [
    {
     "name": "stdout",
     "output_type": "stream",
     "text": [
      "{1, 2, 3, 4}\n",
      "{2, 3}\n",
      "{1}\n",
      "{1, 4}\n"
     ]
    }
   ],
   "source": [
    "s1 = {1,2,3}\n",
    "s2 = {2,3,4}\n",
    "\n",
    "s3 = s1 | s2 \n",
    "s4 = s1 & s2\n",
    "s5 = s1 - s2\n",
    "s6 = s1 ^ s2\n",
    "\n",
    "print(s3)\n",
    "print(s4)\n",
    "print(s5)\n",
    "print(s6)"
   ]
  },
  {
   "cell_type": "code",
   "execution_count": 17,
   "metadata": {},
   "outputs": [
    {
     "name": "stdout",
     "output_type": "stream",
     "text": [
      "[1, 2, 3, 4, 5, 6, 7, 8, 9, 10] -1\n",
      "[9, 1, 8, 9, 9, 7, 2, 1, 6, 8] 9\n",
      "[1, 3, 2, 2, 8, 6, 5, 9, 6, 7] 2\n",
      "[3, 8, 2, 8, 6, 7, 7, 3, 1, 9] 8\n",
      "[4, 8, 8, 8, 5, 1, 10, 3, 1, 7] 8\n",
      "[1, 3, 7, 2, 2, 1, 5, 1, 9, 9] 2\n",
      "[10, 2, 2, 1, 3, 5, 10, 5, 10, 1] 2\n",
      "[1, 6, 1, 5, 1, 1, 1, 4, 7, 3] 1\n",
      "[1, 3, 7, 1, 10, 5, 9, 2, 5, 7] 1\n",
      "[4, 7, 6, 5, 2, 9, 2, 1, 2, 1] 2\n",
      "[5, 3, 1, 8, 5, 7, 1, 8, 8, 7] 5\n",
      "[10, 9, 8, 7, 6, 5, 4, 3, 2, 1] -1\n"
     ]
    }
   ],
   "source": [
    "lista_de_listas_de_inteiros = [\n",
    "    [1, 2, 3, 4, 5, 6, 7, 8, 9, 10],\n",
    "    [9, 1, 8, 9, 9, 7, 2, 1, 6, 8],\n",
    "    [1, 3, 2, 2, 8, 6, 5, 9, 6, 7],\n",
    "    [3, 8, 2, 8, 6, 7, 7, 3, 1, 9],\n",
    "    [4, 8, 8, 8, 5, 1, 10, 3, 1, 7],\n",
    "    [1, 3, 7, 2, 2, 1, 5, 1, 9, 9],\n",
    "    [10, 2, 2, 1, 3, 5, 10, 5, 10, 1],\n",
    "    [1, 6, 1, 5, 1, 1, 1, 4, 7, 3],\n",
    "    [1, 3, 7, 1, 10, 5, 9, 2, 5, 7],\n",
    "    [4, 7, 6, 5, 2, 9, 2, 1, 2, 1],\n",
    "    [5, 3, 1, 8, 5, 7, 1, 8, 8, 7],\n",
    "    [10, 9, 8, 7, 6, 5, 4, 3, 2, 1],\n",
    "]\n",
    "\n",
    "def encontra_primeiro_duplicado(lista_de_inteiros):\n",
    "\n",
    "    numeros_checados = set()\n",
    "    primeiro_duplicado = -1\n",
    "\n",
    "    for numero in lista_de_inteiros:\n",
    "        if numero in numeros_checados:\n",
    "            primeiro_duplicado = numero\n",
    "            break\n",
    "\n",
    "        numeros_checados.add(numero)\n",
    "\n",
    "    return primeiro_duplicado\n",
    "\n",
    "\n",
    "for lista in lista_de_listas_de_inteiros:\n",
    "    print(\n",
    "        lista,\n",
    "        encontra_primeiro_duplicado(lista)\n",
    "    )"
   ]
  },
  {
   "cell_type": "markdown",
   "metadata": {},
   "source": [
    "---\n",
    "\n",
    "### Built In e Tipos Imutáveis"
   ]
  },
  {
   "cell_type": "code",
   "execution_count": 5,
   "metadata": {},
   "outputs": [
    {
     "ename": "TypeError",
     "evalue": "'str' object does not support item assignment",
     "output_type": "error",
     "traceback": [
      "\u001b[1;31m---------------------------------------------------------------------------\u001b[0m",
      "\u001b[1;31mTypeError\u001b[0m                                 Traceback (most recent call last)",
      "Cell \u001b[1;32mIn[5], line 2\u001b[0m\n\u001b[0;32m      1\u001b[0m string \u001b[38;5;241m=\u001b[39m \u001b[38;5;124m'\u001b[39m\u001b[38;5;124mTeste de Alteração\u001b[39m\u001b[38;5;124m'\u001b[39m\n\u001b[1;32m----> 2\u001b[0m \u001b[43mstring\u001b[49m\u001b[43m[\u001b[49m\u001b[38;5;241;43m4\u001b[39;49m\u001b[43m]\u001b[49m \u001b[38;5;241m=\u001b[39m \u001b[38;5;124m'\u001b[39m\u001b[38;5;124m'\u001b[39m\n\u001b[0;32m      4\u001b[0m \u001b[38;5;28mprint\u001b[39m(string[\u001b[38;5;241m4\u001b[39m])\n",
      "\u001b[1;31mTypeError\u001b[0m: 'str' object does not support item assignment"
     ]
    }
   ],
   "source": [
    "string = 'Teste de Alteração'\n",
    "string[4] = ''\n",
    "\n",
    "print(string[4])"
   ]
  },
  {
   "cell_type": "code",
   "execution_count": 13,
   "metadata": {},
   "outputs": [
    {
     "name": "stdout",
     "output_type": "stream",
     "text": [
      "Test_ de Alteração\n",
      "Test_ de alteração\n",
      "000000000000Test_ de Alteração\n"
     ]
    }
   ],
   "source": [
    "outra_string = f'{string[:4]}_{string[5:]}'\n",
    "\n",
    "print(outra_string)\n",
    "print(outra_string.capitalize())\n",
    "print(outra_string.zfill(30))"
   ]
  },
  {
   "cell_type": "markdown",
   "metadata": {},
   "source": [
    "---\n",
    "\n",
    "### Complexidade"
   ]
  },
  {
   "cell_type": "markdown",
   "metadata": {},
   "source": [
    "Constantes = variáveis que não vão mudar\n",
    "\n",
    "- Muitas condições no mesmo IF = ruim\n",
    "- Contagem de complexidade = ruim\n",
    "\n",
    "<p style=\"color:yellow\">Python <strong>não tem</strong> constantes, porém tem uma convenção de que variáveis com letras maiúsculas não serão alteradas!</p>"
   ]
  },
  {
   "cell_type": "code",
   "execution_count": 10,
   "metadata": {},
   "outputs": [],
   "source": [
    "velocidade = 60             # velocidade carro\n",
    "local_carro = 90            # posição na estrada\n",
    "\n",
    "RADAR_1 = 60                # velocidade máxima do primeiro radar\n",
    "LOCAL_1 = 100               # local onde o radar 1 está\n",
    "RADAR_RANGE = 1             # A distância onde o radar pega"
   ]
  },
  {
   "cell_type": "markdown",
   "metadata": {},
   "source": [
    "> Código não compreensível"
   ]
  },
  {
   "cell_type": "code",
   "execution_count": 11,
   "metadata": {},
   "outputs": [
    {
     "name": "stdout",
     "output_type": "stream",
     "text": [
      "Velocidade passou do radar 1\n"
     ]
    }
   ],
   "source": [
    "if velocidade > RADAR_1:\n",
    "    print('Velocidade passou do radar 1')\n",
    "\n",
    "if local_carro >= (LOCAL_1 - RADAR_RANGE) and \\\n",
    "    local_carro <= (LOCAL_1 + RADAR_RANGE) and \\\n",
    "        velocidade > RADAR_1:\n",
    "    print('Carro multado em radar 1!')"
   ]
  },
  {
   "cell_type": "markdown",
   "metadata": {},
   "source": [
    "> Código com boas práticas"
   ]
  },
  {
   "cell_type": "code",
   "execution_count": 14,
   "metadata": {},
   "outputs": [],
   "source": [
    "velocidade_passou_radar_1 = velocidade > 1\n",
    "\n",
    "carro_passou_radar_1 = local_carro >= (LOCAL_1 - RADAR_RANGE) and local_carro <= (LOCAL_1 + RADAR_RANGE) \n",
    "\n",
    "carro_multado = carro_passou_radar_1 and velocidade_passou_radar_1"
   ]
  },
  {
   "cell_type": "code",
   "execution_count": 15,
   "metadata": {},
   "outputs": [
    {
     "name": "stdout",
     "output_type": "stream",
     "text": [
      "Velocidade passou do radar 1\n"
     ]
    }
   ],
   "source": [
    "if velocidade_passou_radar_1:\n",
    "    print('Velocidade passou do radar 1')\n",
    "\n",
    "if carro_passou_radar_1:\n",
    "    print('Passou do radar 1')\n",
    "\n",
    "if carro_multado:\n",
    "    print('Carro multado!')"
   ]
  },
  {
   "cell_type": "markdown",
   "metadata": {},
   "source": [
    "---\n",
    "\n",
    "### Variável na Memória"
   ]
  },
  {
   "cell_type": "code",
   "execution_count": 19,
   "metadata": {},
   "outputs": [
    {
     "name": "stdout",
     "output_type": "stream",
     "text": [
      "140334229942768\n",
      "140334229942768\n",
      "140334230061808\n"
     ]
    }
   ],
   "source": [
    "v1 = 'a'\n",
    "v2 = 'a'\n",
    "\n",
    "# Será o mesmo espaço da memória (pois é a mesma coisa)\n",
    "print(id(v1))\n",
    "print(id(v2))\n",
    "\n",
    "# Agora serão diferentes...\n",
    "v2 = 'b'\n",
    "print(id(v2))"
   ]
  }
 ],
 "metadata": {
  "kernelspec": {
   "display_name": "Python 3",
   "language": "python",
   "name": "python3"
  },
  "language_info": {
   "codemirror_mode": {
    "name": "ipython",
    "version": 3
   },
   "file_extension": ".py",
   "mimetype": "text/x-python",
   "name": "python",
   "nbconvert_exporter": "python",
   "pygments_lexer": "ipython3",
   "version": "3.8.10"
  }
 },
 "nbformat": 4,
 "nbformat_minor": 2
}
