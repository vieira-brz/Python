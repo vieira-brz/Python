{
 "cells": [
  {
   "cell_type": "code",
   "execution_count": 1,
   "metadata": {},
   "outputs": [
    {
     "name": "stdout",
     "output_type": "stream",
     "text": [
      "(1, 2)\n",
      "Ponto(x=978, y=876, z='String')\n",
      "Ponto(x=978, y=876, z='String')\n"
     ]
    }
   ],
   "source": [
    "# Teoria: python Special Methods, Magic Methods ou Dunder Methods\n",
    "# Dunder = Double Underscore = __dunder__\n",
    "# Antigo e útil: https://rszalski.github.io/magicmethods/\n",
    "# https://docs.python.org/3/reference/datamodel.html#specialnames\n",
    "# __lt__(self,other) - self < other\n",
    "# __le__(self,other) - self <= other\n",
    "# __gt__(self,other) - self > other\n",
    "# __ge__(self,other) - self >= other\n",
    "# __eq__(self,other) - self == other\n",
    "# __ne__(self,other) - self != other\n",
    "# __add__(self,other) - self + other\n",
    "# __sub__(self,other) - self - other\n",
    "# __mul__(self,other) - self * other\n",
    "# __truediv__(self,other) - self / other\n",
    "# __neg__(self) - -self\n",
    "# __str__(self) - str\n",
    "# __repr__(self) - str\n",
    "\n",
    "class Ponto:\n",
    "    def __init__(self, x, y, z='String'):\n",
    "        self.x = x\n",
    "        self.y = y\n",
    "        self.z = z\n",
    "\n",
    "    def __str__(self):\n",
    "        return f'({self.x}, {self.y})'\n",
    "\n",
    "    def __repr__(self):\n",
    "        # class_name = self.__class__.__name__\n",
    "        class_name = type(self).__name__\n",
    "        return f'{class_name}(x={self.x!r}, y={self.y!r}, z={self.z!r})'\n",
    "\n",
    "\n",
    "p1 = Ponto(1, 2)\n",
    "p2 = Ponto(978, 876)\n",
    "print(p1)\n",
    "print(repr(p2))\n",
    "print(f'{p2!r}')"
   ]
  },
  {
   "cell_type": "code",
   "execution_count": 3,
   "metadata": {},
   "outputs": [
    {
     "name": "stdout",
     "output_type": "stream",
     "text": [
      "Ponto(x=10, y=6)\n",
      "P1 é maior que p2 False\n",
      "P2 é maior que p1 True\n"
     ]
    }
   ],
   "source": [
    "class Ponto:\n",
    "    def __init__(self, x, y):\n",
    "        self.x = x\n",
    "        self.y = y\n",
    "\n",
    "    def __repr__(self):\n",
    "        class_name = type(self).__name__\n",
    "        return f'{class_name}(x={self.x!r}, y={self.y!r})'\n",
    "\n",
    "    def __add__(self, other):\n",
    "        novo_x = self.x + other.x\n",
    "        novo_y = self.y + other.y\n",
    "        return Ponto(novo_x, novo_y)\n",
    "\n",
    "    def __gt__(self, other):\n",
    "        resultado_self = self.x + self.y\n",
    "        resultado_other = other.x + other.y\n",
    "        return resultado_self > resultado_other\n",
    "\n",
    "\n",
    "p1 = Ponto(4, 2)  # 6\n",
    "p2 = Ponto(6, 4)  # 10\n",
    "p3 = p1 + p2\n",
    "print(p3)\n",
    "print('P1 é maior que p2', p1 > p2)\n",
    "print('P2 é maior que p1', p2 > p1)"
   ]
  },
  {
   "cell_type": "code",
   "execution_count": 2,
   "metadata": {},
   "outputs": [
    {
     "name": "stdout",
     "output_type": "stream",
     "text": [
      "Sou o init\n",
      "123\n"
     ]
    }
   ],
   "source": [
    "# __new__ e __init__ em classes Python\n",
    "# __new__ é o método responsável por criar e\n",
    "# retornar o novo objeto. Por isso, new recebe cls.\n",
    "# __new__ ❗️DEVE retornar o novo objeto❗️\n",
    "# __init__ é o método responsável por inicializar\n",
    "# a instância. Por isso, init recebe self.\n",
    "# __init__ ❗️NÃO DEVE retornar nada (None)❗️\n",
    "# object é a super classe de uma classe\n",
    "class A:\n",
    "    def __new__(cls, *args, **kwargs):\n",
    "        instancia = super().__new__(cls)\n",
    "        return instancia\n",
    "\n",
    "    def __init__(self, x):\n",
    "        self.x = x\n",
    "        print('Sou o init')\n",
    "\n",
    "    def __repr__(self):\n",
    "        return 'A()'\n",
    "\n",
    "\n",
    "a = A(123)\n",
    "print(a.x)"
   ]
  }
 ],
 "metadata": {
  "kernelspec": {
   "display_name": "Python 3",
   "language": "python",
   "name": "python3"
  },
  "language_info": {
   "codemirror_mode": {
    "name": "ipython",
    "version": 3
   },
   "file_extension": ".py",
   "mimetype": "text/x-python",
   "name": "python",
   "nbconvert_exporter": "python",
   "pygments_lexer": "ipython3",
   "version": "3.8.10"
  }
 },
 "nbformat": 4,
 "nbformat_minor": 2
}
