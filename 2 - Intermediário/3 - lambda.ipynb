{
 "cells": [
  {
   "cell_type": "markdown",
   "metadata": {},
   "source": [
    "Modo normal (lista rasa)"
   ]
  },
  {
   "cell_type": "code",
   "execution_count": 2,
   "metadata": {},
   "outputs": [
    {
     "data": {
      "text/plain": [
       "[4, 5, 32, 34, 35, 37, 50, 52, 60, 93, 93]"
      ]
     },
     "execution_count": 2,
     "metadata": {},
     "output_type": "execute_result"
    }
   ],
   "source": [
    "lista = [4, 32, 52, 34, 37, 93, 5, 93, 35, 60, 50]\n",
    "lista.sort()\n",
    "lista"
   ]
  },
  {
   "cell_type": "markdown",
   "metadata": {},
   "source": [
    "Usando lambda (lista com camadas)"
   ]
  },
  {
   "cell_type": "code",
   "execution_count": 6,
   "metadata": {},
   "outputs": [
    {
     "data": {
      "text/plain": [
       "[{'nome': 'Aline', 'sobrenome': 'Souza'},\n",
       " {'nome': 'Daniel', 'sobrenome': 'Silva'},\n",
       " {'nome': 'Eduardo', 'sobrenome': 'Moreira'},\n",
       " {'nome': 'Luiz', 'sobrenome': 'miranda'},\n",
       " {'nome': 'Maria', 'sobrenome': 'Oliveira'}]"
      ]
     },
     "execution_count": 6,
     "metadata": {},
     "output_type": "execute_result"
    }
   ],
   "source": [
    "lista = [\n",
    "    {'nome': 'Luiz', 'sobrenome': 'miranda'},\n",
    "    {'nome': 'Maria', 'sobrenome': 'Oliveira'},\n",
    "    {'nome': 'Daniel', 'sobrenome': 'Silva'},\n",
    "    {'nome': 'Eduardo', 'sobrenome': 'Moreira'},\n",
    "    {'nome': 'Aline', 'sobrenome': 'Souza'},\n",
    "]\n",
    "\n",
    "def ordena(item):\n",
    "    return item['nome'] \n",
    "\n",
    "lista.sort(key=ordena)\n",
    "lista"
   ]
  },
  {
   "cell_type": "code",
   "execution_count": 5,
   "metadata": {},
   "outputs": [
    {
     "data": {
      "text/plain": [
       "[{'nome': 'Aline', 'sobrenome': 'Souza'},\n",
       " {'nome': 'Daniel', 'sobrenome': 'Silva'},\n",
       " {'nome': 'Eduardo', 'sobrenome': 'Moreira'},\n",
       " {'nome': 'Luiz', 'sobrenome': 'miranda'},\n",
       " {'nome': 'Maria', 'sobrenome': 'Oliveira'}]"
      ]
     },
     "execution_count": 5,
     "metadata": {},
     "output_type": "execute_result"
    }
   ],
   "source": [
    "lista = [\n",
    "    {'nome': 'Luiz', 'sobrenome': 'miranda'},\n",
    "    {'nome': 'Maria', 'sobrenome': 'Oliveira'},\n",
    "    {'nome': 'Daniel', 'sobrenome': 'Silva'},\n",
    "    {'nome': 'Eduardo', 'sobrenome': 'Moreira'},\n",
    "    {'nome': 'Aline', 'sobrenome': 'Souza'},\n",
    "]\n",
    "\n",
    "lista.sort(key=lambda item: item['nome'])\n",
    "lista"
   ]
  },
  {
   "cell_type": "code",
   "execution_count": null,
   "metadata": {},
   "outputs": [],
   "source": [
    "def executa(funcao, *args):\n",
    "    return funcao(*args)\n",
    "\n",
    "def soma(x, y):\n",
    "    return x + y\n",
    "\n",
    "def cria_multiplicacao(multiplicador):\n",
    "    def multiplica(numero):\n",
    "        return numero * multiplicador\n",
    "    return multiplica\n",
    "\n",
    "duplica = cria_multiplicacao(2)\n",
    "duplica = executa(\n",
    "    lambda m: lambda n: n * m,\n",
    "    2\n",
    ")\n",
    "\n",
    "print(\n",
    "    executa(\n",
    "        lambda x, y: x + y,\n",
    "        2, 3\n",
    "    ),\n",
    "    executa(soma, 2, 3),\n",
    "    soma(2, 3)\n",
    ")"
   ]
  }
 ],
 "metadata": {
  "kernelspec": {
   "display_name": "Python 3",
   "language": "python",
   "name": "python3"
  },
  "language_info": {
   "codemirror_mode": {
    "name": "ipython",
    "version": 3
   },
   "file_extension": ".py",
   "mimetype": "text/x-python",
   "name": "python",
   "nbconvert_exporter": "python",
   "pygments_lexer": "ipython3",
   "version": "3.8.10"
  }
 },
 "nbformat": 4,
 "nbformat_minor": 2
}
