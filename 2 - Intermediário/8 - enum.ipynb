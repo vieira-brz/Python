{
 "cells": [
  {
   "cell_type": "code",
   "execution_count": 1,
   "metadata": {},
   "outputs": [
    {
     "name": "stdout",
     "output_type": "stream",
     "text": [
      "Movendo para esquerda\n",
      "Movendo para direita\n",
      "Movendo para acima\n",
      "Movendo para abaixo\n"
     ]
    }
   ],
   "source": [
    "# Enum -> Enumerações\n",
    "# Enumerações na programação, são usadas em ocasiões onde temos\n",
    "# um determinado número de coisas para escolher.\n",
    "# Enums têm membros e seus valores são constantes.\n",
    "# Enums em python:\n",
    "#   - são um conjunto de nomes simbólicos (membros) ligados a valores únicos\n",
    "#   - podem ser iterados para retornar seus membros canônicos na ordem de\n",
    "#       definição\n",
    "# enum.Enum é a superclasse para suas enumerações. Mas também pode ser usada\n",
    "#   diretamente (mesmo assim, Enums não são classes normais em Python).\n",
    "# Você poderá usar seu Enum com type annotations, com isinstance e\n",
    "# outras coisas relacionadas com tipo.\n",
    "# Para obter os dados:\n",
    "# membro = Classe(valor), Classe['chave']\n",
    "# chave = Classe.chave.name\n",
    "# valor = Classe.chave.value\n",
    "\n",
    "def mover(direcao):\n",
    "    print(f'Movendo para {direcao}')\n",
    "\n",
    "\n",
    "mover('esquerda')\n",
    "mover('direita')\n",
    "mover('acima')\n",
    "mover('abaixo')"
   ]
  },
  {
   "cell_type": "markdown",
   "metadata": {},
   "source": [
    "### Ao invés do código acima:"
   ]
  },
  {
   "cell_type": "code",
   "execution_count": 2,
   "metadata": {},
   "outputs": [
    {
     "name": "stdout",
     "output_type": "stream",
     "text": [
      "Direcoes.ESQUERDA Direcoes.ESQUERDA Direcoes.ESQUERDA\n",
      "ESQUERDA 1\n",
      "Movendo para ESQUERDA (1)\n",
      "Movendo para DIREITA (2)\n",
      "Movendo para ACIMA (3)\n",
      "Movendo para ABAIXO (4)\n"
     ]
    }
   ],
   "source": [
    "# membro = Classe(valor), Classe['chave']\n",
    "# chave = Classe.chave.name\n",
    "# valor = Classe.chave.value\n",
    "import enum\n",
    "\n",
    "# Direcoes = enum.Enum('Direcoes', ['ESQUERDA', 'DIREITA'])\n",
    "\n",
    "\n",
    "class Direcoes(enum.Enum):\n",
    "    ESQUERDA = enum.auto()\n",
    "    DIREITA = enum.auto()\n",
    "    ACIMA = enum.auto()\n",
    "    ABAIXO = enum.auto()\n",
    "\n",
    "\n",
    "print(Direcoes(1), Direcoes['ESQUERDA'], Direcoes.ESQUERDA)\n",
    "print(Direcoes(1).name, Direcoes.ESQUERDA.value)\n",
    "\n",
    "\n",
    "def mover(direcao: Direcoes):\n",
    "    if not isinstance(direcao, Direcoes):\n",
    "        raise ValueError('Direção não encontrada')\n",
    "\n",
    "    print(f'Movendo para {direcao.name} ({direcao.value})')\n",
    "\n",
    "\n",
    "mover(Direcoes.ESQUERDA)\n",
    "mover(Direcoes.DIREITA)\n",
    "mover(Direcoes.ACIMA)\n",
    "mover(Direcoes.ABAIXO)"
   ]
  }
 ],
 "metadata": {
  "kernelspec": {
   "display_name": "Python 3",
   "language": "python",
   "name": "python3"
  },
  "language_info": {
   "codemirror_mode": {
    "name": "ipython",
    "version": 3
   },
   "file_extension": ".py",
   "mimetype": "text/x-python",
   "name": "python",
   "nbconvert_exporter": "python",
   "pygments_lexer": "ipython3",
   "version": "3.8.10"
  }
 },
 "nbformat": 4,
 "nbformat_minor": 2
}
