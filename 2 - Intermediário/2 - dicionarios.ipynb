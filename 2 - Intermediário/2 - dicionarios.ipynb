{
 "cells": [
  {
   "cell_type": "code",
   "execution_count": 1,
   "metadata": {},
   "outputs": [
    {
     "data": {
      "text/plain": [
       "{'nome': 'Vini', 'apelido': 'Vinix'}"
      ]
     },
     "execution_count": 1,
     "metadata": {},
     "output_type": "execute_result"
    }
   ],
   "source": [
    "pessoa = {\n",
    "    'nome': 'Vini',\n",
    "    'apelido': 'Vinix',\n",
    "}\n",
    "\n",
    "pessoa"
   ]
  },
  {
   "cell_type": "code",
   "execution_count": 2,
   "metadata": {},
   "outputs": [
    {
     "data": {
      "text/plain": [
       "{'nome': 'Vini', 'apelido': 'Vinix'}"
      ]
     },
     "execution_count": 2,
     "metadata": {},
     "output_type": "execute_result"
    }
   ],
   "source": [
    "pessoa = dict(nome=\"Vini\", apelido=\"Vinix\")\n",
    "pessoa"
   ]
  },
  {
   "cell_type": "code",
   "execution_count": 3,
   "metadata": {},
   "outputs": [
    {
     "data": {
      "text/plain": [
       "{'nome': 'Luiz'}"
      ]
     },
     "execution_count": 3,
     "metadata": {},
     "output_type": "execute_result"
    }
   ],
   "source": [
    "pessoa = {}\n",
    "\n",
    "pessoa['nome'] = 'Luiz'\n",
    "\n",
    "pessoa"
   ]
  },
  {
   "cell_type": "markdown",
   "metadata": {},
   "source": [
    "- len\n",
    "- keys\n",
    "- values\n",
    "- items\n",
    "- setdefault\n",
    "- copy (shallow copy - cópia rasa)\n",
    "- get\n",
    "- pop\n",
    "- popitem\n",
    "- update"
   ]
  },
  {
   "cell_type": "code",
   "execution_count": 5,
   "metadata": {},
   "outputs": [],
   "source": [
    "pessoa = {\n",
    "    'nome': 'Vini',\n",
    "    'apelido': 'Vinix',\n",
    "}"
   ]
  },
  {
   "cell_type": "code",
   "execution_count": 7,
   "metadata": {},
   "outputs": [
    {
     "name": "stdout",
     "output_type": "stream",
     "text": [
      "2\n",
      "2\n"
     ]
    }
   ],
   "source": [
    "print(pessoa.__len__())\n",
    "print(len(pessoa))"
   ]
  },
  {
   "cell_type": "code",
   "execution_count": 10,
   "metadata": {},
   "outputs": [
    {
     "name": "stdout",
     "output_type": "stream",
     "text": [
      "dict_keys(['nome', 'apelido'])\n",
      "['nome', 'apelido']\n"
     ]
    }
   ],
   "source": [
    "print(pessoa.keys())\n",
    "print(list(pessoa.keys()))"
   ]
  },
  {
   "cell_type": "code",
   "execution_count": 11,
   "metadata": {},
   "outputs": [
    {
     "name": "stdout",
     "output_type": "stream",
     "text": [
      "dict_values(['Vini', 'Vinix'])\n",
      "['Vini', 'Vinix']\n"
     ]
    }
   ],
   "source": [
    "print(pessoa.values())\n",
    "print(list(pessoa.values()))"
   ]
  },
  {
   "cell_type": "code",
   "execution_count": 12,
   "metadata": {},
   "outputs": [
    {
     "name": "stdout",
     "output_type": "stream",
     "text": [
      "dict_items([('nome', 'Vini'), ('apelido', 'Vinix')])\n",
      "[('nome', 'Vini'), ('apelido', 'Vinix')]\n"
     ]
    }
   ],
   "source": [
    "print(pessoa.items())\n",
    "print(list(pessoa.items()))"
   ]
  },
  {
   "cell_type": "code",
   "execution_count": 13,
   "metadata": {},
   "outputs": [
    {
     "data": {
      "text/plain": [
       "{'nome': 'Vini', 'apelido': 'Vinix', 'idade': None}"
      ]
     },
     "execution_count": 13,
     "metadata": {},
     "output_type": "execute_result"
    }
   ],
   "source": [
    "pessoa.setdefault('idade', None)\n",
    "pessoa"
   ]
  },
  {
   "cell_type": "markdown",
   "metadata": {},
   "source": [
    "Cópia funciona só para dicionários unidimensionais e não para dicionários multidimensionais"
   ]
  },
  {
   "cell_type": "code",
   "execution_count": 14,
   "metadata": {},
   "outputs": [
    {
     "data": {
      "text/plain": [
       "{'nome': 'Vini', 'apelido': 'Vinix', 'idade': 10}"
      ]
     },
     "execution_count": 14,
     "metadata": {},
     "output_type": "execute_result"
    }
   ],
   "source": [
    "pessoa2 = pessoa.copy()\n",
    "pessoa2['idade'] = 10\n",
    "\n",
    "pessoa2"
   ]
  },
  {
   "cell_type": "markdown",
   "metadata": {},
   "source": [
    "Cópia pronfuda..."
   ]
  },
  {
   "cell_type": "code",
   "execution_count": null,
   "metadata": {},
   "outputs": [],
   "source": [
    "import copy\n",
    "\n",
    "p2 = copy.deepcopy(pessoa2)"
   ]
  },
  {
   "cell_type": "code",
   "execution_count": 15,
   "metadata": {},
   "outputs": [
    {
     "data": {
      "text/plain": [
       "{'nome': 'Vini', 'apelido': 'Vinix'}"
      ]
     },
     "execution_count": 15,
     "metadata": {},
     "output_type": "execute_result"
    }
   ],
   "source": [
    "pessoa2.popitem()\n",
    "pessoa2"
   ]
  },
  {
   "cell_type": "code",
   "execution_count": 16,
   "metadata": {},
   "outputs": [
    {
     "data": {
      "text/plain": [
       "{'nome': 'Vinicius', 'apelido': 'Vinix', 'sobrenome': 'Vinix 33'}"
      ]
     },
     "execution_count": 16,
     "metadata": {},
     "output_type": "execute_result"
    }
   ],
   "source": [
    "pessoa2.update({\n",
    "    'nome': 'Vinicius',\n",
    "    'sobrenome': 'Vinix 33'\n",
    "})\n",
    "\n",
    "pessoa2"
   ]
  },
  {
   "cell_type": "code",
   "execution_count": 18,
   "metadata": {},
   "outputs": [
    {
     "data": {
      "text/plain": [
       "{'nome': 'Vinicius', 'sobrenome': 'Vinix 33'}"
      ]
     },
     "execution_count": 18,
     "metadata": {},
     "output_type": "execute_result"
    }
   ],
   "source": [
    "pessoa2.pop('apelido')\n",
    "pessoa2"
   ]
  },
  {
   "cell_type": "code",
   "execution_count": 19,
   "metadata": {},
   "outputs": [
    {
     "data": {
      "text/plain": [
       "'Vinix 33'"
      ]
     },
     "execution_count": 19,
     "metadata": {},
     "output_type": "execute_result"
    }
   ],
   "source": [
    "pessoa2.get('sobrenome')"
   ]
  },
  {
   "cell_type": "markdown",
   "metadata": {},
   "source": [
    "---\n",
    "\n",
    "### Exercícios"
   ]
  },
  {
   "cell_type": "code",
   "execution_count": 20,
   "metadata": {},
   "outputs": [
    {
     "name": "stdout",
     "output_type": "stream",
     "text": [
      "Pergunta: Quanto é 5 * 5?\n",
      "\n",
      "0) 25\n",
      "1) 35\n",
      "2) 45\n",
      "3) 50\n",
      "\n",
      "👍 Você acertou!\n",
      "\n",
      "Pergunta: Quanto é 5 * 10?\n",
      "\n",
      "0) 25\n",
      "1) 35\n",
      "2) 45\n",
      "3) 50\n",
      "\n",
      "❌ Você errou!\n",
      "\n"
     ]
    }
   ],
   "source": [
    "perguntas = [\n",
    "    {\n",
    "        'Pergunta': 'Quanto é 5 * 5?',\n",
    "        'Opções': ['25', '35', '45', '50'],\n",
    "        'Resposta': '25'\n",
    "    },\n",
    "    {\n",
    "        'Pergunta': 'Quanto é 5 * 10?',\n",
    "        'Opções': ['25', '35', '45', '50'],\n",
    "        'Resposta': '50'\n",
    "    }\n",
    "]\n",
    "\n",
    "for pergunta in perguntas:\n",
    "    print('Pergunta:', pergunta['Pergunta'])\n",
    "    print()\n",
    "    \n",
    "    opcoes = pergunta['Opções']\n",
    "    for i, opcao in enumerate(opcoes):\n",
    "        print(f'{i}) {opcao}')\n",
    "\n",
    "    print()\n",
    "\n",
    "    escolha = input('Escolha uma opção: ')\n",
    "    \n",
    "    escolha_int = None\n",
    "    acertou = False\n",
    "    qtd_opcoes = len(opcoes)\n",
    "    \n",
    "    if escolha.isdigit():\n",
    "        escolha_int = int(escolha)\n",
    "\n",
    "    if escolha_int is not None:\n",
    "        if escolha_int >= 0 and escolha_int < qtd_opcoes:\n",
    "            if opcoes[escolha_int] == pergunta['Resposta']:\n",
    "                acertou = True\n",
    "\n",
    "    if acertou:\n",
    "        print(f'👍 Você acertou!')\n",
    "    else:\n",
    "        print(f'❌ Você errou!')\n",
    "\n",
    "    print()"
   ]
  }
 ],
 "metadata": {
  "kernelspec": {
   "display_name": "Python 3",
   "language": "python",
   "name": "python3"
  },
  "language_info": {
   "codemirror_mode": {
    "name": "ipython",
    "version": 3
   },
   "file_extension": ".py",
   "mimetype": "text/x-python",
   "name": "python",
   "nbconvert_exporter": "python",
   "pygments_lexer": "ipython3",
   "version": "3.8.10"
  }
 },
 "nbformat": 4,
 "nbformat_minor": 2
}
