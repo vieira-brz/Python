{
 "cells": [
  {
   "cell_type": "markdown",
   "metadata": {},
   "source": [
    "VENV"
   ]
  },
  {
   "cell_type": "code",
   "execution_count": 1,
   "metadata": {},
   "outputs": [],
   "source": [
    "# Você pode dar o nome que preferir para um\n",
    "# ambiente virtual, mas os mais comuns são:\n",
    "# venv env .venv .env\n",
    "\n",
    "# Como criar ambientes virtuais\n",
    "# Abra a pasta do seu projeto no terminal\n",
    "# e digite:\n",
    "# python -m venv venv\n",
    "\n",
    "# Ativando e desativando meu ambiente virtual\n",
    "# Windows: .\\venv\\Scripts\\activate\n",
    "# Linux e Mac: source venv/bin/activate\n",
    "# Desativar: deactivate"
   ]
  },
  {
   "cell_type": "markdown",
   "metadata": {},
   "source": [
    "PIP"
   ]
  },
  {
   "cell_type": "code",
   "execution_count": 2,
   "metadata": {},
   "outputs": [],
   "source": [
    "# pip - instalando pacotes e bibliotecas\n",
    "\n",
    "# Instalar última versão:\n",
    "# pip install nome_pacote\n",
    "\n",
    "# Instalar versão precisa\n",
    "# (tem outras formas também não mencionadas)\n",
    "# pip install nome_pacote==0.0.0\n",
    "\n",
    "# Desinstalar pacote\n",
    "# pip uninstall nome_pacote\n",
    "\n",
    "# Congelar (ver pacotes)\n",
    "# pip freeze\n",
    "\n",
    "# Criando e usando um requirements.txt\n",
    "# pip freeze > requirements.txt\n",
    "\n",
    "# Instalando tudo do requirements.txt\n",
    "# pip install -r requirements.txt"
   ]
  }
 ],
 "metadata": {
  "kernelspec": {
   "display_name": "Python 3",
   "language": "python",
   "name": "python3"
  },
  "language_info": {
   "codemirror_mode": {
    "name": "ipython",
    "version": 3
   },
   "file_extension": ".py",
   "mimetype": "text/x-python",
   "name": "python",
   "nbconvert_exporter": "python",
   "pygments_lexer": "ipython3",
   "version": "3.8.10"
  }
 },
 "nbformat": 4,
 "nbformat_minor": 2
}
