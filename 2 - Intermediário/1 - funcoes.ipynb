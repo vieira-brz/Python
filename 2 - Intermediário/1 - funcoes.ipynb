{
 "cells": [
  {
   "cell_type": "markdown",
   "metadata": {},
   "source": [
    "Função com parâmetros"
   ]
  },
  {
   "cell_type": "code",
   "execution_count": 3,
   "metadata": {},
   "outputs": [
    {
     "name": "stdout",
     "output_type": "stream",
     "text": [
      "3\n"
     ]
    }
   ],
   "source": [
    "def soma(x, y):\n",
    "    print(x + y)\n",
    "\n",
    "# Executando\n",
    "soma(2, 1)"
   ]
  },
  {
   "cell_type": "markdown",
   "metadata": {},
   "source": [
    "Argumento nomeado"
   ]
  },
  {
   "cell_type": "code",
   "execution_count": 2,
   "metadata": {},
   "outputs": [
    {
     "name": "stdout",
     "output_type": "stream",
     "text": [
      "3\n"
     ]
    }
   ],
   "source": [
    "soma(y=1, x=2)"
   ]
  },
  {
   "cell_type": "code",
   "execution_count": 1,
   "metadata": {},
   "outputs": [
    {
     "name": "stdout",
     "output_type": "stream",
     "text": [
      "{'nome': 'teste'}\n",
      "6\n"
     ]
    }
   ],
   "source": [
    "# Positional-Only Parameters (/) e Keyword-Only Arguments (*)\n",
    "# *args (ilimitado de argumentos posicionais)\n",
    "# **kwargs (ilimitado de argumentos nomeados)\n",
    "# 🟢 Positional-only Parameters (/) - Tudo antes da barra deve\n",
    "# ser ❗️APENAS❗️ posicional.\n",
    "# PEP 570 – Python Positional-Only Parameters\n",
    "# https://peps.python.org/pep-0570/\n",
    "# 🟢 Keyword-Only Arguments (*) - * sozinho ❗️NÃO SUGA❗️ valores.\n",
    "# PEP 3102 – Keyword-Only Arguments\n",
    "# https://peps.python.org/pep-3102/\n",
    "def soma(a, b, /, *, c, **kwargs):\n",
    "    print(kwargs)\n",
    "    print(a + b + c)\n",
    "\n",
    "\n",
    "soma(1, 2, c=3, nome='teste')"
   ]
  },
  {
   "cell_type": "markdown",
   "metadata": {},
   "source": [
    "Isso não muda o valor de x"
   ]
  },
  {
   "cell_type": "code",
   "execution_count": null,
   "metadata": {},
   "outputs": [],
   "source": [
    "x = 1\n",
    "\n",
    "def altera():\n",
    "    x = 10\n",
    "\n",
    "    def outro():\n",
    "        x = 20"
   ]
  },
  {
   "cell_type": "markdown",
   "metadata": {},
   "source": [
    "Isso altera"
   ]
  },
  {
   "cell_type": "code",
   "execution_count": null,
   "metadata": {},
   "outputs": [],
   "source": [
    "x = 1\n",
    "\n",
    "def altera():\n",
    "    global x\n",
    "    x = 10\n",
    "\n",
    "    def outro():\n",
    "        global x\n",
    "        x = 20"
   ]
  },
  {
   "cell_type": "code",
   "execution_count": null,
   "metadata": {},
   "outputs": [],
   "source": [
    "x = 1\n",
    "\n",
    "def altera(x):\n",
    "    x = 10\n",
    "\n",
    "    def outro(x):\n",
    "        x = 20"
   ]
  },
  {
   "cell_type": "markdown",
   "metadata": {},
   "source": [
    "Empacotamento de Argumentos"
   ]
  },
  {
   "cell_type": "markdown",
   "metadata": {},
   "source": [
    "-  argumentos não nomeados = *args"
   ]
  },
  {
   "cell_type": "code",
   "execution_count": 8,
   "metadata": {},
   "outputs": [
    {
     "name": "stdout",
     "output_type": "stream",
     "text": [
      "15\n"
     ]
    }
   ],
   "source": [
    "def soma(*args):\n",
    "    return sum(args)\n",
    "\n",
    "print(soma(1, 2, 3, 4, 5))"
   ]
  },
  {
   "cell_type": "markdown",
   "metadata": {},
   "source": [
    "- argumentos nomeados = kargs"
   ]
  },
  {
   "cell_type": "code",
   "execution_count": 5,
   "metadata": {},
   "outputs": [
    {
     "data": {
      "text/plain": [
       "{'nome': 'iadso', 'sobrenome': 'asdkop'}"
      ]
     },
     "execution_count": 5,
     "metadata": {},
     "output_type": "execute_result"
    }
   ],
   "source": [
    "pessoa = {\n",
    "    'nome': 'iadso',\n",
    "    'sobrenome': 'asdkop'\n",
    "}\n",
    "\n",
    "pessoa_completa = {**pessoa}\n",
    "pessoa_completa"
   ]
  },
  {
   "cell_type": "code",
   "execution_count": 8,
   "metadata": {},
   "outputs": [
    {
     "name": "stdout",
     "output_type": "stream",
     "text": [
      "Não nomeados:  (1, 2)\n",
      "Nomeados:  {'nome': 'João', 'qlq': 123}\n",
      "\n",
      "Não nomeados:  ()\n",
      "Nomeados:  {'nome': 'iadso', 'sobrenome': 'asdkop'}\n"
     ]
    }
   ],
   "source": [
    "def mostrar(*args, **kwargs):\n",
    "    print('Não nomeados: ', args)\n",
    "    print('Nomeados: ', kwargs)\n",
    "\n",
    "mostrar(1, 2, nome='João', qlq=123)\n",
    "\n",
    "print()\n",
    "\n",
    "mostrar(**pessoa_completa)"
   ]
  },
  {
   "cell_type": "markdown",
   "metadata": {},
   "source": [
    "Closure e funções que retornam outras funções"
   ]
  },
  {
   "cell_type": "markdown",
   "metadata": {},
   "source": [
    "- Código normal..."
   ]
  },
  {
   "cell_type": "code",
   "execution_count": 2,
   "metadata": {},
   "outputs": [
    {
     "name": "stdout",
     "output_type": "stream",
     "text": [
      "Bom dia, Vini\n"
     ]
    }
   ],
   "source": [
    "def criar_saudacao(saudacao, nome):\n",
    "    return f'{saudacao}, {nome}'\n",
    "\n",
    "saudacao = criar_saudacao('Bom dia', 'Vini')\n",
    "print(saudacao)"
   ]
  },
  {
   "cell_type": "markdown",
   "metadata": {},
   "source": [
    "- Closure..."
   ]
  },
  {
   "cell_type": "code",
   "execution_count": 4,
   "metadata": {},
   "outputs": [
    {
     "name": "stdout",
     "output_type": "stream",
     "text": [
      "Bom dia, Vini\n"
     ]
    }
   ],
   "source": [
    "def criar_saudacao(saudacao):\n",
    "    \n",
    "    def saudar(nome):\n",
    "        return f'{saudacao}, {nome}'\n",
    "    \n",
    "    return saudar # Retorna a função sem executar\n",
    "\n",
    "\n",
    "saudacao = criar_saudacao('Bom dia')\n",
    "print(saudacao('Vini'))"
   ]
  }
 ],
 "metadata": {
  "kernelspec": {
   "display_name": "Python 3",
   "language": "python",
   "name": "python3"
  },
  "language_info": {
   "codemirror_mode": {
    "name": "ipython",
    "version": 3
   },
   "file_extension": ".py",
   "mimetype": "text/x-python",
   "name": "python",
   "nbconvert_exporter": "python",
   "pygments_lexer": "ipython3",
   "version": "3.8.10"
  }
 },
 "nbformat": 4,
 "nbformat_minor": 2
}
