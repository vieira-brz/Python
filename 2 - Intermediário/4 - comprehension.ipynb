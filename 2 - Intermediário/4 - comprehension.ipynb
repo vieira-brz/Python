{
 "cells": [
  {
   "cell_type": "markdown",
   "metadata": {},
   "source": [
    "### List"
   ]
  },
  {
   "cell_type": "markdown",
   "metadata": {},
   "source": [
    "Primeiro caso (mais comum)"
   ]
  },
  {
   "cell_type": "code",
   "execution_count": 1,
   "metadata": {},
   "outputs": [
    {
     "data": {
      "text/plain": [
       "[0, 1, 2, 3, 4, 5, 6, 7, 8, 9]"
      ]
     },
     "execution_count": 1,
     "metadata": {},
     "output_type": "execute_result"
    }
   ],
   "source": [
    "lista = []\n",
    "\n",
    "for numero in range(10):\n",
    "    lista.append(numero)\n",
    "\n",
    "lista"
   ]
  },
  {
   "cell_type": "markdown",
   "metadata": {},
   "source": [
    "Usando Comprehension"
   ]
  },
  {
   "cell_type": "code",
   "execution_count": 3,
   "metadata": {},
   "outputs": [
    {
     "data": {
      "text/plain": [
       "[0, 2, 4, 6, 8, 10, 12, 14, 16, 18]"
      ]
     },
     "execution_count": 3,
     "metadata": {},
     "output_type": "execute_result"
    }
   ],
   "source": [
    "lista = [numero for numero in range(10)]\n",
    "lista"
   ]
  },
  {
   "cell_type": "code",
   "execution_count": 4,
   "metadata": {},
   "outputs": [
    {
     "data": {
      "text/plain": [
       "[0, 2, 4, 6, 8, 10, 12, 14, 16, 18]"
      ]
     },
     "execution_count": 4,
     "metadata": {},
     "output_type": "execute_result"
    }
   ],
   "source": [
    "lista = [\n",
    "    numero * 2\n",
    "    for numero in range(10)\n",
    "]\n",
    "lista"
   ]
  },
  {
   "cell_type": "markdown",
   "metadata": {},
   "source": [
    "Mapeamento de dados em list comprehension"
   ]
  },
  {
   "cell_type": "code",
   "execution_count": 5,
   "metadata": {},
   "outputs": [
    {
     "name": "stdout",
     "output_type": "stream",
     "text": [
      "{'nome': 'p1', 'preco': 20}\n",
      "{'nome': 'p2', 'preco': 10}\n",
      "{'nome': 'p3', 'preco': 31.5}\n"
     ]
    }
   ],
   "source": [
    "produtos = [\n",
    "    {'nome': 'p1', 'preco': 20, },\n",
    "    {'nome': 'p2', 'preco': 10, },\n",
    "    {'nome': 'p3', 'preco': 30, },\n",
    "]\n",
    "\n",
    "novos_produtos = [\n",
    "    {**produto, 'preco': produto['preco'] * 1.05}\n",
    "    if produto['preco'] > 20 else {**produto}\n",
    "    for produto in produtos\n",
    "]\n",
    "\n",
    "print(*novos_produtos, sep='\\n')"
   ]
  },
  {
   "cell_type": "markdown",
   "metadata": {},
   "source": [
    "Filtro"
   ]
  },
  {
   "cell_type": "code",
   "execution_count": 11,
   "metadata": {},
   "outputs": [
    {
     "name": "stdout",
     "output_type": "stream",
     "text": [
      "[{'nome': 'p1', 'preco': 20}, {'nome': 'p3', 'preco': 31.5}]\n"
     ]
    }
   ],
   "source": [
    "import pprint\n",
    "\n",
    "def p(v):\n",
    "    pprint.pprint(v)\n",
    "\n",
    "novos_produtos = [\n",
    "    {**produto, 'preco': produto['preco'] * 1.05} if produto['preco'] > 20 else {**produto}     # Mapeamento\n",
    "    for produto in produtos\n",
    "    if (produto['preco'] >= 20 and produto['preco'] * 1.05) > 10                                # Filtro\n",
    "]\n",
    "\n",
    "p(novos_produtos)"
   ]
  },
  {
   "cell_type": "code",
   "execution_count": 20,
   "metadata": {},
   "outputs": [
    {
     "name": "stdout",
     "output_type": "stream",
     "text": [
      "[(0, 0), (0, 1), (0, 2), (1, 0), (1, 1), (1, 2), (2, 0), (2, 1), (2, 2)]\n"
     ]
    }
   ],
   "source": [
    "lista = []\n",
    "\n",
    "for x in range(3):\n",
    "    for y in range(3):\n",
    "        lista.append((x, y))\n",
    "\n",
    "p(lista)"
   ]
  },
  {
   "cell_type": "code",
   "execution_count": 21,
   "metadata": {},
   "outputs": [
    {
     "name": "stdout",
     "output_type": "stream",
     "text": [
      "[(0, 0), (0, 1), (0, 2), (1, 0), (1, 1), (1, 2), (2, 0), (2, 1), (2, 2)]\n"
     ]
    }
   ],
   "source": [
    "lista = [\n",
    "    (x, y)\n",
    "    for x in range(3)\n",
    "    for y in range(3)\n",
    "]\n",
    "\n",
    "p(lista)"
   ]
  },
  {
   "cell_type": "code",
   "execution_count": 23,
   "metadata": {},
   "outputs": [
    {
     "name": "stdout",
     "output_type": "stream",
     "text": [
      "[[(0, 'L'), (0, 'u'), (0, 'i'), (0, 'z')],\n",
      " [(1, 'L'), (1, 'u'), (1, 'i'), (1, 'z')],\n",
      " [(2, 'L'), (2, 'u'), (2, 'i'), (2, 'z')]]\n"
     ]
    }
   ],
   "source": [
    "lista = [\n",
    "    [(x, letra) for letra in 'Luiz']\n",
    "    for x in range(3)\n",
    "]\n",
    "\n",
    "p(lista)"
   ]
  },
  {
   "cell_type": "markdown",
   "metadata": {},
   "source": [
    "### Dictionary e Set Comprehension"
   ]
  },
  {
   "cell_type": "markdown",
   "metadata": {},
   "source": [
    "Dictionary..."
   ]
  },
  {
   "cell_type": "code",
   "execution_count": 19,
   "metadata": {},
   "outputs": [
    {
     "name": "stdout",
     "output_type": "stream",
     "text": [
      "{'nome': 'CANETA AZUL', 'preco': 2.5}\n"
     ]
    }
   ],
   "source": [
    "produto = {\n",
    "    'nome': 'Caneta Azul',\n",
    "    'preco': 2.5,\n",
    "    'categoria': 'Escritório',\n",
    "}\n",
    "\n",
    "dc = {\n",
    "    chave: valor.upper() if isinstance(valor, str) else valor\n",
    "    for chave, valor\n",
    "    in produto.items()\n",
    "    if chave != 'categoria'\n",
    "}\n",
    "\n",
    "print(dc)"
   ]
  },
  {
   "cell_type": "code",
   "execution_count": 24,
   "metadata": {},
   "outputs": [
    {
     "name": "stdout",
     "output_type": "stream",
     "text": [
      "{'a': 'valor a', 'b': 'valor a'}\n"
     ]
    }
   ],
   "source": [
    "lista = [\n",
    "    ('a', 'valor a'),\n",
    "    ('b', 'valor a'),\n",
    "    ('b', 'valor a'),\n",
    "]\n",
    "\n",
    "dc = {\n",
    "    chave: valor\n",
    "    for chave, valor in lista\n",
    "}\n",
    "\n",
    "print(dc)"
   ]
  },
  {
   "cell_type": "markdown",
   "metadata": {},
   "source": [
    "Set..."
   ]
  },
  {
   "cell_type": "code",
   "execution_count": 25,
   "metadata": {},
   "outputs": [
    {
     "name": "stdout",
     "output_type": "stream",
     "text": [
      "{32, 1, 2, 64, 4, 128, 256, 512, 8, 16}\n"
     ]
    }
   ],
   "source": [
    "s1 = {2 ** i for i in range(10)}\n",
    "print(s1)"
   ]
  }
 ],
 "metadata": {
  "kernelspec": {
   "display_name": "Python 3",
   "language": "python",
   "name": "python3"
  },
  "language_info": {
   "codemirror_mode": {
    "name": "ipython",
    "version": 3
   },
   "file_extension": ".py",
   "mimetype": "text/x-python",
   "name": "python",
   "nbconvert_exporter": "python",
   "pygments_lexer": "ipython3",
   "version": "3.8.10"
  }
 },
 "nbformat": 4,
 "nbformat_minor": 2
}
