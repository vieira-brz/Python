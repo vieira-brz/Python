{
 "cells": [
  {
   "cell_type": "code",
   "execution_count": 2,
   "metadata": {},
   "outputs": [
    {
     "name": "stdout",
     "output_type": "stream",
     "text": [
      "\u001b[H\u001b[2JHello world\n",
      "aaaaaaaaaaaaaaaaaaaaaaaaaaaaaaaaaaaaaaaaaaaaaaaaaaaaaaaaaaaaaaaaaaaaaaaaaaaaaaaa\n",
      "aaaaaaaaaaaaaaaaaaaaaaaaaaaaaaaaaaaaaaaaaaaaaaaaaaaaaaaaaaaaaaaaaaaaaaaaaaaaaaaa\n",
      "aaaaaaaaaaaaaaaaaaaaaaaaaaaaaaaaaaaaaaaaaaaaaaaaaaaaaaaaaaaaaaaaaaaaaaaaaaaaaaaa\n",
      "aaaaaaaaaaaaaaaaaaaaaaaaaaaaaaaaaaaaaaaaaaaaaaaaaaaaaaaaaaaaaaaaaaaaaaaaaaaaaaaa\n",
      "aaaaaaaaaaaaaaaaaaaaaaaaaaaaaaaaaaaaaaaaaaaaaaaaaaaaaaaaaaaaaaaaaaaaaaaaaaaaaaaa\n",
      "aaaaaaaaaaaaaaaaaaaaaaaaaaaaaaaaaaaaaaaaaaaaaaaaaaaaaaaaaaaaaaaaaaaaaaaaaaaaaaaa\n"
     ]
    }
   ],
   "source": [
    "# O módulo os para interação com o sistema\n",
    "# Doc: https://docs.python.org/3/library/os.html\n",
    "# O módulo `os` fornece funções para interagir com o sistema operacional.\n",
    "# Por exemplo, o módulo os.path contém funções para trabalhar com caminhos de\n",
    "# arquivos e a função os.listdir() pode ser usada para listar os arquivos em um\n",
    "# diretório. O método os.system() permite executar comandos do sistema\n",
    "# operacional a partir do seu código Python.\n",
    "# Windows 11 (PowerShell), Linux, Mac = clear\n",
    "# Windows (antigo, cmd) = cls\n",
    "import os\n",
    "\n",
    "os.system('clear')\n",
    "os.system('echo \"Hello world\"')\n",
    "\n",
    "print('a' * 80)\n",
    "print('a' * 80)\n",
    "print('a' * 80)\n",
    "print('a' * 80)\n",
    "print('a' * 80)\n",
    "print('a' * 80)"
   ]
  },
  {
   "cell_type": "markdown",
   "metadata": {},
   "source": [
    "Caminhos (linux, windows, etc...)..."
   ]
  },
  {
   "cell_type": "code",
   "execution_count": 3,
   "metadata": {},
   "outputs": [
    {
     "name": "stdout",
     "output_type": "stream",
     "text": [
      "Desktop/curso/arquivo.txt\n",
      "arquivo.txt\n",
      "curso\n",
      "Desktop/curso\n"
     ]
    }
   ],
   "source": [
    "# os.path trabalha com caminhos em Windows, Linux e Mac\n",
    "# Doc: https://docs.python.org/3/library/os.path.html#module-os.path\n",
    "# os.path é um módulo que fornece funções para trabalhar com caminhos de\n",
    "# arquivos em Windows, Mac ou Linux sem precisar se preocupar com as diferenças\n",
    "# entre esses sistemas.\n",
    "# Exemplos do os.path:\n",
    "# os.path.join: junta strings em um único caminho. Desse modo,\n",
    "# os.path.join('pasta1', 'pasta2', 'arquivo.txt') retornaria\n",
    "# 'pasta1/pasta2/arquivo.txt' no Linux ou Mac, e\n",
    "# 'pasta1\\pasta2\\arquivo.txt' no Windows.\n",
    "# os.path.split: divide um caminho uma tupla (diretório, arquivo).\n",
    "# Por exemplo, os.path.split('/home/user/arquivo.txt')\n",
    "# retornaria ('/home/user', 'arquivo.txt').\n",
    "# os.path.exists: verifica se um caminho especificado existe.\n",
    "# os.path só trabalha com caminhos de arquivos e não faz nenhuma\n",
    "# operação de entrada/saída (I/O) com arquivos em si.\n",
    "import os\n",
    "\n",
    "caminho = os.path.join('Desktop', 'curso', 'arquivo.txt')\n",
    "# print(caminho)\n",
    "diretorio, arquivo = os.path.split(caminho)\n",
    "nome_arquivo, extensao_arquivo = os.path.splitext(arquivo)\n",
    "# print(nome_arquivo, extensao_arquivo)\n",
    "# print(os.path.exists('/Users/luizotavio/Desktop/curso-python-rep'))\n",
    "# print(os.path.abspath('.'))\n",
    "print(caminho)\n",
    "print(os.path.basename(caminho))\n",
    "print(os.path.basename(diretorio))\n",
    "print(os.path.dirname(caminho))"
   ]
  },
  {
   "cell_type": "markdown",
   "metadata": {},
   "source": [
    "Navegar em caminhos..."
   ]
  },
  {
   "cell_type": "code",
   "execution_count": null,
   "metadata": {},
   "outputs": [],
   "source": [
    "# os.listdir para navegar em caminhos\n",
    "# /Users/luizotavio/Desktop/EXEMPLO\n",
    "# C:\\Users\\luizotavio\\Desktop\\EXEMPLO\n",
    "# caminho = r'C:\\\\Users\\\\luizotavio\\\\Desktop\\\\EXEMPLO'\n",
    "import os\n",
    "\n",
    "caminho = os.path.join('/Users', 'usuario', 'Desktop', 'EXEMPLO')\n",
    "\n",
    "for pasta in os.listdir(caminho):\n",
    "    caminho_completo_pasta = os.path.join(caminho, pasta)\n",
    "    print(pasta)\n",
    "\n",
    "    if not os.path.isdir(caminho_completo_pasta):\n",
    "        continue\n",
    "\n",
    "    for imagem in os.listdir(caminho_completo_pasta):\n",
    "        print('  ', imagem)"
   ]
  },
  {
   "cell_type": "markdown",
   "metadata": {},
   "source": [
    "Navegar em caminhos de forma recursiva..."
   ]
  },
  {
   "cell_type": "code",
   "execution_count": 6,
   "metadata": {},
   "outputs": [],
   "source": [
    "# os.walk para navegar de caminhos de forma recursiva\n",
    "# os.walk é uma função que permite percorrer uma estrutura de diretórios de\n",
    "# maneira recursiva. Ela gera uma sequência de tuplas, onde cada tupla possui\n",
    "# três elementos: o diretório atual (root), uma lista de subdiretórios (dirs)\n",
    "# e uma lista dos arquivos do diretório atual (files).\n",
    "import os\n",
    "from itertools import count\n",
    "\n",
    "caminho = os.path.join('/Users', 'luizotavio', 'Desktop', 'EXEMPLO')\n",
    "counter = count()\n",
    "\n",
    "for root, dirs, files in os.walk(caminho):\n",
    "    the_counter = next(counter)\n",
    "    print(the_counter, 'Pasta atual', root)\n",
    "\n",
    "    for dir_ in dirs:\n",
    "        print('  ', the_counter, 'Dir:', dir_)\n",
    "\n",
    "    for file_ in files:\n",
    "        caminho_completo_arquivo = os.path.join(root, file_)\n",
    "        print('  ', the_counter, 'FILE:', caminho_completo_arquivo)\n",
    "        # NÃO FAÇA ISSO (VAI APAGAR TUDO DA PASTA)\n",
    "        # os.unlink(caminho_completo_arquivo)"
   ]
  },
  {
   "cell_type": "markdown",
   "metadata": {},
   "source": [
    "Dados dos arquivos (em bytes)..."
   ]
  },
  {
   "cell_type": "code",
   "execution_count": 7,
   "metadata": {},
   "outputs": [],
   "source": [
    "# os.path.getsize e os.stat para dados dos arquivos (tamanho em bytes)\n",
    "import math\n",
    "import os\n",
    "from itertools import count\n",
    "\n",
    "\n",
    "def formata_tamanho(tamanho_em_bytes: int, base: int = 1000) -> str:\n",
    "    \"\"\"Formata um tamanho, de bytes para o tamanho apropriado\"\"\"\n",
    "\n",
    "    # Original:\n",
    "    # https://stackoverflow.com/questions/5194057/better-way-to-convert-file-sizes-in-python\n",
    "\n",
    "    # Se o tamanho for menor ou igual a 0, 0B.\n",
    "    if tamanho_em_bytes <= 0:\n",
    "        return \"0B\"\n",
    "\n",
    "    # Tupla com os tamanhos\n",
    "    #                      0    1     2     3     4     5\n",
    "    abreviacao_tamanhos = \"B\", \"KB\", \"MB\", \"GB\", \"TB\", \"PB\"\n",
    "    # Logaritmo -> https://brasilescola.uol.com.br/matematica/logaritmo.htm\n",
    "    # math.log vai retornar o logaritmo do tamanho_em_bytes\n",
    "    # com a base (1000 por padrão), isso deve bater\n",
    "    # com o nosso índice na abreviação dos tamanhos\n",
    "    indice_abreviacao_tamanhos = int(math.log(tamanho_em_bytes, base))\n",
    "    # Por quanto nosso tamanho deve ser dividido para\n",
    "    # gerar o tamanho correto.\n",
    "    potencia = base ** indice_abreviacao_tamanhos\n",
    "    # Nosso tamanho final\n",
    "    tamanho_final = tamanho_em_bytes / potencia\n",
    "    # A abreviação que queremos\n",
    "    abreviacao_tamanho = abreviacao_tamanhos[indice_abreviacao_tamanhos]\n",
    "    return f'{tamanho_final:.2f} {abreviacao_tamanho}'\n",
    "\n",
    "\n",
    "caminho = os.path.join('/Users', 'luizotavio', 'Desktop', 'EXEMPLO')\n",
    "counter = count()\n",
    "\n",
    "for root, dirs, files in os.walk(caminho):\n",
    "    the_counter = next(counter)\n",
    "    print(the_counter, 'Pasta atual', root)\n",
    "\n",
    "    for dir_ in dirs:\n",
    "        print('  ', the_counter, 'Dir:', dir_)\n",
    "\n",
    "    for file_ in files:\n",
    "        caminho_completo_arquivo = os.path.join(root, file_)\n",
    "        # tamanho = os.path.getsize(caminho_completo_arquivo)\n",
    "        stats = os.stat(caminho_completo_arquivo)\n",
    "        tamanho = stats.st_size\n",
    "        print('  ', the_counter, 'FILE:', file_, formata_tamanho(tamanho))\n",
    "        # NÃO FAÇA ISSO (VAI APAGAR TUDO DA PASTA)\n",
    "        # os.unlink(caminho_completo_arquivo)"
   ]
  },
  {
   "cell_type": "markdown",
   "metadata": {},
   "source": [
    "Copiando arquivos com shutil..."
   ]
  },
  {
   "cell_type": "code",
   "execution_count": 8,
   "metadata": {},
   "outputs": [],
   "source": [
    "# os + shutil - Copiando arquivos com Python\n",
    "# Vamos copiar arquivos de uma pasta para outra.\n",
    "# Copiar -> shutil.copy\n",
    "import os\n",
    "import shutil\n",
    "\n",
    "HOME = os.path.expanduser('~')\n",
    "DESKTOP = os.path.join(HOME, 'Desktop')\n",
    "PASTA_ORIGINAL = os.path.join(DESKTOP, 'EXEMPLO')\n",
    "NOVA_PASTA = os.path.join(DESKTOP, 'NOVA_PASTA')\n",
    "\n",
    "os.makedirs(NOVA_PASTA, exist_ok=True)\n",
    "\n",
    "for root, dirs, files in os.walk(PASTA_ORIGINAL):\n",
    "    for dir_ in dirs:\n",
    "        caminnho_novo_diretorio = os.path.join(\n",
    "            root.replace(PASTA_ORIGINAL, NOVA_PASTA), dir_\n",
    "        )\n",
    "        os.makedirs(caminnho_novo_diretorio, exist_ok=True)\n",
    "\n",
    "    for file in files:\n",
    "        caminho_arquivo = os.path.join(root, file)\n",
    "        caminnho_novo_arquivo = os.path.join(\n",
    "            root.replace(PASTA_ORIGINAL, NOVA_PASTA), file\n",
    "        )\n",
    "        shutil.copy(caminho_arquivo, caminnho_novo_arquivo)"
   ]
  },
  {
   "cell_type": "markdown",
   "metadata": {},
   "source": [
    "Apagando, copiando, movendo e renomeando pastas..."
   ]
  },
  {
   "cell_type": "code",
   "execution_count": null,
   "metadata": {},
   "outputs": [],
   "source": [
    "# os + shutil - Apagando, copiando, movendo e renomeando pastas com Python\n",
    "# Vamos copiar arquivos de uma pasta para outra.\n",
    "# Copiar -> shutil.copy\n",
    "# Copiar Árvore recursivamente -> shutil.copytree\n",
    "# Apagar Árvore recursivamente -> shutil.rmtree\n",
    "# Apagar arquivos -> os.unlink\n",
    "# Renomear/Mover -> shutil.move ou os.rename\n",
    "import os\n",
    "import shutil\n",
    "\n",
    "HOME = os.path.expanduser('~')\n",
    "DESKTOP = os.path.join(HOME, 'Desktop')\n",
    "PASTA_ORIGINAL = os.path.join(DESKTOP, 'EXEMPLO')\n",
    "NOVA_PASTA = os.path.join(DESKTOP, 'NOVA_PASTA')\n",
    "\n",
    "shutil.rmtree(NOVA_PASTA, ignore_errors=True)\n",
    "shutil.copytree(PASTA_ORIGINAL, NOVA_PASTA)\n",
    "# shutil.move(NOVA_PASTA, NOVA_PASTA + '_EITA')\n",
    "shutil.rmtree(NOVA_PASTA, ignore_errors=True)\n",
    "\n",
    "# os.makedirs(NOVA_PASTA, exist_ok=True)\n",
    "\n",
    "# for root, dirs, files in os.walk(PASTA_ORIGINAL):\n",
    "#     for dir_ in dirs:\n",
    "#         caminnho_novo_diretorio = os.path.join(\n",
    "#             root.replace(PASTA_ORIGINAL, NOVA_PASTA), dir_\n",
    "#         )\n",
    "#         os.makedirs(caminnho_novo_diretorio, exist_ok=True)\n",
    "\n",
    "#     for file in files:\n",
    "#         caminho_arquivo = os.path.join(root, file)\n",
    "#         caminnho_novo_arquivo = os.path.join(\n",
    "#             root.replace(PASTA_ORIGINAL, NOVA_PASTA), file\n",
    "#         )\n",
    "#         shutil.copy(caminho_arquivo, caminnho_novo_arquivo)"
   ]
  }
 ],
 "metadata": {
  "kernelspec": {
   "display_name": "Python 3",
   "language": "python",
   "name": "python3"
  },
  "language_info": {
   "codemirror_mode": {
    "name": "ipython",
    "version": 3
   },
   "file_extension": ".py",
   "mimetype": "text/x-python",
   "name": "python",
   "nbconvert_exporter": "python",
   "pygments_lexer": "ipython3",
   "version": "3.8.10"
  }
 },
 "nbformat": 4,
 "nbformat_minor": 2
}
