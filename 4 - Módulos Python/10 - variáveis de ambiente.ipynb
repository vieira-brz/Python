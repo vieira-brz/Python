{
 "cells": [
  {
   "cell_type": "markdown",
   "metadata": {},
   "source": [
    "os.getenv, os.environ, python-dotenv..."
   ]
  },
  {
   "cell_type": "code",
   "execution_count": null,
   "metadata": {},
   "outputs": [],
   "source": [
    "# Variáveis de ambiente com Python\n",
    "# Para variáveis de ambiente\n",
    "# Windows PS: $env:VARIAVEL=\"VALOR\" | dir env:\n",
    "# Linux e Mac: export NOME_VARIAVEL=\"VALOR\" | echo $VARIAVEL\n",
    "# Para obter o valor das variáveis de ambiente\n",
    "# os.getenv ou os.environ['VARIAVEL']\n",
    "# Para configurar variáveis de ambiente\n",
    "# os.environ['VARIAVEL'] = 'valor'\n",
    "# Ou usando python-dotenv e o arquivo .env\n",
    "# pip install python-dotenv\n",
    "# from dotenv import load_dotenv\n",
    "# load_dotenv()\n",
    "# https://pypi.org/project/python-dotenv/\n",
    "# OBS.: sempre lembre-se de criar um .env-example\n",
    "import os\n",
    "\n",
    "from dotenv import load_dotenv  # type: ignore\n",
    "\n",
    "load_dotenv()\n",
    "\n",
    "# print(os.environ)\n",
    "print(os.getenv('BD_PASSWORD'))"
   ]
  }
 ],
 "metadata": {
  "language_info": {
   "name": "python"
  }
 },
 "nbformat": 4,
 "nbformat_minor": 2
}
