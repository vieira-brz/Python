{
 "cells": [
  {
   "cell_type": "markdown",
   "metadata": {},
   "source": [
    "Ler CSV separado por virgula..."
   ]
  },
  {
   "cell_type": "code",
   "execution_count": null,
   "metadata": {},
   "outputs": [],
   "source": [
    "# CSV (Comma Separated Values - Valores separados por vírgulas)\n",
    "# É um formato de arquivo que armazena dados em forma de tabela, onde cada\n",
    "# linha representa uma linha da tabela e as colunas são separadas por vírgulas.\n",
    "# Ele é amplamente utilizado para transferir dados entre sistemas de diferentes\n",
    "# plataformas, como por exemplo, para importar ou exportar dados para uma\n",
    "# planilha (Google Sheets, Excel, LibreOffice Calc) ou para uma base de dados.\n",
    "# Um arquivo CSV geralmente tem a extensão \".csv\" e pode ser aberto em um\n",
    "# editor de texto ou em uma planilha eletrônica.\n",
    "# Um exemplo de um arquivo CSV pode ser:\n",
    "# Nome,Idade,Endereço\n",
    "# Luiz Otávio,32,\"Av Brasil, 21, Centro\"\n",
    "# João da Silva,55,\"Rua 22, 44, Nova Era\"\n",
    "# A primeira linha do arquivo define os nomes das colunas da, enquanto as\n",
    "# linhas seguintes contêm os valores das linhas, separados por vírgulas.\n",
    "# Regras simples do CSV\n",
    "# 1 - Separe os valores das colunas com um delimitador único (,)\n",
    "# 2 - Cada registro deve estar em uma linha\n",
    "# 3 - Não deixar linhas ou espaços sobrando\n",
    "# 4 - Use o caractere de escape (\") quando o delimitador aparecer no valor.\n",
    "\n",
    "# csv.reader e csv.DictReader\n",
    "# csv.reader lê o CSV em formato de lista\n",
    "# csv.DictReader lê o CSV em formato de dicionário\n",
    "import csv\n",
    "from pathlib import Path\n",
    "\n",
    "CAMINHO_CSV = Path(__file__).parent / 'aula179.csv'\n",
    "\n",
    "with open(CAMINHO_CSV, 'r') as arquivo:\n",
    "    leitor = csv.DictReader(arquivo)\n",
    "\n",
    "    for linha in leitor:\n",
    "        print(linha['Nome'], linha['Idade'], linha['Endereço'])\n",
    "\n",
    "# with open(CAMINHO_CSV, 'r') as arquivo:\n",
    "#     leitor = csv.reader(arquivo)\n",
    "\n",
    "#     for linha in leitor:\n",
    "#         print(linha)"
   ]
  },
  {
   "cell_type": "markdown",
   "metadata": {},
   "source": [
    "Escrever em CSV..."
   ]
  },
  {
   "cell_type": "code",
   "execution_count": null,
   "metadata": {},
   "outputs": [],
   "source": [
    "# csv.writer e csv.DictWriter para escrever em CSV\n",
    "# csv.reader lê o CSV em formato de lista\n",
    "# csv.DictReader lê o CSV em formato de dicionário\n",
    "import csv\n",
    "from pathlib import Path\n",
    "\n",
    "CAMINHO_CSV = Path(__file__).parent / 'aula180.csv'\n",
    "\n",
    "lista_clientes = [\n",
    "    {'Nome': 'Luiz Otávio', 'Endereço': 'Av 1, 22'},\n",
    "    {'Nome': 'João Silva', 'Endereço': 'R. 2, \"1\"'},\n",
    "    {'Nome': 'Maria Sol', 'Endereço': 'Av B, 3A'},\n",
    "]\n",
    "\n",
    "with open(CAMINHO_CSV, 'w') as arquivo:\n",
    "    nome_colunas = lista_clientes[0].keys()\n",
    "    escritor = csv.DictWriter(\n",
    "        arquivo,\n",
    "        fieldnames=nome_colunas\n",
    "    )\n",
    "    escritor.writeheader()\n",
    "\n",
    "    for cliente in lista_clientes:\n",
    "        print(cliente)\n",
    "        escritor.writerow(cliente)\n",
    "\n",
    "\n",
    "# lista_clientes = [\n",
    "#     ['Luiz Otávio', 'Av 1, 22'],\n",
    "#     ['João Silva', 'R. 2, \"1\"'],\n",
    "#     ['Maria Sol', 'Av B, 3A'],\n",
    "# ]\n",
    "# with open(CAMINHO_CSV, 'w') as arquivo:\n",
    "#     # nome_colunas = lista_clientes[0].keys()\n",
    "#     nome_colunas = ['Nome', 'Endereço']\n",
    "#     escritor = csv.writer(arquivo)\n",
    "\n",
    "#     escritor.writerow(nome_colunas)\n",
    "\n",
    "#     for cliente in lista_clientes:\n",
    "#         escritor.writerow(cliente)"
   ]
  }
 ],
 "metadata": {
  "language_info": {
   "name": "python"
  }
 },
 "nbformat": 4,
 "nbformat_minor": 2
}
