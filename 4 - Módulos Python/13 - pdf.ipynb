{
 "cells": [
  {
   "cell_type": "markdown",
   "metadata": {},
   "source": [
    "PDF Reader..."
   ]
  },
  {
   "cell_type": "code",
   "execution_count": null,
   "metadata": {},
   "outputs": [],
   "source": [
    "# # PyPDF2 para manipular arquivos PDF (Instalação)\n",
    "# PyPDF2 é uma biblioteca de manipulação de arquivos PDF feita em Python puro,\n",
    "# gratuita e de código aberto. Ela é capaz de ler, manipular, escrever e unir\n",
    "# dados de arquivos PDF, assim como adicionar anotações, transformar páginas,\n",
    "# extrair texto e imagens, manipular metadados, e mais.\n",
    "# A documentação contém todas as informações necessárias para usar PyPDF2.\n",
    "# Link: https://pypdf2.readthedocs.io/en/3.0.0/\n",
    "# Ative seu ambiente virtual\n",
    "# pip install pypdf2\n",
    "\n",
    "from pathlib import Path\n",
    "\n",
    "from PyPDF2 import PdfReader\n",
    "\n",
    "PASTA_RAIZ = Path(__file__).parent\n",
    "PASTA_ORIGINAIS = PASTA_RAIZ / 'pdfs_originais'\n",
    "PASTA_NOVA = PASTA_RAIZ / 'arquivos_novos'\n",
    "\n",
    "RELATORIO_BACEN = PASTA_ORIGINAIS / 'R20230210.pdf'\n",
    "\n",
    "PASTA_NOVA.mkdir(exist_ok=True)\n",
    "\n",
    "reader = PdfReader(RELATORIO_BACEN)\n",
    "\n",
    "# print(len(reader.pages))\n",
    "# for page in reader.pages:\n",
    "#     print(page)\n",
    "#     print()\n",
    "\n",
    "page0 = reader.pages[0]\n",
    "imagem0 = page0.images[0]\n",
    "\n",
    "# print(page0.extract_text())\n",
    "# with open(PASTA_NOVA / imagem0.name, 'wb') as fp:\n",
    "#     fp.write(imagem0.data)"
   ]
  },
  {
   "cell_type": "markdown",
   "metadata": {},
   "source": [
    "PDF Writer..."
   ]
  },
  {
   "cell_type": "code",
   "execution_count": null,
   "metadata": {},
   "outputs": [],
   "source": [
    "from pathlib import Path\n",
    "\n",
    "from PyPDF2 import PdfReader, PdfWriter\n",
    "\n",
    "PASTA_RAIZ = Path(__file__).parent\n",
    "PASTA_ORIGINAIS = PASTA_RAIZ / 'pdfs_originais'\n",
    "# print(page0.extract_text())\n",
    "# with open(PASTA_NOVA / imagem0.name, 'wb') as fp:\n",
    "#     fp.write(imagem0.data)\n",
    "\n",
    "\n",
    "for i, page in enumerate(reader.pages):\n",
    "    writer = PdfWriter()\n",
    "    with open(PASTA_NOVA / f'page{i}.pdf', 'wb') as arquivo:\n",
    "        writer.add_page(page)\n",
    "        writer.write(arquivo)  # type: ignore"
   ]
  },
  {
   "cell_type": "markdown",
   "metadata": {},
   "source": [
    "PDF Merger..."
   ]
  },
  {
   "cell_type": "code",
   "execution_count": null,
   "metadata": {},
   "outputs": [],
   "source": [
    "from pathlib import Path\n",
    "\n",
    "from PyPDF2 import PdfMerger, PdfReader, PdfWriter\n",
    "\n",
    "PASTA_RAIZ = Path(__file__).parent\n",
    "PASTA_ORIGINAIS = PASTA_RAIZ / 'pdfs_originais'\n",
    "\n",
    "with open(PASTA_NOVA / f'page{i}.pdf', 'wb') as arquivo:\n",
    "    writer.add_page(page)\n",
    "    writer.write(arquivo)  # type: ignore\n",
    "\n",
    "\n",
    "files = [\n",
    "    PASTA_NOVA / 'page1.pdf',\n",
    "    PASTA_NOVA / 'page0.pdf',\n",
    "\n",
    "]\n",
    "\n",
    "merger = PdfMerger()\n",
    "for file in files:\n",
    "    merger.append(file)  # type: ignore\n",
    "\n",
    "merger.write(PASTA_NOVA / 'MERGED.pdf')  # type: ignore\n",
    "merger.close()"
   ]
  }
 ],
 "metadata": {
  "language_info": {
   "name": "python"
  }
 },
 "nbformat": 4,
 "nbformat_minor": 2
}
