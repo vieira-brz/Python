{
 "cells": [
  {
   "cell_type": "markdown",
   "metadata": {},
   "source": [
    "Escolher e baixar o chromedriver...\n",
    "\n",
    "https://www.udemy.com/course/python-3-do-zero-ao-avancado/learn/lecture/36044258#overview"
   ]
  },
  {
   "cell_type": "markdown",
   "metadata": {},
   "source": [
    "Automatizando tarefas do navegador..."
   ]
  },
  {
   "cell_type": "code",
   "execution_count": 1,
   "metadata": {},
   "outputs": [
    {
     "ename": "NameError",
     "evalue": "name '__file__' is not defined",
     "output_type": "error",
     "traceback": [
      "\u001b[0;31m---------------------------------------------------------------------------\u001b[0m",
      "\u001b[0;31mNameError\u001b[0m                                 Traceback (most recent call last)",
      "Cell \u001b[0;32mIn[1], line 20\u001b[0m\n\u001b[1;32m     11\u001b[0m \u001b[38;5;28;01mfrom\u001b[39;00m \u001b[38;5;21;01mselenium\u001b[39;00m\u001b[38;5;21;01m.\u001b[39;00m\u001b[38;5;21;01mwebdriver\u001b[39;00m\u001b[38;5;21;01m.\u001b[39;00m\u001b[38;5;21;01msupport\u001b[39;00m\u001b[38;5;21;01m.\u001b[39;00m\u001b[38;5;21;01mwait\u001b[39;00m \u001b[38;5;28;01mimport\u001b[39;00m WebDriverWait\n\u001b[1;32m     13\u001b[0m \u001b[38;5;66;03m# Chrome Options\u001b[39;00m\n\u001b[1;32m     14\u001b[0m \u001b[38;5;66;03m# https://peter.sh/experiments/chromium-command-line-switches/\u001b[39;00m\n\u001b[1;32m     15\u001b[0m \u001b[38;5;66;03m# Doc Selenium\u001b[39;00m\n\u001b[0;32m   (...)\u001b[0m\n\u001b[1;32m     18\u001b[0m \n\u001b[1;32m     19\u001b[0m \u001b[38;5;66;03m# Caminho para a raiz do projeto\u001b[39;00m\n\u001b[0;32m---> 20\u001b[0m ROOT_FOLDER \u001b[38;5;241m=\u001b[39m Path(\u001b[38;5;18;43m__file__\u001b[39;49m)\u001b[38;5;241m.\u001b[39mparent\n\u001b[1;32m     21\u001b[0m \u001b[38;5;66;03m# Caminho para a pasta onde o chromedriver está\u001b[39;00m\n\u001b[1;32m     22\u001b[0m CHROME_DRIVER_PATH \u001b[38;5;241m=\u001b[39m ROOT_FOLDER \u001b[38;5;241m/\u001b[39m \u001b[38;5;124m'\u001b[39m\u001b[38;5;124mdrivers\u001b[39m\u001b[38;5;124m'\u001b[39m \u001b[38;5;241m/\u001b[39m \u001b[38;5;124m'\u001b[39m\u001b[38;5;124mchromedriver\u001b[39m\u001b[38;5;124m'\u001b[39m\n",
      "\u001b[0;31mNameError\u001b[0m: name '__file__' is not defined"
     ]
    }
   ],
   "source": [
    "# type: ignore\n",
    "# Selenium - Automatizando tarefas no navegador\n",
    "from pathlib import Path\n",
    "from time import sleep\n",
    "\n",
    "from selenium import webdriver\n",
    "from selenium.webdriver.chrome.service import Service\n",
    "from selenium.webdriver.common.by import By\n",
    "from selenium.webdriver.common.keys import Keys\n",
    "from selenium.webdriver.support import expected_conditions as EC\n",
    "from selenium.webdriver.support.wait import WebDriverWait\n",
    "\n",
    "# Chrome Options\n",
    "# https://peter.sh/experiments/chromium-command-line-switches/\n",
    "# Doc Selenium\n",
    "# https://selenium-python.readthedocs.io/locating-elements.html\n",
    "\n",
    "\n",
    "# Caminho para a raiz do projeto\n",
    "ROOT_FOLDER = Path(__file__).parent\n",
    "# Caminho para a pasta onde o chromedriver está\n",
    "CHROME_DRIVER_PATH = ROOT_FOLDER / 'drivers' / 'chromedriver'\n",
    "\n",
    "\n",
    "def make_chrome_browser(*options: str) -> webdriver.Chrome:\n",
    "    chrome_options = webdriver.ChromeOptions()\n",
    "\n",
    "    # chrome_options.add_argument('--headless')\n",
    "    if options is not None:\n",
    "        for option in options:\n",
    "            chrome_options.add_argument(option)\n",
    "\n",
    "    chrome_service = Service(\n",
    "        executable_path=str(CHROME_DRIVER_PATH),\n",
    "    )\n",
    "\n",
    "    browser = webdriver.Chrome(\n",
    "        service=chrome_service,\n",
    "        options=chrome_options\n",
    "    )\n",
    "\n",
    "    return browser\n",
    "\n",
    "\n",
    "if __name__ == '__main__':\n",
    "    TIME_TO_WAIT = 10\n",
    "\n",
    "    # Example\n",
    "    # options = '--headless', '--disable-gpu',\n",
    "    options = ()\n",
    "    browser = make_chrome_browser(*options)\n",
    "\n",
    "    # Como antes\n",
    "    browser.get('https://www.google.com')\n",
    "\n",
    "    # Espere para encontrar o input\n",
    "    search_input = WebDriverWait(browser, TIME_TO_WAIT).until(\n",
    "        EC.presence_of_element_located(\n",
    "            (By.NAME, 'q')\n",
    "        )\n",
    "    )\n",
    "    search_input.send_keys('Hello World!')\n",
    "    search_input.send_keys(Keys.ENTER)\n",
    "\n",
    "    results = browser.find_element(By.ID, 'search')\n",
    "    links = results.find_elements(By.TAG_NAME, 'a')\n",
    "    links[0].click()\n",
    "\n",
    "    # Dorme por 10 segundos\n",
    "    sleep(TIME_TO_WAIT)"
   ]
  }
 ],
 "metadata": {
  "kernelspec": {
   "display_name": "Python 3",
   "language": "python",
   "name": "python3"
  },
  "language_info": {
   "codemirror_mode": {
    "name": "ipython",
    "version": 3
   },
   "file_extension": ".py",
   "mimetype": "text/x-python",
   "name": "python",
   "nbconvert_exporter": "python",
   "pygments_lexer": "ipython3",
   "version": "3.8.10"
  }
 },
 "nbformat": 4,
 "nbformat_minor": 2
}
