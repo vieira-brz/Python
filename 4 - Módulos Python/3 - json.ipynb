{
 "cells": [
  {
   "cell_type": "markdown",
   "metadata": {},
   "source": [
    "json.dumps e json.loads..."
   ]
  },
  {
   "cell_type": "code",
   "execution_count": null,
   "metadata": {},
   "outputs": [],
   "source": [
    "# json.dumps e json.loads com strings + typing.TypedDict\n",
    "# Ao converter de Python para JSON:\n",
    "# Python        JSON\n",
    "# dict          object\n",
    "# list, tuple   array\n",
    "# str           string\n",
    "# int, float    number\n",
    "# True          true\n",
    "# False         false\n",
    "# None          null\n",
    "import json\n",
    "# from pprint import pprint\n",
    "from typing import TypedDict\n",
    "\n",
    "\n",
    "class Movie(TypedDict):\n",
    "    title: str\n",
    "    original_title: str\n",
    "    is_movie: bool\n",
    "    imdb_rating: float\n",
    "    year: int\n",
    "    characters: list[str]\n",
    "    budget: None | float\n",
    "\n",
    "\n",
    "string_json = '''\n",
    "{\n",
    "  \"title\": \"O Senhor dos Anéis: A Sociedade do Anel\",\n",
    "  \"original_title\": \"The Lord of the Rings: The Fellowship of the Ring\",\n",
    "  \"is_movie\": true,\n",
    "  \"imdb_rating\": 8.8,\n",
    "  \"year\": 2001,\n",
    "  \"characters\": [\"Frodo\", \"Sam\", \"Gandalf\", \"Legolas\", \"Boromir\"],\n",
    "  \"budget\": null\n",
    "}\n",
    "'''\n",
    "filme: Movie = json.loads(string_json)\n",
    "# pprint(filme, width=40)\n",
    "# print(filme['title'])\n",
    "# print(filme['characters'][0])\n",
    "# print(filme['year'] + 10)\n",
    "\n",
    "json_string = json.dumps(filme, ensure_ascii=False, indent=2)\n",
    "print(json_string)"
   ]
  },
  {
   "cell_type": "markdown",
   "metadata": {},
   "source": [
    "json.dump e json.load com arquivos..."
   ]
  },
  {
   "cell_type": "code",
   "execution_count": null,
   "metadata": {},
   "outputs": [],
   "source": [
    "# json.dump e json.load com arquivos\n",
    "import json\n",
    "import os\n",
    "\n",
    "NOME_ARQUIVO = 'aula177.json'\n",
    "\n",
    "CAMINHO_ABSOLUTO_ARQUIVO = os.path.abspath(\n",
    "    os.path.join(\n",
    "        os.path.dirname(__file__),\n",
    "        NOME_ARQUIVO\n",
    "    )\n",
    ")\n",
    "\n",
    "filme = {\n",
    "    'title': 'O Senhor dos Anéis: A Sociedade do Anel',\n",
    "    'original_title': 'The Lord of the Rings: The Fellowship of the Ring',\n",
    "    'is_movie': True,\n",
    "    'imdb_rating': 8.8,\n",
    "    'year': 2001,\n",
    "    'characters': ['Frodo', 'Sam', 'Gandalf', 'Legolas', 'Boromir'],\n",
    "    'budget': None\n",
    "}\n",
    "\n",
    "with open(CAMINHO_ABSOLUTO_ARQUIVO, 'w') as arquivo:\n",
    "    json.dump(filme, arquivo, ensure_ascii=False, indent=2)\n",
    "\n",
    "with open(CAMINHO_ABSOLUTO_ARQUIVO, 'r') as arquivo:\n",
    "    filme_do_json = json.load(arquivo)\n",
    "    print(filme_do_json)"
   ]
  }
 ],
 "metadata": {
  "language_info": {
   "name": "python"
  }
 },
 "nbformat": 4,
 "nbformat_minor": 2
}
