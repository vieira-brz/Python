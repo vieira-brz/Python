{
 "cells": [
  {
   "cell_type": "markdown",
   "metadata": {},
   "source": [
    "Compactando..."
   ]
  },
  {
   "cell_type": "code",
   "execution_count": null,
   "metadata": {},
   "outputs": [],
   "source": [
    "# ZIP - Compactando / Descompactando arquivos com zipfile.ZipFile\n",
    "import os\n",
    "import shutil\n",
    "from pathlib import Path\n",
    "from zipfile import ZipFile\n",
    "\n",
    "# Caminhos\n",
    "CAMINHO_RAIZ = Path(__file__).parent\n",
    "CAMINHO_ZIP_DIR = CAMINHO_RAIZ / 'aula_186_diretorio_zip'\n",
    "CAMINHO_COMPACTADO = CAMINHO_RAIZ / 'aula186_compactado.zip'\n",
    "CAMINHO_DESCOMPACTADO = CAMINHO_RAIZ / 'aula186_descompactado'\n",
    "\n",
    "shutil.rmtree(CAMINHO_ZIP_DIR, ignore_errors=True)\n",
    "Path.unlink(CAMINHO_COMPACTADO, missing_ok=True)\n",
    "shutil.rmtree(str(CAMINHO_COMPACTADO).replace('.zip', ''), ignore_errors=True)\n",
    "shutil.rmtree(CAMINHO_DESCOMPACTADO, ignore_errors=True)\n",
    "\n",
    "# raise Exception()\n",
    "\n",
    "# Cria o diretório para a aula\n",
    "CAMINHO_ZIP_DIR.mkdir(exist_ok=True)\n",
    "\n",
    "\n",
    "def criar_arquivos(qtd: int, zip_dir: Path):\n",
    "    for i in range(qtd):\n",
    "        texto = 'arquivo_%s' % i\n",
    "        with open(zip_dir / f'{texto}.txt', 'w') as arquivo:\n",
    "            arquivo.write(texto)\n",
    "\n",
    "\n",
    "criar_arquivos(10, CAMINHO_ZIP_DIR)"
   ]
  },
  {
   "cell_type": "markdown",
   "metadata": {},
   "source": [
    "Descompactando..."
   ]
  },
  {
   "cell_type": "code",
   "execution_count": null,
   "metadata": {},
   "outputs": [],
   "source": [
    "criar_arquivos(10, CAMINHO_ZIP_DIR)\n",
    "\n",
    "# Criando um zip e adicionando arquivos\n",
    "with ZipFile(CAMINHO_COMPACTADO, 'w') as zip:\n",
    "    for root, dirs, files in os.walk(CAMINHO_ZIP_DIR):\n",
    "        for file in files:\n",
    "            # print(file)\n",
    "            zip.write(os.path.join(root, file), file)\n",
    "\n",
    "# Lendo arquivos de um zip\n",
    "with ZipFile(CAMINHO_COMPACTADO, 'r') as zip:\n",
    "    for arquivo in zip.namelist():\n",
    "        print(arquivo)\n",
    "\n",
    "# Extraindo arquivos de um zip\n",
    "with ZipFile(CAMINHO_COMPACTADO, 'r') as zip:\n",
    "    zip.extractall(CAMINHO_DESCOMPACTADO)"
   ]
  }
 ],
 "metadata": {
  "language_info": {
   "name": "python"
  }
 },
 "nbformat": 4,
 "nbformat_minor": 2
}
