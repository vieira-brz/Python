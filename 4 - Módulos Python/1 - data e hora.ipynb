{
 "cells": [
  {
   "cell_type": "markdown",
   "metadata": {},
   "source": [
    "Criando data e hora com datetime..."
   ]
  },
  {
   "cell_type": "code",
   "execution_count": 4,
   "metadata": {},
   "outputs": [
    {
     "name": "stdout",
     "output_type": "stream",
     "text": [
      "2022-04-20 00:00:00\n"
     ]
    }
   ],
   "source": [
    "# Criando datas com módulo datetime\n",
    "# datetime(ano, mês, dia)\n",
    "# datetime(ano, mês, dia, horas, minutos, segundos)\n",
    "# datetime.strptime('DATA', 'FORMATO')\n",
    "# datetime.now()\n",
    "# https://pt.wikipedia.org/wiki/Era_Unix\n",
    "# datetime.fromtimestamp(Unix Timestamp)\n",
    "# https://docs.python.org/3/library/datetime.html\n",
    "# Para timezones\n",
    "# https://en.wikipedia.org/wiki/List_of_tz_database_time_zones\n",
    "# Instalando o pytz\n",
    "# pip install pytz types-pytz\n",
    "from datetime import datetime\n",
    "\n",
    "data_str_data = '2022/04/20 07:49:23'\n",
    "data_str_data = '20/04/2022'\n",
    "data_str_fmt = '%d/%m/%Y'\n",
    "\n",
    "# data = datetime(2022, 4, 20, 7, 49, 23)\n",
    "data = datetime.strptime(data_str_data, data_str_fmt)\n",
    "print(data)"
   ]
  },
  {
   "cell_type": "markdown",
   "metadata": {},
   "source": [
    "Data e hora atual..."
   ]
  },
  {
   "cell_type": "code",
   "execution_count": 3,
   "metadata": {},
   "outputs": [
    {
     "name": "stdout",
     "output_type": "stream",
     "text": [
      "1722879212.64654\n",
      "2022-12-12 09:44:37\n"
     ]
    }
   ],
   "source": [
    "# pip install pytz types-pytz\n",
    "from datetime import datetime\n",
    "\n",
    "# from pytz import timezone\n",
    "\n",
    "data = datetime.now()\n",
    "print(data.timestamp())  # Isso está na base de dados\n",
    "print(datetime.fromtimestamp(1670849077))\n",
    "# data_str_data = '2022/04/20 07:49:23'\n",
    "# data_str_data = '20/04/2022'\n",
    "# data_str_fmt = '%d/%m/%Y'\n",
    "\n",
    "# data = datetime(2022, 4, 20, 7, 49, 23, tzinfo=timezone('Asia/Tokyo'))\n",
    "# data = datetime.strptime(data_str_data, data_str_fmt)"
   ]
  },
  {
   "cell_type": "markdown",
   "metadata": {},
   "source": [
    "Calculando datas..."
   ]
  },
  {
   "cell_type": "code",
   "execution_count": 2,
   "metadata": {},
   "outputs": [
    {
     "name": "stdout",
     "output_type": "stream",
     "text": [
      "21 35\n"
     ]
    }
   ],
   "source": [
    "# datetime.timedelta e dateutil.relativetimedelta (calculando datas)\n",
    "# Docs:\n",
    "# https://dateutil.readthedocs.io/en/stable/relativedelta.html\n",
    "# https://docs.python.org/3/library/datetime.html#timedelta-objects\n",
    "from datetime import datetime\n",
    "\n",
    "from dateutil.relativedelta import relativedelta\n",
    "\n",
    "fmt = '%d/%m/%Y %H:%M:%S'\n",
    "data_inicio = datetime.strptime('20/04/1987 09:30:30', fmt)\n",
    "data_fim = datetime.strptime('12/12/2022 08:20:20', fmt)\n",
    "# delta = timedelta(days=10, hours=2)\n",
    "delta = relativedelta(data_fim, data_inicio)\n",
    "print(delta.days, delta.years)\n",
    "# print(data_fim - delta)\n",
    "# print(data_fim)\n",
    "# print(data_fim + relativedelta(seconds=60, minutes=10))\n",
    "\n",
    "# delta = data_fim - data_inicio\n",
    "# print(delta.days, delta.seconds, delta.microseconds)\n",
    "# print(delta.total_seconds())\n",
    "# print(data_fim > data_inicio)\n",
    "# print(data_fim < data_inicio)\n",
    "# print(data_fim == data_inicio)\n"
   ]
  },
  {
   "cell_type": "markdown",
   "metadata": {},
   "source": [
    "Formatando datas..."
   ]
  },
  {
   "cell_type": "code",
   "execution_count": 1,
   "metadata": {},
   "outputs": [
    {
     "name": "stdout",
     "output_type": "stream",
     "text": [
      "13/12/2022\n",
      "13/12/2022 07:59\n",
      "13/12/2022 07:59:23\n",
      "2022 2022\n",
      "13 13\n",
      "12 12\n",
      "07 7\n",
      "59 59\n",
      "23 23\n"
     ]
    }
   ],
   "source": [
    "# Formatando datas do datetime\n",
    "# datetime.strftime('DATA', 'FORMATO')\n",
    "# https://docs.python.org/3/library/datetime.html\n",
    "from datetime import datetime\n",
    "\n",
    "# data = datetime(2022, 12, 13, 7, 59, 23)\n",
    "data = datetime.strptime('2022-12-13 07:59:23', '%Y-%m-%d %H:%M:%S')\n",
    "print(data.strftime('%d/%m/%Y'))\n",
    "print(data.strftime('%d/%m/%Y %H:%M'))\n",
    "print(data.strftime('%d/%m/%Y %H:%M:%S'))\n",
    "print(data.strftime('%Y'), data.year)\n",
    "print(data.strftime('%d'), data.day)\n",
    "print(data.strftime('%m'), data.month)\n",
    "print(data.strftime('%H'), data.hour)\n",
    "print(data.strftime('%M'), data.minute)\n",
    "print(data.strftime('%S'), data.second)"
   ]
  },
  {
   "cell_type": "markdown",
   "metadata": {},
   "source": [
    "Usando calendar..."
   ]
  },
  {
   "cell_type": "code",
   "execution_count": 5,
   "metadata": {},
   "outputs": [
    {
     "name": "stdout",
     "output_type": "stream",
     "text": [
      "1\n",
      "2\n",
      "3\n",
      "4\n",
      "5\n",
      "6\n",
      "7\n",
      "8\n",
      "9\n",
      "10\n",
      "11\n",
      "12\n",
      "13\n",
      "14\n",
      "15\n",
      "16\n",
      "17\n",
      "18\n",
      "19\n",
      "20\n",
      "21\n",
      "22\n",
      "23\n",
      "24\n",
      "25\n",
      "26\n",
      "27\n",
      "28\n",
      "29\n",
      "30\n",
      "31\n"
     ]
    }
   ],
   "source": [
    "# Usando calendar para calendários e datas\n",
    "# https://docs.python.org/3/library/calendar.html\n",
    "# calendar é usado para coisas genéricas de calendários e datas.\n",
    "# Com calendar, você pode saber coisas como:\n",
    "# - Qual o último dia do mês (ex.: monthrange)\n",
    "# - Qual o nome e número do dia de determinada data (ex.: weekday)\n",
    "# - Criar um calendário em si (ex.: monthcalendar)\n",
    "# - Trabalhar com coisas específicas de calendários (ex.: calendar, month)\n",
    "# Por padrão dia da semana começa em 0 até 6\n",
    "# 0 = segunda-feira | 6 = domingo\n",
    "import calendar\n",
    "\n",
    "# print(calendar.calendar(2022))\n",
    "# print(calendar.month(2022, 12))\n",
    "# numero_primeiro_dia, ultimo_dia = calendar.monthrange(2022, 12)\n",
    "# print(list(enumerate(calendar.day_name)))\n",
    "# print(calendar.day_name[numero_primeiro_dia])\n",
    "# print(calendar.day_name[calendar.weekday(2022, 12, ultimo_dia)])\n",
    "for week in calendar.monthcalendar(2022, 12):\n",
    "    for day in week:\n",
    "        if day == 0:\n",
    "            continue\n",
    "        print(day)"
   ]
  },
  {
   "cell_type": "markdown",
   "metadata": {},
   "source": [
    "Locale para internacionalização..."
   ]
  },
  {
   "cell_type": "code",
   "execution_count": 6,
   "metadata": {},
   "outputs": [
    {
     "name": "stdout",
     "output_type": "stream",
     "text": [
      "                                  2022\n",
      "\n",
      "      janeiro                  fevereiro                   março\n",
      "se te qu qu se sá do      se te qu qu se sá do      se te qu qu se sá do\n",
      "                1  2          1  2  3  4  5  6          1  2  3  4  5  6\n",
      " 3  4  5  6  7  8  9       7  8  9 10 11 12 13       7  8  9 10 11 12 13\n",
      "10 11 12 13 14 15 16      14 15 16 17 18 19 20      14 15 16 17 18 19 20\n",
      "17 18 19 20 21 22 23      21 22 23 24 25 26 27      21 22 23 24 25 26 27\n",
      "24 25 26 27 28 29 30      28                        28 29 30 31\n",
      "31\n",
      "\n",
      "       abril                      maio                     junho\n",
      "se te qu qu se sá do      se te qu qu se sá do      se te qu qu se sá do\n",
      "             1  2  3                         1             1  2  3  4  5\n",
      " 4  5  6  7  8  9 10       2  3  4  5  6  7  8       6  7  8  9 10 11 12\n",
      "11 12 13 14 15 16 17       9 10 11 12 13 14 15      13 14 15 16 17 18 19\n",
      "18 19 20 21 22 23 24      16 17 18 19 20 21 22      20 21 22 23 24 25 26\n",
      "25 26 27 28 29 30         23 24 25 26 27 28 29      27 28 29 30\n",
      "                          30 31\n",
      "\n",
      "       julho                     agosto                   setembro\n",
      "se te qu qu se sá do      se te qu qu se sá do      se te qu qu se sá do\n",
      "             1  2  3       1  2  3  4  5  6  7                1  2  3  4\n",
      " 4  5  6  7  8  9 10       8  9 10 11 12 13 14       5  6  7  8  9 10 11\n",
      "11 12 13 14 15 16 17      15 16 17 18 19 20 21      12 13 14 15 16 17 18\n",
      "18 19 20 21 22 23 24      22 23 24 25 26 27 28      19 20 21 22 23 24 25\n",
      "25 26 27 28 29 30 31      29 30 31                  26 27 28 29 30\n",
      "\n",
      "      outubro                   novembro                  dezembro\n",
      "se te qu qu se sá do      se te qu qu se sá do      se te qu qu se sá do\n",
      "                1  2          1  2  3  4  5  6                1  2  3  4\n",
      " 3  4  5  6  7  8  9       7  8  9 10 11 12 13       5  6  7  8  9 10 11\n",
      "10 11 12 13 14 15 16      14 15 16 17 18 19 20      12 13 14 15 16 17 18\n",
      "17 18 19 20 21 22 23      21 22 23 24 25 26 27      19 20 21 22 23 24 25\n",
      "24 25 26 27 28 29 30      28 29 30                  26 27 28 29 30 31\n",
      "31\n",
      "\n"
     ]
    }
   ],
   "source": [
    "# locale para internacionalização (tradução)\n",
    "# https://docs.python.org/3/library/locale.html\n",
    "# https://learn.microsoft.com/fr-fr/powershell/module/international/get-winsystemlocale?view=windowsserver2022-ps&viewFallbackFrom=win10-ps\n",
    "import calendar\n",
    "import locale\n",
    "\n",
    "locale.setlocale(locale.LC_ALL, '')\n",
    "\n",
    "print(calendar.calendar(2022))"
   ]
  }
 ],
 "metadata": {
  "kernelspec": {
   "display_name": "Python 3",
   "language": "python",
   "name": "python3"
  },
  "language_info": {
   "codemirror_mode": {
    "name": "ipython",
    "version": 3
   },
   "file_extension": ".py",
   "mimetype": "text/x-python",
   "name": "python",
   "nbconvert_exporter": "python",
   "pygments_lexer": "ipython3",
   "version": "3.8.10"
  }
 },
 "nbformat": 4,
 "nbformat_minor": 2
}
