{
 "cells": [
  {
   "cell_type": "markdown",
   "metadata": {},
   "source": [
    "Executando processamentos em paralelo..."
   ]
  },
  {
   "cell_type": "code",
   "execution_count": null,
   "metadata": {},
   "outputs": [],
   "source": [
    "# (Parte 1) Threads - Executando processamentos em paralelo\n",
    "from threading import Thread\n",
    "from time import sleep\n",
    "\n",
    "\n",
    "class MeuThread(Thread):\n",
    "    def __init__(self, texto: str, tempo: int):\n",
    "        self.texto = texto\n",
    "        self.tempo = tempo\n",
    "\n",
    "        super().__init__()\n",
    "\n",
    "    def run(self):\n",
    "        sleep(self.tempo)\n",
    "        print(self.texto)\n",
    "\n",
    "\n",
    "t1 = MeuThread('Thread 1', 5)\n",
    "t1.start()\n",
    "\n",
    "t2 = MeuThread('Thread 2', 3)\n",
    "t2.start()\n",
    "\n",
    "t3 = MeuThread('Thread 3', 2)\n",
    "t3.start()\n",
    "\n",
    "for i in range(20):\n",
    "    print(i)\n",
    "    sleep(1)"
   ]
  },
  {
   "cell_type": "markdown",
   "metadata": {},
   "source": [
    "Executando processamentos em paralelo..."
   ]
  },
  {
   "cell_type": "code",
   "execution_count": null,
   "metadata": {},
   "outputs": [],
   "source": [
    "# (Parte 2) Threads - Executando processamentos em paralelo\n",
    "\n",
    "from threading import Thread\n",
    "from time import sleep\n",
    "\n",
    "\n",
    "def vai_demorar(texto: str, tempo: int):\n",
    "    sleep(tempo)\n",
    "    print(texto)\n",
    "\n",
    "\n",
    "t1 = Thread(target=vai_demorar, args=('Olá mundo 1!', 5))\n",
    "t1.start()\n",
    "\n",
    "t2 = Thread(target=vai_demorar, args=('Olá mundo 2!', 1))\n",
    "t2.start()\n",
    "\n",
    "t3 = Thread(target=vai_demorar, args=('Olá mundo 3!', 2))\n",
    "t3.start()\n",
    "\n",
    "for i in range(20):\n",
    "    print(i)\n",
    "    sleep(.5)"
   ]
  },
  {
   "cell_type": "markdown",
   "metadata": {},
   "source": [
    "Executando processamentos em paralelo..."
   ]
  },
  {
   "cell_type": "code",
   "execution_count": null,
   "metadata": {},
   "outputs": [],
   "source": [
    "# (Parte 3) Threads - Executando processamentos em paralelo\n",
    "\n",
    "from threading import Lock, Thread\n",
    "from time import sleep\n",
    "\n",
    "\n",
    "class Ingressos:\n",
    "    \"\"\"\n",
    "    Classe que vende ingressos\n",
    "    \"\"\"\n",
    "\n",
    "    def __init__(self, estoque: int):\n",
    "        \"\"\" Inicializando...\n",
    "\n",
    "        :param estoque: quantidade de ingressos em estoque\n",
    "        \"\"\"\n",
    "        self.estoque = estoque\n",
    "        # Nosso cadeado\n",
    "        self.lock = Lock()\n",
    "\n",
    "    def comprar(self, quantidade: int):\n",
    "        \"\"\"\n",
    "        Compra determinada quantidade de ingressos\n",
    "\n",
    "        :param quantidade: A quantidade de ingressos que deseja comprar\n",
    "        :type quantidade: int\n",
    "        :return: Nada\n",
    "        :rtype: None\n",
    "        \"\"\"\n",
    "        # Tranca o método\n",
    "        self.lock.acquire()\n",
    "\n",
    "        if self.estoque < quantidade:\n",
    "            print('Não temos ingressos suficientes.')\n",
    "            # Libera o método\n",
    "            self.lock.release()\n",
    "            return\n",
    "\n",
    "        sleep(1)\n",
    "\n",
    "        self.estoque -= quantidade\n",
    "        print(f'Você comprou {quantidade} ingresso(s). '\n",
    "              f'Ainda temos {self.estoque} em estoque.')\n",
    "\n",
    "        # Libera o método\n",
    "        self.lock.release()\n",
    "\n",
    "\n",
    "if __name__ == '__main__':\n",
    "    ingressos = Ingressos(10)\n",
    "\n",
    "    for i in range(1, 20):\n",
    "        t = Thread(target=ingressos.comprar, args=(i,))\n",
    "        t.start()\n",
    "\n",
    "    print(ingressos.estoque)"
   ]
  }
 ],
 "metadata": {
  "language_info": {
   "name": "python"
  }
 },
 "nbformat": 4,
 "nbformat_minor": 2
}
