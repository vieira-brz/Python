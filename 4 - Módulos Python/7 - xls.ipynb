{
 "cells": [
  {
   "cell_type": "markdown",
   "metadata": {},
   "source": [
    "Lendo e alterando..."
   ]
  },
  {
   "cell_type": "code",
   "execution_count": null,
   "metadata": {},
   "outputs": [],
   "source": [
    "# openpyxl - ler e alterar dados de uma planilha\n",
    "# Com essa biblioteca será possível ler e escrever dados em células\n",
    "# específicas, formatar células, inserir gráficos,\n",
    "# criar fórmulas, adicionar imagens e outros elementos gráficos às suas\n",
    "# planilhas. Ela é útil para automatizar tarefas envolvendo planilhas do\n",
    "# Excel, como a criação de relatórios e análise de dados e/ou facilitando a\n",
    "# manipulação de grandes quantidades de informações.\n",
    "# Instalação necessária: pip install openpyxl\n",
    "# Documentação: https://openpyxl.readthedocs.io/en/stable/\n",
    "from pathlib import Path\n",
    "\n",
    "from openpyxl import Workbook, load_workbook\n",
    "from openpyxl.cell import Cell\n",
    "from openpyxl.worksheet.worksheet import Worksheet\n",
    "\n",
    "ROOT_FOLDER = Path(__file__).parent\n",
    "WORKBOOK_PATH = ROOT_FOLDER / 'workbook.xlsx'\n",
    "\n",
    "# Carregando um arquivo do excel\n",
    "workbook: Workbook = load_workbook(WORKBOOK_PATH)\n",
    "\n",
    "# Nome para a planilha\n",
    "sheet_name = 'Minha planilha'\n",
    "\n",
    "# Selecionou a planilha\n",
    "worksheet: Worksheet = workbook[sheet_name]\n",
    "\n",
    "row: tuple[Cell]\n",
    "for row in worksheet.iter_rows(min_row=2):\n",
    "    for cell in row:\n",
    "        print(cell.value, end='\\t')\n",
    "\n",
    "        if cell.value == 'Maria':\n",
    "            worksheet.cell(cell.row, 2, 23)\n",
    "    print()\n",
    "\n",
    "# worksheet['B3'].value = 14\n",
    "\n",
    "workbook.save(WORKBOOK_PATH)"
   ]
  }
 ],
 "metadata": {
  "language_info": {
   "name": "python"
  }
 },
 "nbformat": 4,
 "nbformat_minor": 2
}
