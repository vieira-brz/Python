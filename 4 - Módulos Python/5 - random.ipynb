{
 "cells": [
  {
   "cell_type": "code",
   "execution_count": 1,
   "metadata": {},
   "outputs": [
    {
     "name": "stdout",
     "output_type": "stream",
     "text": [
      "['Luiz', 'Maria', 'Helena', 'Joana']\n",
      "['Helena', 'Helena', 'Helena']\n",
      "Luiz\n"
     ]
    }
   ],
   "source": [
    "# random tem geradores de números pseudoaleatórios\n",
    "# Obs.: números pseudoaleatórios significa que os números\n",
    "# parecem ser aleatórios, mas na verdade não são. Portanto,\n",
    "# este módulo não deve ser usado para segurança ou uso criptográfico.\n",
    "# O motivo disso é que quando temos uma mesma entrada e um mesmo algorítimo,\n",
    "# a saída pode ser previsível.\n",
    "# doc: https://docs.python.org/pt-br/3/library/random.html\n",
    "import random\n",
    "\n",
    "# Funções:\n",
    "# seed\n",
    "#   -> Inicializa o gerador de random (por isso \"números pseudoaleatórios\")\n",
    "# random.seed(0)\n",
    "\n",
    "# random.randrange(início, fim, passo)\n",
    "#   -> Gera um número inteiro aleatório dentro de um intervalo específico\n",
    "r_range = random.randrange(10, 20, 2)\n",
    "# print(r_range)\n",
    "\n",
    "# random.randint(início, fim)\n",
    "#   -> Gera um número inteiro aleatório dentro de um intervalo \"sem passo\"\n",
    "r_int = random.randint(10, 20)\n",
    "# print(r_int)\n",
    "\n",
    "# random.uniform(início, fim)\n",
    "#   -> Gera um número flutuante aleatório dentro de um intervalo \"sem passo\"\n",
    "r_uniform = random.uniform(10, 20)\n",
    "# print(r_uniform)\n",
    "\n",
    "# random.shuffle(SequenciaMutável) -> Embaralha a lista original\n",
    "nomes = ['Luiz', 'Maria', 'Helena', 'Joana']\n",
    "# random.shuffle(nomes)\n",
    "# print(nomes)\n",
    "\n",
    "# random.sample(Iterável, k=N)\n",
    "#   -> Escolhe elementos do iterável e retorna outro iterável (não repete)\n",
    "novos_nomes = random.sample(nomes, k=3)\n",
    "# print(nomes)\n",
    "# print(novos_nomes)\n",
    "\n",
    "# random.choices(Iterável, k=N)\n",
    "#   -> Escolhe elementos do iterável e retorna outro iterável (repete valores)\n",
    "novos_nomes = random.choices(nomes, k=3)\n",
    "print(nomes)\n",
    "print(novos_nomes)\n",
    "\n",
    "# random.choice(Iterável) -> Escolhe um elemento do iterável\n",
    "print(random.choice(nomes))"
   ]
  },
  {
   "cell_type": "markdown",
   "metadata": {},
   "source": [
    "Usando secrets..."
   ]
  },
  {
   "cell_type": "code",
   "execution_count": 3,
   "metadata": {},
   "outputs": [
    {
     "name": "stdout",
     "output_type": "stream",
     "text": [
      "18\n",
      "11\n",
      "18.513442360858285\n",
      "['Luiz', 'Maria', 'Helena', 'Joana']\n",
      "['Luiz', 'Maria', 'Helena', 'Joana']\n",
      "['Joana', 'Helena', 'Maria']\n",
      "['Luiz', 'Maria', 'Helena', 'Joana']\n",
      "['Helena', 'Luiz', 'Joana']\n",
      "Luiz\n"
     ]
    }
   ],
   "source": [
    "# secrets gera números aleatórios seguros\n",
    "import secrets\n",
    "\n",
    "# import string as s\n",
    "# from secrets import SystemRandom as Sr\n",
    "\n",
    "# print(''.join(Sr().choices(s.ascii_letters + s.digits + s.punctuation, k=64)))\n",
    "# python -c \"import string as s;from secrets import SystemRandom as Sr; print(''.join(Sr().choices(s.ascii_letters + s.punctuation + s.digits,k=12)))\"\n",
    "\n",
    "random = secrets.SystemRandom()\n",
    "\n",
    "# print(secrets.randbelow(100))\n",
    "# print(secrets.choice([10, 11, 12]))\n",
    "\n",
    "# Funções:\n",
    "# seed\n",
    "#   -> NÃO FAZ NADA\n",
    "random.seed(10)\n",
    "\n",
    "# random.randrange(início, fim, passo)\n",
    "#   -> Gera um número inteiro aleatório dentro de um intervalo específico\n",
    "r_range = random.randrange(10, 20, 2)\n",
    "print(r_range)\n",
    "\n",
    "# random.randint(início, fim)\n",
    "#   -> Gera um número inteiro aleatório dentro de um intervalo \"sem passo\"\n",
    "r_int = random.randint(10, 20)\n",
    "print(r_int)\n",
    "\n",
    "# random.uniform(início, fim)\n",
    "#   -> Gera um número flutuante aleatório dentro de um intervalo \"sem passo\"\n",
    "r_uniform = random.uniform(10, 20)\n",
    "print(r_uniform)\n",
    "\n",
    "# random.shuffle(SequenciaMutável) -> Embaralha a lista original\n",
    "nomes = ['Luiz', 'Maria', 'Helena', 'Joana']\n",
    "# random.shuffle(nomes)\n",
    "print(nomes)\n",
    "\n",
    "# random.sample(Iterável, k=N)\n",
    "#   -> Escolhe elementos do iterável e retorna outro iterável (não repete)\n",
    "novos_nomes = random.sample(nomes, k=3)\n",
    "print(nomes)\n",
    "print(novos_nomes)\n",
    "\n",
    "# random.choices(Iterável, k=N)\n",
    "#   -> Escolhe elementos do iterável e retorna outro iterável (repete valores)\n",
    "novos_nomes = random.choices(nomes, k=3)\n",
    "print(nomes)\n",
    "print(novos_nomes)\n",
    "\n",
    "# random.choice(Iterável) -> Escolhe um elemento do iterável\n",
    "print(random.choice(nomes))"
   ]
  }
 ],
 "metadata": {
  "kernelspec": {
   "display_name": "Python 3",
   "language": "python",
   "name": "python3"
  },
  "language_info": {
   "codemirror_mode": {
    "name": "ipython",
    "version": 3
   },
   "file_extension": ".py",
   "mimetype": "text/x-python",
   "name": "python",
   "nbconvert_exporter": "python",
   "pygments_lexer": "ipython3",
   "version": "3.8.10"
  }
 },
 "nbformat": 4,
 "nbformat_minor": 2
}
