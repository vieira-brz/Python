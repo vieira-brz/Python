{
 "cells": [
  {
   "cell_type": "markdown",
   "metadata": {},
   "source": [
    "### List\n",
    "\n",
    "- Mutável\n",
    "\n",
    "- Suporta vários valores de qualquer tipo\n",
    "\n",
    "- Conhecimento reutilizáveis - índices e fatiamento\n",
    "\n",
    "- Métodos Úteis: append, insert, pop, del, clear, extend, +"
   ]
  },
  {
   "cell_type": "code",
   "execution_count": 1,
   "metadata": {},
   "outputs": [
    {
     "data": {
      "text/plain": [
       "[123, True, 'Vini', 1.5, []]"
      ]
     },
     "execution_count": 1,
     "metadata": {},
     "output_type": "execute_result"
    }
   ],
   "source": [
    "lista = [123, True, 'Vini', 1.50, []]\n",
    "lista"
   ]
  },
  {
   "cell_type": "code",
   "execution_count": 2,
   "metadata": {},
   "outputs": [
    {
     "data": {
      "text/plain": [
       "('VINI', str)"
      ]
     },
     "execution_count": 2,
     "metadata": {},
     "output_type": "execute_result"
    }
   ],
   "source": [
    "lista[2].upper(), type(lista[2])"
   ]
  },
  {
   "cell_type": "code",
   "execution_count": 3,
   "metadata": {},
   "outputs": [
    {
     "data": {
      "text/plain": [
       "[123, True, 'Vinicius', 1.5, []]"
      ]
     },
     "execution_count": 3,
     "metadata": {},
     "output_type": "execute_result"
    }
   ],
   "source": [
    "lista[-3] = 'Vinicius'\n",
    "lista"
   ]
  },
  {
   "cell_type": "code",
   "execution_count": 8,
   "metadata": {},
   "outputs": [
    {
     "name": "stdout",
     "output_type": "stream",
     "text": [
      "[10, 20, 30, 40, 50]\n",
      "[10, 30, 40, 50]\n",
      "[10, 30, 40]\n",
      "[10, 20, 30, 40]\n"
     ]
    }
   ],
   "source": [
    "lista = [10, 20, 30, 40]\n",
    "\n",
    "# Append\n",
    "lista.append(50)            \n",
    "print(lista)\n",
    "\n",
    "# Delete\n",
    "del lista[1]\n",
    "print(lista)\n",
    "\n",
    "# Pop (remove último elemento) -->> se passar um número com parâmetro ele remove pela posição do item!\n",
    "lista.pop()\n",
    "print(lista)\n",
    "\n",
    "# Insert (índice, valor)\n",
    "lista.insert(1, 20)\n",
    "print(lista)"
   ]
  },
  {
   "cell_type": "code",
   "execution_count": 25,
   "metadata": {},
   "outputs": [
    {
     "name": "stdout",
     "output_type": "stream",
     "text": [
      "pri=[1, 2, 3] \n",
      "sec=[4, 5, 6] \n",
      "ter=[1, 2, 3, 4, 5, 6] \n",
      "qua=[1, 2, 3, 4, 5, 6]\n"
     ]
    }
   ],
   "source": [
    "pri = [1, 2, 3]\n",
    "sec = [4, 5, 6]\n",
    "\n",
    "# Concatenando listas\n",
    "ter = pri + sec\n",
    "\n",
    "# Extendendo lista\n",
    "qua = pri.copy()     # copy   -->> para não alterar a lista -->> pri\n",
    "qua.extend(sec)      # extend -->> mexe diretamente na lista (não retorna nada)\n",
    "\n",
    "print(f'{pri=} \\n{sec=} \\n{ter=} \\n{qua=}')"
   ]
  },
  {
   "cell_type": "markdown",
   "metadata": {},
   "source": [
    "### -"
   ]
  }
 ],
 "metadata": {
  "kernelspec": {
   "display_name": "Python 3",
   "language": "python",
   "name": "python3"
  },
  "language_info": {
   "codemirror_mode": {
    "name": "ipython",
    "version": 3
   },
   "file_extension": ".py",
   "mimetype": "text/x-python",
   "name": "python",
   "nbconvert_exporter": "python",
   "pygments_lexer": "ipython3",
   "version": "3.12.3"
  }
 },
 "nbformat": 4,
 "nbformat_minor": 2
}
