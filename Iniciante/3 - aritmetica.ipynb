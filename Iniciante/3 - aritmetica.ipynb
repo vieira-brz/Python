{
 "cells": [
  {
   "cell_type": "markdown",
   "metadata": {},
   "source": [
    "### Operadores Aritméticos"
   ]
  },
  {
   "cell_type": "markdown",
   "metadata": {},
   "source": [
    "Precedência:\n",
    "\n",
    "1. (n + n)\n",
    "\n",
    "2. **\n",
    "\n",
    "3. \\*  /  //  %\n",
    "\n",
    "4. \\+ e -"
   ]
  },
  {
   "cell_type": "markdown",
   "metadata": {},
   "source": [
    "Básico"
   ]
  },
  {
   "cell_type": "code",
   "execution_count": 11,
   "metadata": {},
   "outputs": [
    {
     "name": "stdout",
     "output_type": "stream",
     "text": [
      "Adição : 20\n",
      "Subtração : 0\n",
      "Multiplicação : 100\n",
      "Divisão : 4.166666666666667\n"
     ]
    }
   ],
   "source": [
    "adicao = 10 + 10\n",
    "print('Adição', ':', adicao)\n",
    "\n",
    "subtracao = 10 - 10\n",
    "print('Subtração', ':', subtracao)\n",
    "\n",
    "multiplicacao = 10 * 10\n",
    "print('Multiplicação', ':', multiplicacao)\n",
    "\n",
    "divisao = 10 / 2.4\n",
    "print('Divisão', ':', divisao)"
   ]
  },
  {
   "cell_type": "markdown",
   "metadata": {},
   "source": [
    "Avançado"
   ]
  },
  {
   "cell_type": "code",
   "execution_count": 16,
   "metadata": {},
   "outputs": [
    {
     "name": "stdout",
     "output_type": "stream",
     "text": [
      "Divisão Inteira : 4.0\n",
      "Resto Divisão : 1\n",
      "Exponenciação : 1024\n"
     ]
    }
   ],
   "source": [
    "divisao_inteira = 10 // 2.4\n",
    "print('Divisão Inteira', ':', divisao_inteira)\n",
    "\n",
    "resto_divisao = 15 % 2\n",
    "print(\"Resto Divisão\", ':', resto_divisao)\n",
    "\n",
    "exponenciacao = 2 ** 10\n",
    "print('Exponenciação', ':', exponenciacao)"
   ]
  },
  {
   "cell_type": "markdown",
   "metadata": {},
   "source": [
    "---\n",
    "\n",
    "### Concatenação"
   ]
  },
  {
   "cell_type": "code",
   "execution_count": 19,
   "metadata": {},
   "outputs": [
    {
     "data": {
      "text/plain": [
       "'AB'"
      ]
     },
     "execution_count": 19,
     "metadata": {},
     "output_type": "execute_result"
    }
   ],
   "source": [
    "'A' + 'B'"
   ]
  },
  {
   "cell_type": "code",
   "execution_count": 20,
   "metadata": {},
   "outputs": [
    {
     "data": {
      "text/plain": [
       "'Com espaço'"
      ]
     },
     "execution_count": 20,
     "metadata": {},
     "output_type": "execute_result"
    }
   ],
   "source": [
    "'Com' + ' ' + 'espaço'"
   ]
  },
  {
   "cell_type": "code",
   "execution_count": 17,
   "metadata": {},
   "outputs": [
    {
     "data": {
      "text/plain": [
       "'AAAAAAAAAA'"
      ]
     },
     "execution_count": 17,
     "metadata": {},
     "output_type": "execute_result"
    }
   ],
   "source": [
    "'A' * 10"
   ]
  },
  {
   "cell_type": "code",
   "execution_count": 18,
   "metadata": {},
   "outputs": [
    {
     "data": {
      "text/plain": [
       "'AAA'"
      ]
     },
     "execution_count": 18,
     "metadata": {},
     "output_type": "execute_result"
    }
   ],
   "source": [
    "3 * 'A'"
   ]
  },
  {
   "cell_type": "markdown",
   "metadata": {},
   "source": [
    "---\n",
    "\n",
    "### Exercício"
   ]
  },
  {
   "cell_type": "markdown",
   "metadata": {},
   "source": [
    "> Cálculo de IMC"
   ]
  },
  {
   "cell_type": "code",
   "execution_count": 23,
   "metadata": {},
   "outputs": [
    {
     "name": "stdout",
     "output_type": "stream",
     "text": [
      "O IMC de Vinícius é de: 22.857142857142858\n"
     ]
    }
   ],
   "source": [
    "nome = 'Vinícius'\n",
    "altura = 1.75\n",
    "peso = 70\n",
    "imc = 0\n",
    "\n",
    "imc = peso / (altura ** 2)\n",
    "\n",
    "print('O IMC de', nome, 'é de:', imc)"
   ]
  }
 ],
 "metadata": {
  "kernelspec": {
   "display_name": "Python 3",
   "language": "python",
   "name": "python3"
  },
  "language_info": {
   "codemirror_mode": {
    "name": "ipython",
    "version": 3
   },
   "file_extension": ".py",
   "mimetype": "text/x-python",
   "name": "python",
   "nbconvert_exporter": "python",
   "pygments_lexer": "ipython3",
   "version": "3.12.3"
  }
 },
 "nbformat": 4,
 "nbformat_minor": 2
}
