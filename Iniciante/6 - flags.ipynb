{
 "cells": [
  {
   "cell_type": "markdown",
   "metadata": {},
   "source": [
    "### Flags, Is, Is Not, None"
   ]
  },
  {
   "cell_type": "markdown",
   "metadata": {},
   "source": [
    "Em um código ruim, eu não saberia que a variável \"passou\" foi realmente setada, ou que o código passou por ela..."
   ]
  },
  {
   "cell_type": "code",
   "execution_count": 2,
   "metadata": {},
   "outputs": [
    {
     "name": "stdout",
     "output_type": "stream",
     "text": [
      "não prossiga...\n",
      "True\n"
     ]
    }
   ],
   "source": [
    "condicao = False\n",
    "\n",
    "if condicao:\n",
    "    passou_no_if = True\n",
    "    print('prossiga...')\n",
    "else:\n",
    "    print('não prossiga...')\n",
    "\n",
    "print(passou_no_if)"
   ]
  },
  {
   "cell_type": "markdown",
   "metadata": {},
   "source": [
    "Por isso... utilizaremos essa forma:"
   ]
  },
  {
   "cell_type": "code",
   "execution_count": 6,
   "metadata": {},
   "outputs": [
    {
     "name": "stdout",
     "output_type": "stream",
     "text": [
      "não prossiga...\n",
      "None True False\n"
     ]
    }
   ],
   "source": [
    "condicao = False\n",
    "passou_no_if = None\n",
    "\n",
    "if condicao:\n",
    "    passou_no_if = True\n",
    "    print('prossiga...')\n",
    "else:\n",
    "    print('não prossiga...')\n",
    "\n",
    "print(\n",
    "    passou_no_if, \n",
    "    passou_no_if is None, \n",
    "    passou_no_if is not None\n",
    ")"
   ]
  },
  {
   "cell_type": "code",
   "execution_count": 7,
   "metadata": {},
   "outputs": [
    {
     "name": "stdout",
     "output_type": "stream",
     "text": [
      "prossiga...\n",
      "True False True\n"
     ]
    }
   ],
   "source": [
    "condicao = True\n",
    "passou_no_if = None\n",
    "\n",
    "if condicao:\n",
    "    passou_no_if = True\n",
    "    print('prossiga...')\n",
    "else:\n",
    "    print('não prossiga...')\n",
    "\n",
    "print(\n",
    "    passou_no_if, \n",
    "    passou_no_if is None, \n",
    "    passou_no_if is not None\n",
    ")"
   ]
  }
 ],
 "metadata": {
  "kernelspec": {
   "display_name": "Python 3",
   "language": "python",
   "name": "python3"
  },
  "language_info": {
   "codemirror_mode": {
    "name": "ipython",
    "version": 3
   },
   "file_extension": ".py",
   "mimetype": "text/x-python",
   "name": "python",
   "nbconvert_exporter": "python",
   "pygments_lexer": "ipython3",
   "version": "3.8.10"
  }
 },
 "nbformat": 4,
 "nbformat_minor": 2
}
