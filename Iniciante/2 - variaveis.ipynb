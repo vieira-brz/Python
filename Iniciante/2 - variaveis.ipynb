{
 "cells": [
  {
   "cell_type": "markdown",
   "metadata": {},
   "source": [
    "### Funções"
   ]
  },
  {
   "cell_type": "markdown",
   "metadata": {},
   "source": [
    "> Verificar tipo da variável"
   ]
  },
  {
   "cell_type": "code",
   "execution_count": 8,
   "metadata": {},
   "outputs": [
    {
     "data": {
      "text/plain": [
       "str"
      ]
     },
     "execution_count": 8,
     "metadata": {},
     "output_type": "execute_result"
    }
   ],
   "source": [
    "type('Teste')"
   ]
  },
  {
   "cell_type": "markdown",
   "metadata": {},
   "source": [
    "> Conversão de Tipos"
   ]
  },
  {
   "cell_type": "code",
   "execution_count": 20,
   "metadata": {},
   "outputs": [
    {
     "name": "stdout",
     "output_type": "stream",
     "text": [
      "1\n",
      "1\n",
      "1.5\n",
      "1.5\n",
      "True\n"
     ]
    }
   ],
   "source": [
    "print(str(1))           # inteiro para string\n",
    "print(int('1'))         # string para inteiro\n",
    "print(str(1.5))         # float para string\n",
    "print(float('1.5'))     # string para float\n",
    "print(bool(' '))        # Qualquer tipo para booleano"
   ]
  },
  {
   "cell_type": "markdown",
   "metadata": {},
   "source": [
    "> Concatenação, Soma, Etc..."
   ]
  },
  {
   "cell_type": "code",
   "execution_count": 15,
   "metadata": {},
   "outputs": [
    {
     "name": "stdout",
     "output_type": "stream",
     "text": [
      "2\n",
      "11\n",
      "ab\n"
     ]
    }
   ],
   "source": [
    "print(1 + 1)\n",
    "\n",
    "# print('1' + 1) | Essa linha daria erro, não há como concatenar str com int, a menos que altere o tipo\n",
    "print('1' + str(1))\n",
    "\n",
    "print('a' + 'b')"
   ]
  },
  {
   "cell_type": "markdown",
   "metadata": {},
   "source": [
    "> Pedir ao usuário um valor para variável\n",
    "\n",
    "<p style=\"color: yellow\">Retorna sempre no tipo <strong>string</strong></p>"
   ]
  },
  {
   "cell_type": "code",
   "execution_count": 1,
   "metadata": {},
   "outputs": [
    {
     "name": "stdout",
     "output_type": "stream",
     "text": [
      "Vinícius\n"
     ]
    }
   ],
   "source": [
    "nome = input('Qual seu nome? ')\n",
    "print(nome)"
   ]
  },
  {
   "cell_type": "code",
   "execution_count": 5,
   "metadata": {},
   "outputs": [
    {
     "name": "stdout",
     "output_type": "stream",
     "text": [
      "<class 'str'> 20\n",
      "<class 'int'> 20\n"
     ]
    }
   ],
   "source": [
    "idade = input('Idade: ')\n",
    "print(type(idade), idade)\n",
    "\n",
    "idade = int(idade)\n",
    "print(type(idade), idade)"
   ]
  },
  {
   "cell_type": "markdown",
   "metadata": {},
   "source": [
    "Nome da variável + valor printados"
   ]
  },
  {
   "cell_type": "code",
   "execution_count": 4,
   "metadata": {},
   "outputs": [
    {
     "name": "stdout",
     "output_type": "stream",
     "text": [
      "nome='Vinícius'\n"
     ]
    }
   ],
   "source": [
    "print(f'{nome=}')"
   ]
  },
  {
   "cell_type": "markdown",
   "metadata": {},
   "source": [
    "---\n",
    "\n",
    "### String"
   ]
  },
  {
   "cell_type": "code",
   "execution_count": 5,
   "metadata": {},
   "outputs": [
    {
     "name": "stdout",
     "output_type": "stream",
     "text": [
      "Teste\n",
      "Teste\n",
      "Teste de \"código\"\n",
      "Teste de \"código\"\n"
     ]
    }
   ],
   "source": [
    "print('Teste')\n",
    "print(\"Teste\")\n",
    "print('Teste de \"código\"')\n",
    "print(\"Teste de \\\"código\\\"\")"
   ]
  },
  {
   "cell_type": "code",
   "execution_count": 3,
   "metadata": {},
   "outputs": [
    {
     "name": "stdout",
     "output_type": "stream",
     "text": [
      "Teste de \\\"código\\\"\n"
     ]
    }
   ],
   "source": [
    "# ao usar R o caracter de escape é exibido (envolve Regex)\n",
    "print(r\"Teste de \\\"código\\\"\")"
   ]
  },
  {
   "cell_type": "markdown",
   "metadata": {},
   "source": [
    "---\n",
    "\n",
    "### Int e Float"
   ]
  },
  {
   "cell_type": "code",
   "execution_count": 6,
   "metadata": {},
   "outputs": [
    {
     "name": "stdout",
     "output_type": "stream",
     "text": [
      "11\n",
      "-11\n",
      "0\n"
     ]
    }
   ],
   "source": [
    "# Inteiros\n",
    "print(11)\n",
    "print(-11)\n",
    "print(0)"
   ]
  },
  {
   "cell_type": "code",
   "execution_count": 7,
   "metadata": {},
   "outputs": [
    {
     "name": "stdout",
     "output_type": "stream",
     "text": [
      "1.5\n",
      "-1.5\n",
      "0.0\n"
     ]
    }
   ],
   "source": [
    "# Decimais (sempre usar .)\n",
    "print(1.5)\n",
    "print(-1.5)\n",
    "print(0.0)"
   ]
  },
  {
   "cell_type": "markdown",
   "metadata": {},
   "source": [
    "---\n",
    "\n",
    "### Booleano"
   ]
  },
  {
   "cell_type": "code",
   "execution_count": 12,
   "metadata": {},
   "outputs": [
    {
     "name": "stdout",
     "output_type": "stream",
     "text": [
      "True\n",
      "False\n"
     ]
    }
   ],
   "source": [
    "print(10 == 10) # Sim, então Verdadeiro (True)\n",
    "print(10 == 15) # Não, então Falso (False)"
   ]
  },
  {
   "cell_type": "markdown",
   "metadata": {},
   "source": [
    "---\n",
    "\n",
    "### Complexidade"
   ]
  },
  {
   "cell_type": "markdown",
   "metadata": {},
   "source": [
    "Constantes = variáveis que não vão mudar\n",
    "\n",
    "- Muitas condições no mesmo IF = ruim\n",
    "- Contagem de complexidade = ruim\n",
    "\n",
    "<p style=\"color:yellow\">Python <strong>não tem</strong> constantes, porém tem uma convenção de que variáveis com letras maiúsculas não serão alteradas!</p>"
   ]
  },
  {
   "cell_type": "code",
   "execution_count": 10,
   "metadata": {},
   "outputs": [],
   "source": [
    "velocidade = 60             # velocidade carro\n",
    "local_carro = 90            # posição na estrada\n",
    "\n",
    "RADAR_1 = 60                # velocidade máxima do primeiro radar\n",
    "LOCAL_1 = 100               # local onde o radar 1 está\n",
    "RADAR_RANGE = 1             # A distância onde o radar pega"
   ]
  },
  {
   "cell_type": "markdown",
   "metadata": {},
   "source": [
    "> Código não compreensível"
   ]
  },
  {
   "cell_type": "code",
   "execution_count": 11,
   "metadata": {},
   "outputs": [
    {
     "name": "stdout",
     "output_type": "stream",
     "text": [
      "Velocidade passou do radar 1\n"
     ]
    }
   ],
   "source": [
    "if velocidade > RADAR_1:\n",
    "    print('Velocidade passou do radar 1')\n",
    "\n",
    "if local_carro >= (LOCAL_1 - RADAR_RANGE) and \\\n",
    "    local_carro <= (LOCAL_1 + RADAR_RANGE) and \\\n",
    "        velocidade > RADAR_1:\n",
    "    print('Carro multado em radar 1!')"
   ]
  },
  {
   "cell_type": "markdown",
   "metadata": {},
   "source": [
    "> Código com boas práticas"
   ]
  },
  {
   "cell_type": "code",
   "execution_count": 14,
   "metadata": {},
   "outputs": [],
   "source": [
    "velocidade_passou_radar_1 = velocidade > 1\n",
    "\n",
    "carro_passou_radar_1 = local_carro >= (LOCAL_1 - RADAR_RANGE) and local_carro <= (LOCAL_1 + RADAR_RANGE) \n",
    "\n",
    "carro_multado = carro_passou_radar_1 and velocidade_passou_radar_1"
   ]
  },
  {
   "cell_type": "code",
   "execution_count": 15,
   "metadata": {},
   "outputs": [
    {
     "name": "stdout",
     "output_type": "stream",
     "text": [
      "Velocidade passou do radar 1\n"
     ]
    }
   ],
   "source": [
    "if velocidade_passou_radar_1:\n",
    "    print('Velocidade passou do radar 1')\n",
    "\n",
    "if carro_passou_radar_1:\n",
    "    print('Passou do radar 1')\n",
    "\n",
    "if carro_multado:\n",
    "    print('Carro multado!')"
   ]
  },
  {
   "cell_type": "markdown",
   "metadata": {},
   "source": [
    "---\n",
    "\n",
    "### Variável na Memória"
   ]
  },
  {
   "cell_type": "code",
   "execution_count": 19,
   "metadata": {},
   "outputs": [
    {
     "name": "stdout",
     "output_type": "stream",
     "text": [
      "140334229942768\n",
      "140334229942768\n",
      "140334230061808\n"
     ]
    }
   ],
   "source": [
    "v1 = 'a'\n",
    "v2 = 'a'\n",
    "\n",
    "# Será o mesmo espaço da memória (pois é a mesma coisa)\n",
    "print(id(v1))\n",
    "print(id(v2))\n",
    "\n",
    "# Agora serão diferentes...\n",
    "v2 = 'b'\n",
    "print(id(v2))"
   ]
  }
 ],
 "metadata": {
  "kernelspec": {
   "display_name": "Python 3",
   "language": "python",
   "name": "python3"
  },
  "language_info": {
   "codemirror_mode": {
    "name": "ipython",
    "version": 3
   },
   "file_extension": ".py",
   "mimetype": "text/x-python",
   "name": "python",
   "nbconvert_exporter": "python",
   "pygments_lexer": "ipython3",
   "version": "3.8.10"
  }
 },
 "nbformat": 4,
 "nbformat_minor": 2
}
