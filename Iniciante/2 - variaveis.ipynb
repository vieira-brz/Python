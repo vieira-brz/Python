{
 "cells": [
  {
   "cell_type": "markdown",
   "metadata": {},
   "source": [
    "### Funções"
   ]
  },
  {
   "cell_type": "markdown",
   "metadata": {},
   "source": [
    "> Verificar tipo da variável"
   ]
  },
  {
   "cell_type": "code",
   "execution_count": 8,
   "metadata": {},
   "outputs": [
    {
     "data": {
      "text/plain": [
       "str"
      ]
     },
     "execution_count": 8,
     "metadata": {},
     "output_type": "execute_result"
    }
   ],
   "source": [
    "type('Teste')"
   ]
  },
  {
   "cell_type": "markdown",
   "metadata": {},
   "source": [
    "> Conversão de Tipos"
   ]
  },
  {
   "cell_type": "code",
   "execution_count": 20,
   "metadata": {},
   "outputs": [
    {
     "name": "stdout",
     "output_type": "stream",
     "text": [
      "1\n",
      "1\n",
      "1.5\n",
      "1.5\n",
      "True\n"
     ]
    }
   ],
   "source": [
    "print(str(1))           # inteiro para string\n",
    "print(int('1'))         # string para inteiro\n",
    "print(str(1.5))         # float para string\n",
    "print(float('1.5'))     # string para float\n",
    "print(bool(' '))        # Qualquer tipo para booleano"
   ]
  },
  {
   "cell_type": "markdown",
   "metadata": {},
   "source": [
    "> Concatenação, Soma, Etc..."
   ]
  },
  {
   "cell_type": "code",
   "execution_count": 15,
   "metadata": {},
   "outputs": [
    {
     "name": "stdout",
     "output_type": "stream",
     "text": [
      "2\n",
      "11\n",
      "ab\n"
     ]
    }
   ],
   "source": [
    "print(1 + 1)\n",
    "\n",
    "# print('1' + 1) | Essa linha daria erro, não há como concatenar str com int, a menos que altere o tipo\n",
    "print('1' + str(1))\n",
    "\n",
    "print('a' + 'b')"
   ]
  },
  {
   "cell_type": "markdown",
   "metadata": {},
   "source": [
    "### String"
   ]
  },
  {
   "cell_type": "code",
   "execution_count": 5,
   "metadata": {},
   "outputs": [
    {
     "name": "stdout",
     "output_type": "stream",
     "text": [
      "Teste\n",
      "Teste\n",
      "Teste de \"código\"\n",
      "Teste de \"código\"\n"
     ]
    }
   ],
   "source": [
    "print('Teste')\n",
    "print(\"Teste\")\n",
    "print('Teste de \"código\"')\n",
    "print(\"Teste de \\\"código\\\"\")"
   ]
  },
  {
   "cell_type": "code",
   "execution_count": 3,
   "metadata": {},
   "outputs": [
    {
     "name": "stdout",
     "output_type": "stream",
     "text": [
      "Teste de \\\"código\\\"\n"
     ]
    }
   ],
   "source": [
    "# ao usar R o caracter de escape é exibido (envolve Regex)\n",
    "print(r\"Teste de \\\"código\\\"\")"
   ]
  },
  {
   "cell_type": "markdown",
   "metadata": {},
   "source": [
    "---\n",
    "\n",
    "### Int e Float"
   ]
  },
  {
   "cell_type": "code",
   "execution_count": 6,
   "metadata": {},
   "outputs": [
    {
     "name": "stdout",
     "output_type": "stream",
     "text": [
      "11\n",
      "-11\n",
      "0\n"
     ]
    }
   ],
   "source": [
    "# Inteiros\n",
    "print(11)\n",
    "print(-11)\n",
    "print(0)"
   ]
  },
  {
   "cell_type": "code",
   "execution_count": 7,
   "metadata": {},
   "outputs": [
    {
     "name": "stdout",
     "output_type": "stream",
     "text": [
      "1.5\n",
      "-1.5\n",
      "0.0\n"
     ]
    }
   ],
   "source": [
    "# Decimais (sempre usar .)\n",
    "print(1.5)\n",
    "print(-1.5)\n",
    "print(0.0)"
   ]
  },
  {
   "cell_type": "markdown",
   "metadata": {},
   "source": [
    "---\n",
    "\n",
    "### Booleano"
   ]
  },
  {
   "cell_type": "code",
   "execution_count": 12,
   "metadata": {},
   "outputs": [
    {
     "name": "stdout",
     "output_type": "stream",
     "text": [
      "True\n",
      "False\n"
     ]
    }
   ],
   "source": [
    "print(10 == 10) # Sim, então Verdadeiro (True)\n",
    "print(10 == 15) # Não, então Falso (False)"
   ]
  }
 ],
 "metadata": {
  "kernelspec": {
   "display_name": "Python 3",
   "language": "python",
   "name": "python3"
  },
  "language_info": {
   "codemirror_mode": {
    "name": "ipython",
    "version": 3
   },
   "file_extension": ".py",
   "mimetype": "text/x-python",
   "name": "python",
   "nbconvert_exporter": "python",
   "pygments_lexer": "ipython3",
   "version": "3.12.3"
  }
 },
 "nbformat": 4,
 "nbformat_minor": 2
}
