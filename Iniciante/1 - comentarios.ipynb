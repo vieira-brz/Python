{
 "cells": [
  {
   "cell_type": "markdown",
   "metadata": {},
   "source": [
    "Comentário de apenas uma linha"
   ]
  },
  {
   "cell_type": "code",
   "execution_count": 1,
   "metadata": {},
   "outputs": [],
   "source": [
    "# Teste de comentário"
   ]
  },
  {
   "cell_type": "markdown",
   "metadata": {},
   "source": [
    "Posições de comentários"
   ]
  },
  {
   "cell_type": "code",
   "execution_count": null,
   "metadata": {},
   "outputs": [],
   "source": [
    "print('Teste') # Teste\n",
    "\n",
    "# Teste\n",
    "print('Teste')\n",
    "\n",
    "# Teste print('Teste')\n",
    "\n",
    "print('Teste')\n",
    "# Teste"
   ]
  },
  {
   "cell_type": "markdown",
   "metadata": {},
   "source": [
    "<label style=\"color: yellow\"> DOCString </label>: Não é um comentário, mas pode ser utilizado para fazer \"notas\""
   ]
  },
  {
   "cell_type": "code",
   "execution_count": 9,
   "metadata": {},
   "outputs": [
    {
     "name": "stdout",
     "output_type": "stream",
     "text": [
      "Teste\n"
     ]
    }
   ],
   "source": [
    "'''\n",
    "Comentário usando\n",
    "múltiplas 'linhas' de\n",
    "código\n",
    "'''\n",
    "\n",
    "print(\"Teste\")"
   ]
  },
  {
   "cell_type": "markdown",
   "metadata": {},
   "source": [
    "O comando print pode ser usado para imprimir valores, ou explicitar os comentários na saída do programa "
   ]
  },
  {
   "cell_type": "code",
   "execution_count": 12,
   "metadata": {},
   "outputs": [
    {
     "name": "stdout",
     "output_type": "stream",
     "text": [
      "30\n",
      "30 60\n",
      "100-200\n",
      "300-600\n",
      "#600-900#\n"
     ]
    }
   ],
   "source": [
    "# 1 item\n",
    "print(30)\n",
    "\n",
    "# 2 ou + itens\n",
    "print(30, 60)\n",
    "\n",
    "# 2 ou + itens separados por um delimitador\n",
    "print(100, 200, sep='-')\n",
    "\n",
    "'''\n",
    "Quebrando linha\n",
    "    \\r\\n = CRLF\n",
    "    \\n   = LF\n",
    "'''\n",
    "print(300, 600, sep='-', end='\\n#') # end = final do texto\n",
    "print(600, 900, sep='-', end='#\\n') # end = final do texto"
   ]
  },
  {
   "cell_type": "markdown",
   "metadata": {},
   "source": [
    "Removendo espaços"
   ]
  },
  {
   "cell_type": "code",
   "execution_count": 3,
   "metadata": {},
   "outputs": [
    {
     "name": "stdout",
     "output_type": "stream",
     "text": [
      "Frase =      Uma string  -  qualquer      !\n",
      "Frase = Uma string  -  qualquer !\n",
      "Frase = Uma string  -  qualquer      !\n",
      "Frase =      Uma string  -  qualquer !\n"
     ]
    }
   ],
   "source": [
    "string_ = '     Uma string  -  qualquer     '\n",
    "\n",
    "print(f'Frase = {string_} !')\n",
    "\n",
    "# Inicio e fim da string\n",
    "print(f'Frase = {string_.strip()} !')\n",
    "\n",
    "# Inicio da string\n",
    "print(f'Frase = {string_.lstrip()} !')\n",
    "\n",
    "# Fim da string\n",
    "print(f'Frase = {string_.rstrip()} !')"
   ]
  },
  {
   "cell_type": "markdown",
   "metadata": {},
   "source": [
    "Pular temporariamente um bloco"
   ]
  },
  {
   "cell_type": "code",
   "execution_count": 18,
   "metadata": {},
   "outputs": [],
   "source": [
    "try: \n",
    "    pass\n",
    "except:\n",
    "    pass"
   ]
  },
  {
   "cell_type": "code",
   "execution_count": 19,
   "metadata": {},
   "outputs": [],
   "source": [
    "try: \n",
    "    ...\n",
    "except:\n",
    "    ..."
   ]
  },
  {
   "cell_type": "markdown",
   "metadata": {},
   "source": [
    "Quebrar código em várias linhas"
   ]
  },
  {
   "cell_type": "code",
   "execution_count": 1,
   "metadata": {},
   "outputs": [
    {
     "name": "stdout",
     "output_type": "stream",
     "text": [
      "Ok\n"
     ]
    }
   ],
   "source": [
    "if 2 and 3 and \\\n",
    "   4 and 5 \\\n",
    "    or True:\n",
    "    print('Ok')"
   ]
  },
  {
   "cell_type": "markdown",
   "metadata": {},
   "source": [
    "Formatação de Strings"
   ]
  },
  {
   "cell_type": "code",
   "execution_count": 7,
   "metadata": {},
   "outputs": [
    {
     "data": {
      "text/plain": [
       "'Vini tem 20.35 de IMC'"
      ]
     },
     "execution_count": 7,
     "metadata": {},
     "output_type": "execute_result"
    }
   ],
   "source": [
    "# F strings\n",
    "\n",
    "f'{'Vini'} tem {20.3452798:.2f} de IMC' # .2f = duas casas decimais"
   ]
  },
  {
   "cell_type": "code",
   "execution_count": 10,
   "metadata": {},
   "outputs": [
    {
     "data": {
      "text/plain": [
       "'Vini tem 20.345280 de IMC'"
      ]
     },
     "execution_count": 10,
     "metadata": {},
     "output_type": "execute_result"
    }
   ],
   "source": [
    "# Format\n",
    "\n",
    "'{} tem {:2f} de IMC'.format('Vini', 20.3452798)"
   ]
  },
  {
   "cell_type": "code",
   "execution_count": 14,
   "metadata": {},
   "outputs": [
    {
     "name": "stdout",
     "output_type": "stream",
     "text": [
      "b=B a=A c=5.00\n"
     ]
    }
   ],
   "source": [
    "# Format com parâmetro nomeado\n",
    "\n",
    "string = 'b={b_var} a={a_var} c={c_var:.2f}'\n",
    "\n",
    "formatado = string.format(a_var='A', b_var='B', c_var=5)\n",
    "\n",
    "print(formatado)"
   ]
  },
  {
   "cell_type": "markdown",
   "metadata": {},
   "source": [
    "Interpolação de Strings com %"
   ]
  },
  {
   "cell_type": "markdown",
   "metadata": {},
   "source": [
    "- s = string\n",
    "- f = float\n",
    "- d = int\n",
    "- x = hexadecimal\n",
    "\n",
    "- . [numero de digitos] f\n",
    "- \\> Esquerda\n",
    "- < Direita\n",
    "- ^ Centro\n",
    "- = Força o número a aparecer antes dos zeros\n",
    "\n",
    "    > Exemplo: 0 > - 100, .1f\n",
    "\n",
    "- Flags de Conversão: \n",
    "    - \\- \n",
    "    - !r \n",
    "    - !s \n",
    "    - !a"
   ]
  },
  {
   "cell_type": "code",
   "execution_count": 2,
   "metadata": {},
   "outputs": [
    {
     "data": {
      "text/plain": [
       "'Vini, o preço é R$50.00'"
      ]
     },
     "execution_count": 2,
     "metadata": {},
     "output_type": "execute_result"
    }
   ],
   "source": [
    "'%s, o preço é R$%.2f' % ('Vini', 50)"
   ]
  },
  {
   "cell_type": "code",
   "execution_count": 7,
   "metadata": {},
   "outputs": [
    {
     "data": {
      "text/plain": [
       "'O hexadecimal de 2024 é 0007e8'"
      ]
     },
     "execution_count": 7,
     "metadata": {},
     "output_type": "execute_result"
    }
   ],
   "source": [
    "# 0 = Preenche com 0 o que tiver faltando \n",
    "# 4 = Número de caracteres que deve possuir obrigatoriamente\n",
    "\n",
    "'O hexadecimal de %d é %06x' % (2024, 2024)     "
   ]
  },
  {
   "cell_type": "code",
   "execution_count": 21,
   "metadata": {},
   "outputs": [
    {
     "name": "stdout",
     "output_type": "stream",
     "text": [
      "ABC.\n",
      "       ABC.\n",
      "ABC       .\n",
      "   ABC    .\n",
      "__________________________________________________\n",
      "\n",
      "2,024.1.\n",
      "+002,024.1.\n",
      "__________________________________________________\n",
      "\n",
      "'ABC'.\n",
      "ABC.\n",
      "'ABC'.\n",
      "__________________________________________________\n",
      "\n",
      "O hexadecimal de 2024 é 0007e8\n"
     ]
    }
   ],
   "source": [
    "variavel = 'ABC'\n",
    "\n",
    "print(f'{variavel}.')\n",
    "print(f'{variavel: >10}.')\n",
    "print(f'{variavel: <10}.')\n",
    "print(f'{variavel: ^10}.')\n",
    "\n",
    "print('_' * 50)\n",
    "print()\n",
    "\n",
    "print(f'{2024.12345:,.1f}.')\n",
    "print(f'{2024.12345:0=+10,.1f}.')\n",
    "\n",
    "print('_' * 50)\n",
    "print()\n",
    "\n",
    "print(f'{variavel!r}.')\n",
    "print(f'{variavel!s}.')\n",
    "print(f'{variavel!a}.')\n",
    "\n",
    "print('_' * 50)\n",
    "print()\n",
    "\n",
    "print(f'O hexadecimal de 2024 é {2024:06x}')"
   ]
  },
  {
   "cell_type": "markdown",
   "metadata": {},
   "source": [
    "Fatiamento de Strings\n",
    "\n",
    "012345678\n",
    "Olá mundo\n",
    "-987654321\n",
    "\n",
    "Fatiamento [inicio:fim:p] [::]\n",
    "\n",
    "Obs: A função len retorna a qtd de caracteres da str"
   ]
  },
  {
   "cell_type": "code",
   "execution_count": 7,
   "metadata": {},
   "outputs": [
    {
     "name": "stdout",
     "output_type": "stream",
     "text": [
      "mund\n",
      "Olá m\n",
      "Olá m\n",
      "lá mun\n",
      "Oámno\n",
      "Oámno\n",
      "odnum álO\n"
     ]
    }
   ],
   "source": [
    "var = 'Olá mundo'\n",
    "\n",
    "print(var[4:8])                # Pos 4 até 8\n",
    "\n",
    "print(var[0:5])                # Pos 0 (começo) até a posição 5\n",
    "print(var[:5])                 # Pos 0 (começo) até a posição 5\n",
    "\n",
    "print(var[-8:-2])              # Pega de trás pra frente\n",
    "\n",
    "print(var[:9:2])               # Inicia em 0    pegando até o final da str   contando de 2 em 2\n",
    "print(var[:len(var):2])        # Inicia em 0    pegando até o final da str   contando de 2 em 2\n",
    "\n",
    "print(var[::-1])               # Inverte string"
   ]
  },
  {
   "cell_type": "markdown",
   "metadata": {},
   "source": [
    "---\n",
    "\n",
    "### Exercício"
   ]
  },
  {
   "cell_type": "code",
   "execution_count": 17,
   "metadata": {},
   "outputs": [
    {
     "name": "stdout",
     "output_type": "stream",
     "text": [
      "Seu nome é Vini Vinix\n",
      "Seu nome invertido é xiniV iniV\n",
      "Seu nome contém espaços\n",
      "Seu nome tem 10 letras\n",
      "A primeira letra do seu nome é V\n",
      "A primeira letra do seu nome é x\n"
     ]
    }
   ],
   "source": [
    "nome = input('Nome: ')\n",
    "idade = input('Idade: ')\n",
    "\n",
    "if nome and idade:\n",
    "    print(f'Seu nome é {nome}')\n",
    "    print(f'Seu nome invertido é {nome[::-1]}')\n",
    "   \n",
    "    if ' ' in nome:\n",
    "        print('Seu nome contém espaços')\n",
    "    else: \n",
    "        print('Seu nome não contém espaços')\n",
    "    \n",
    "    print(f'Seu nome tem {len(nome)} letras')\n",
    "    print(f'A primeira letra do seu nome é {nome[0]}')\n",
    "    print(f'A primeira letra do seu nome é {nome[-1]}')\n",
    "else:\n",
    "    print('Desculpe, você deixou campos vazios.')"
   ]
  }
 ],
 "metadata": {
  "kernelspec": {
   "display_name": "Python 3",
   "language": "python",
   "name": "python3"
  },
  "language_info": {
   "codemirror_mode": {
    "name": "ipython",
    "version": 3
   },
   "file_extension": ".py",
   "mimetype": "text/x-python",
   "name": "python",
   "nbconvert_exporter": "python",
   "pygments_lexer": "ipython3",
   "version": "3.8.10"
  }
 },
 "nbformat": 4,
 "nbformat_minor": 2
}
