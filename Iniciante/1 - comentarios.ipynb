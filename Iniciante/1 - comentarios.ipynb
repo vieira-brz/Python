{
 "cells": [
  {
   "cell_type": "markdown",
   "metadata": {},
   "source": [
    "Comentário de apenas uma linha"
   ]
  },
  {
   "cell_type": "code",
   "execution_count": 1,
   "metadata": {},
   "outputs": [],
   "source": [
    "# Teste de comentário"
   ]
  },
  {
   "cell_type": "markdown",
   "metadata": {},
   "source": [
    "Posições de comentários"
   ]
  },
  {
   "cell_type": "code",
   "execution_count": null,
   "metadata": {},
   "outputs": [],
   "source": [
    "print('Teste') # Teste\n",
    "\n",
    "# Teste\n",
    "print('Teste')\n",
    "\n",
    "# Teste print('Teste')\n",
    "\n",
    "print('Teste')\n",
    "# Teste"
   ]
  },
  {
   "cell_type": "markdown",
   "metadata": {},
   "source": [
    "<label style=\"color: yellow\"> DOCString </label>: Não é um comentário, mas pode ser utilizado para fazer \"notas\""
   ]
  },
  {
   "cell_type": "code",
   "execution_count": 9,
   "metadata": {},
   "outputs": [
    {
     "name": "stdout",
     "output_type": "stream",
     "text": [
      "Teste\n"
     ]
    }
   ],
   "source": [
    "'''\n",
    "Comentário usando\n",
    "múltiplas 'linhas' de\n",
    "código\n",
    "'''\n",
    "\n",
    "print(\"Teste\")"
   ]
  },
  {
   "cell_type": "markdown",
   "metadata": {},
   "source": [
    "O comando print pode ser usado para imprimir valores, ou explicitar os comentários na saída do programa "
   ]
  },
  {
   "cell_type": "code",
   "execution_count": 12,
   "metadata": {},
   "outputs": [
    {
     "name": "stdout",
     "output_type": "stream",
     "text": [
      "30\n",
      "30 60\n",
      "100-200\n",
      "300-600\n",
      "#600-900#\n"
     ]
    }
   ],
   "source": [
    "# 1 item\n",
    "print(30)\n",
    "\n",
    "# 2 ou + itens\n",
    "print(30, 60)\n",
    "\n",
    "# 2 ou + itens separados por um delimitador\n",
    "print(100, 200, sep='-')\n",
    "\n",
    "'''\n",
    "Quebrando linha\n",
    "    \\r\\n = CRLF\n",
    "    \\n   = LF\n",
    "'''\n",
    "print(300, 600, sep='-', end='\\n#') # end = final do texto\n",
    "print(600, 900, sep='-', end='#\\n') # end = final do texto"
   ]
  },
  {
   "cell_type": "markdown",
   "metadata": {},
   "source": [
    "Formatação de Strings"
   ]
  },
  {
   "cell_type": "code",
   "execution_count": 7,
   "metadata": {},
   "outputs": [
    {
     "data": {
      "text/plain": [
       "'Vini tem 20.35 de IMC'"
      ]
     },
     "execution_count": 7,
     "metadata": {},
     "output_type": "execute_result"
    }
   ],
   "source": [
    "# F strings\n",
    "\n",
    "f'{'Vini'} tem {20.3452798:.2f} de IMC' # .2f = duas casas decimais"
   ]
  },
  {
   "cell_type": "code",
   "execution_count": 10,
   "metadata": {},
   "outputs": [
    {
     "data": {
      "text/plain": [
       "'Vini tem 20.345280 de IMC'"
      ]
     },
     "execution_count": 10,
     "metadata": {},
     "output_type": "execute_result"
    }
   ],
   "source": [
    "# Format\n",
    "\n",
    "'{} tem {:2f} de IMC'.format('Vini', 20.3452798)"
   ]
  },
  {
   "cell_type": "code",
   "execution_count": 14,
   "metadata": {},
   "outputs": [
    {
     "name": "stdout",
     "output_type": "stream",
     "text": [
      "b=B a=A c=5.00\n"
     ]
    }
   ],
   "source": [
    "# Format com parâmetro nomeado\n",
    "\n",
    "string = 'b={b_var} a={a_var} c={c_var:.2f}'\n",
    "\n",
    "formatado = string.format(a_var='A', b_var='B', c_var=5)\n",
    "\n",
    "print(formatado)"
   ]
  }
 ],
 "metadata": {
  "kernelspec": {
   "display_name": "Python 3",
   "language": "python",
   "name": "python3"
  },
  "language_info": {
   "codemirror_mode": {
    "name": "ipython",
    "version": 3
   },
   "file_extension": ".py",
   "mimetype": "text/x-python",
   "name": "python",
   "nbconvert_exporter": "python",
   "pygments_lexer": "ipython3",
   "version": "3.12.3"
  }
 },
 "nbformat": 4,
 "nbformat_minor": 2
}
