{
 "cells": [
  {
   "cell_type": "markdown",
   "metadata": {},
   "source": [
    "## Operadores Aritméticos"
   ]
  },
  {
   "cell_type": "markdown",
   "metadata": {},
   "source": [
    "Precedência:\n",
    "\n",
    "1. (n + n)\n",
    "\n",
    "2. **\n",
    "\n",
    "3. \\*  /  //  %\n",
    "\n",
    "4. \\+ e -"
   ]
  },
  {
   "cell_type": "markdown",
   "metadata": {},
   "source": [
    "Básico"
   ]
  },
  {
   "cell_type": "code",
   "execution_count": 11,
   "metadata": {},
   "outputs": [
    {
     "name": "stdout",
     "output_type": "stream",
     "text": [
      "Adição : 20\n",
      "Subtração : 0\n",
      "Multiplicação : 100\n",
      "Divisão : 4.166666666666667\n"
     ]
    }
   ],
   "source": [
    "adicao = 10 + 10\n",
    "print('Adição', ':', adicao)\n",
    "\n",
    "subtracao = 10 - 10\n",
    "print('Subtração', ':', subtracao)\n",
    "\n",
    "multiplicacao = 10 * 10\n",
    "print('Multiplicação', ':', multiplicacao)\n",
    "\n",
    "divisao = 10 / 2.4\n",
    "print('Divisão', ':', divisao)"
   ]
  },
  {
   "cell_type": "markdown",
   "metadata": {},
   "source": [
    "Avançado"
   ]
  },
  {
   "cell_type": "code",
   "execution_count": 16,
   "metadata": {},
   "outputs": [
    {
     "name": "stdout",
     "output_type": "stream",
     "text": [
      "Divisão Inteira : 4.0\n",
      "Resto Divisão : 1\n",
      "Exponenciação : 1024\n"
     ]
    }
   ],
   "source": [
    "divisao_inteira = 10 // 2.4\n",
    "print('Divisão Inteira', ':', divisao_inteira)\n",
    "\n",
    "resto_divisao = 15 % 2\n",
    "print(\"Resto Divisão\", ':', resto_divisao)\n",
    "\n",
    "exponenciacao = 2 ** 10\n",
    "print('Exponenciação', ':', exponenciacao)"
   ]
  },
  {
   "cell_type": "markdown",
   "metadata": {},
   "source": [
    "---\n",
    "\n",
    "### Concatenação"
   ]
  },
  {
   "cell_type": "code",
   "execution_count": 19,
   "metadata": {},
   "outputs": [
    {
     "data": {
      "text/plain": [
       "'AB'"
      ]
     },
     "execution_count": 19,
     "metadata": {},
     "output_type": "execute_result"
    }
   ],
   "source": [
    "'A' + 'B'"
   ]
  },
  {
   "cell_type": "code",
   "execution_count": 20,
   "metadata": {},
   "outputs": [
    {
     "data": {
      "text/plain": [
       "'Com espaço'"
      ]
     },
     "execution_count": 20,
     "metadata": {},
     "output_type": "execute_result"
    }
   ],
   "source": [
    "'Com' + ' ' + 'espaço'"
   ]
  },
  {
   "cell_type": "code",
   "execution_count": 17,
   "metadata": {},
   "outputs": [
    {
     "data": {
      "text/plain": [
       "'AAAAAAAAAA'"
      ]
     },
     "execution_count": 17,
     "metadata": {},
     "output_type": "execute_result"
    }
   ],
   "source": [
    "'A' * 10"
   ]
  },
  {
   "cell_type": "code",
   "execution_count": 18,
   "metadata": {},
   "outputs": [
    {
     "data": {
      "text/plain": [
       "'AAA'"
      ]
     },
     "execution_count": 18,
     "metadata": {},
     "output_type": "execute_result"
    }
   ],
   "source": [
    "3 * 'A'"
   ]
  },
  {
   "cell_type": "markdown",
   "metadata": {},
   "source": [
    "---\n",
    "\n",
    "### Exercício"
   ]
  },
  {
   "cell_type": "markdown",
   "metadata": {},
   "source": [
    "> Cálculo de IMC"
   ]
  },
  {
   "cell_type": "code",
   "execution_count": 23,
   "metadata": {},
   "outputs": [
    {
     "name": "stdout",
     "output_type": "stream",
     "text": [
      "O IMC de Vinícius é de: 22.857142857142858\n"
     ]
    }
   ],
   "source": [
    "nome = 'Vinícius'\n",
    "altura = 1.75\n",
    "peso = 70\n",
    "imc = 0\n",
    "\n",
    "imc = peso / (altura ** 2)\n",
    "\n",
    "print('O IMC de', nome, 'é de:', imc)"
   ]
  },
  {
   "cell_type": "markdown",
   "metadata": {},
   "source": [
    "## Operadores Lógicos"
   ]
  },
  {
   "cell_type": "markdown",
   "metadata": {},
   "source": [
    "Operadores de comparação\n",
    "<table>\n",
    "    <thead>\n",
    "        <th>OP</th>\n",
    "        <th>SIGNIFICADO</th>\n",
    "        <th>EXEMPLO (True)</th>\n",
    "    </thead>\n",
    "    <tbody>\n",
    "        <tr>\n",
    "            <td>></td>\n",
    "            <td>Maior</td>\n",
    "            <td>2 > 1</td>\n",
    "        </tr>\n",
    "        <tr>\n",
    "            <td>>=</td>\n",
    "            <td>Maior ou igual</td>\n",
    "            <td>2 >= 2</td>\n",
    "        </tr>\n",
    "        <tr>\n",
    "            <td><</td>\n",
    "            <td>Menor</td>\n",
    "            <td>1 < 2</td>\n",
    "        </tr>\n",
    "        <tr>\n",
    "            <td><=</td>\n",
    "            <td>Menor ou igual</td>\n",
    "            <td>2 <= 2</td>\n",
    "        </tr>\n",
    "        <tr>\n",
    "            <td>==</td>\n",
    "            <td>Igual</td>\n",
    "            <td>'a' == 'a'</td>\n",
    "        </tr>\n",
    "        <tr>\n",
    "            <td>!=</td>\n",
    "            <td>Diferente</td>\n",
    "            <td>'a' != 'b'</td>\n",
    "        </tr>\n",
    "    </tbody>\n",
    "</table>"
   ]
  },
  {
   "cell_type": "code",
   "execution_count": 1,
   "metadata": {},
   "outputs": [
    {
     "data": {
      "text/plain": [
       "True"
      ]
     },
     "execution_count": 1,
     "metadata": {},
     "output_type": "execute_result"
    }
   ],
   "source": [
    "2 > 1"
   ]
  },
  {
   "cell_type": "code",
   "execution_count": 2,
   "metadata": {},
   "outputs": [
    {
     "data": {
      "text/plain": [
       "True"
      ]
     },
     "execution_count": 2,
     "metadata": {},
     "output_type": "execute_result"
    }
   ],
   "source": [
    "2 >= 2"
   ]
  },
  {
   "cell_type": "code",
   "execution_count": 3,
   "metadata": {},
   "outputs": [
    {
     "data": {
      "text/plain": [
       "True"
      ]
     },
     "execution_count": 3,
     "metadata": {},
     "output_type": "execute_result"
    }
   ],
   "source": [
    "1 < 2"
   ]
  },
  {
   "cell_type": "code",
   "execution_count": 5,
   "metadata": {},
   "outputs": [
    {
     "data": {
      "text/plain": [
       "True"
      ]
     },
     "execution_count": 5,
     "metadata": {},
     "output_type": "execute_result"
    }
   ],
   "source": [
    "2 <= 2"
   ]
  },
  {
   "cell_type": "code",
   "execution_count": 6,
   "metadata": {},
   "outputs": [
    {
     "data": {
      "text/plain": [
       "True"
      ]
     },
     "execution_count": 6,
     "metadata": {},
     "output_type": "execute_result"
    }
   ],
   "source": [
    "'a' == 'a'"
   ]
  },
  {
   "cell_type": "code",
   "execution_count": 7,
   "metadata": {},
   "outputs": [
    {
     "data": {
      "text/plain": [
       "False"
      ]
     },
     "execution_count": 7,
     "metadata": {},
     "output_type": "execute_result"
    }
   ],
   "source": [
    "'a' != 'b'"
   ]
  },
  {
   "cell_type": "markdown",
   "metadata": {},
   "source": [
    "- **AND** = e, todos os valor tem que ser verdadeiros\n",
    "- **OR** = ou, um valor da expressão tem que ser verdadeiro\n",
    "- **NOT** = não, inverte uma expressão sendo essa verdadeira ou falsa\n",
    "- **IN** = entre\n",
    "- **NOT IN** = não está entre\n",
    "\n",
    "<p style=\"color: yellow\">Importante</p>\n",
    "\n",
    "- **0** ==> False\n",
    "- **1** ==> True"
   ]
  },
  {
   "cell_type": "markdown",
   "metadata": {},
   "source": [
    "Operador E"
   ]
  },
  {
   "cell_type": "code",
   "execution_count": 28,
   "metadata": {},
   "outputs": [
    {
     "data": {
      "text/plain": [
       "False"
      ]
     },
     "execution_count": 28,
     "metadata": {},
     "output_type": "execute_result"
    }
   ],
   "source": [
    "True and False and True"
   ]
  },
  {
   "cell_type": "code",
   "execution_count": 14,
   "metadata": {},
   "outputs": [
    {
     "name": "stdout",
     "output_type": "stream",
     "text": [
      "Bloqueado\n"
     ]
    }
   ],
   "source": [
    "entrada = 'e'\n",
    "senha = 123\n",
    "\n",
    "if entrada == 'e' and senha == 1234:        # Os dois tem que ser verdadeiro\n",
    "    print('Entrou')\n",
    "\n",
    "else:\n",
    "    print('Bloqueado')"
   ]
  },
  {
   "cell_type": "markdown",
   "metadata": {},
   "source": [
    "Operador OU"
   ]
  },
  {
   "cell_type": "code",
   "execution_count": 29,
   "metadata": {},
   "outputs": [
    {
     "data": {
      "text/plain": [
       "True"
      ]
     },
     "execution_count": 29,
     "metadata": {},
     "output_type": "execute_result"
    }
   ],
   "source": [
    "False or True or False"
   ]
  },
  {
   "cell_type": "code",
   "execution_count": 12,
   "metadata": {},
   "outputs": [
    {
     "name": "stdout",
     "output_type": "stream",
     "text": [
      "Entrou\n"
     ]
    }
   ],
   "source": [
    "entrada = 'e'\n",
    "senha = 123\n",
    "\n",
    "if entrada == 'e' or senha == 1234:        # Um tem que ser verdadeiro\n",
    "    print('Entrou')"
   ]
  },
  {
   "cell_type": "markdown",
   "metadata": {},
   "source": [
    "Operador NOT"
   ]
  },
  {
   "cell_type": "code",
   "execution_count": 30,
   "metadata": {},
   "outputs": [
    {
     "data": {
      "text/plain": [
       "True"
      ]
     },
     "execution_count": 30,
     "metadata": {},
     "output_type": "execute_result"
    }
   ],
   "source": [
    "not False"
   ]
  },
  {
   "cell_type": "code",
   "execution_count": 18,
   "metadata": {},
   "outputs": [
    {
     "name": "stdout",
     "output_type": "stream",
     "text": [
      "Entrou\n"
     ]
    }
   ],
   "source": [
    "senha = 12345\n",
    "\n",
    "if not senha:                              # Inverte expressão\n",
    "    print('Bloqueado')\n",
    "\n",
    "else:\n",
    "    print('Entrou')"
   ]
  },
  {
   "cell_type": "markdown",
   "metadata": {},
   "source": [
    "Operador IN"
   ]
  },
  {
   "cell_type": "code",
   "execution_count": 31,
   "metadata": {},
   "outputs": [
    {
     "data": {
      "text/plain": [
       "True"
      ]
     },
     "execution_count": 31,
     "metadata": {},
     "output_type": "execute_result"
    }
   ],
   "source": [
    "0 in [0, 1, 2]"
   ]
  },
  {
   "cell_type": "code",
   "execution_count": 26,
   "metadata": {},
   "outputs": [
    {
     "name": "stdout",
     "output_type": "stream",
     "text": [
      "Entrou\n"
     ]
    }
   ],
   "source": [
    "senha = '1234'\n",
    "\n",
    "if '2' in senha:                           # Itera sobe os caracteres da STRING para fazer a validação\n",
    "    print('Entrou')"
   ]
  },
  {
   "cell_type": "markdown",
   "metadata": {},
   "source": [
    "Operador NOT IN"
   ]
  },
  {
   "cell_type": "code",
   "execution_count": 33,
   "metadata": {},
   "outputs": [
    {
     "data": {
      "text/plain": [
       "True"
      ]
     },
     "execution_count": 33,
     "metadata": {},
     "output_type": "execute_result"
    }
   ],
   "source": [
    "3 not in [0, 1, 2]"
   ]
  },
  {
   "cell_type": "code",
   "execution_count": 27,
   "metadata": {},
   "outputs": [
    {
     "name": "stdout",
     "output_type": "stream",
     "text": [
      "Entrou\n"
     ]
    }
   ],
   "source": [
    "senha = '1234'\n",
    "\n",
    "if '5' not in senha:\n",
    "    print('Entrou')                       # Itera sobe os caracteres da STRING para fazer a validação"
   ]
  },
  {
   "cell_type": "markdown",
   "metadata": {},
   "source": [
    "---\n",
    "\n",
    "### Exercício"
   ]
  },
  {
   "cell_type": "code",
   "execution_count": 9,
   "metadata": {},
   "outputs": [
    {
     "name": "stdout",
     "output_type": "stream",
     "text": [
      "v1 é menor que v2\n"
     ]
    }
   ],
   "source": [
    "v1 = 20\n",
    "v2 = 40\n",
    "\n",
    "if v1 > v2:\n",
    "    print(\"v1 é maior que v2\")\n",
    "\n",
    "elif v1 >= v2:\n",
    "    print(\"v1 é maior ou igual a v2\")\n",
    "\n",
    "elif v1 < v2:\n",
    "    print(\"v1 é menor que v2\")\n",
    "\n",
    "elif v1 <= v2:\n",
    "    print(\"v1 é menor ou igual a v2\")\n",
    "\n",
    "elif v1 == v2:\n",
    "    print(\"v1 é igual a v2\")\n",
    "\n",
    "elif v1 != v2:\n",
    "    print(\"v1 é diferente de v2\")\n",
    "\n",
    "else:\n",
    "    print(\"Isso nunca será alcançado porque todas as comparações estão cobertas\")\n"
   ]
  }
 ],
 "metadata": {
  "kernelspec": {
   "display_name": "Python 3",
   "language": "python",
   "name": "python3"
  },
  "language_info": {
   "codemirror_mode": {
    "name": "ipython",
    "version": 3
   },
   "file_extension": ".py",
   "mimetype": "text/x-python",
   "name": "python",
   "nbconvert_exporter": "python",
   "pygments_lexer": "ipython3",
   "version": "3.8.10"
  }
 },
 "nbformat": 4,
 "nbformat_minor": 2
}
