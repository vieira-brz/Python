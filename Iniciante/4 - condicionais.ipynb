{
 "cells": [
  {
   "cell_type": "markdown",
   "metadata": {},
   "source": [
    "### IF | ELIF | ELSE"
   ]
  },
  {
   "cell_type": "code",
   "execution_count": 1,
   "metadata": {},
   "outputs": [
    {
     "name": "stdout",
     "output_type": "stream",
     "text": [
      "Você saiu do sistema!\n",
      "Fora dos blocos...\n"
     ]
    }
   ],
   "source": [
    "entrada = input('Entrar ou sair? ')\n",
    "\n",
    "if entrada == 'entrar':\n",
    "    print('Você entrou no sistema!')\n",
    "\n",
    "elif entrada == 'sair':\n",
    "    print('Você saiu do sistema!')\n",
    "\n",
    "else:\n",
    "    print('Digite \"entrar\" ou \"sair\"!')\n",
    "\n",
    "# Aqui o if else já acabou\n",
    "print('Fora dos blocos...')"
   ]
  },
  {
   "cell_type": "code",
   "execution_count": 2,
   "metadata": {},
   "outputs": [
    {
     "name": "stdout",
     "output_type": "stream",
     "text": [
      "Código do IF\n",
      "Fora do IF\n"
     ]
    }
   ],
   "source": [
    "condicao = True\n",
    "\n",
    "if condicao:\n",
    "    print('Código do IF')\n",
    "\n",
    "print('Fora do IF')"
   ]
  },
  {
   "cell_type": "code",
   "execution_count": 6,
   "metadata": {},
   "outputs": [
    {
     "name": "stdout",
     "output_type": "stream",
     "text": [
      "Fora do IF\n"
     ]
    }
   ],
   "source": [
    "condicao = False\n",
    "\n",
    "if condicao:\n",
    "    print('Código do IF')\n",
    "\n",
    "print('Fora do IF')"
   ]
  },
  {
   "cell_type": "code",
   "execution_count": 5,
   "metadata": {},
   "outputs": [
    {
     "name": "stdout",
     "output_type": "stream",
     "text": [
      "Se não executar acima, executa aqui...\n",
      "Fora do IF\n"
     ]
    }
   ],
   "source": [
    "condicao = False\n",
    "condicao2 = False\n",
    "condicao3 = False\n",
    "\n",
    "if condicao:\n",
    "    print('Código do IF')\n",
    "\n",
    "elif condicao2:\n",
    "    print('Código do IF 2')\n",
    "\n",
    "elif condicao3:\n",
    "    print('Código do IF 3')\n",
    "\n",
    "else:\n",
    "    print('Se não executar acima, executa aqui...')\n",
    "\n",
    "print('Fora do IF')"
   ]
  }
 ],
 "metadata": {
  "kernelspec": {
   "display_name": "Python 3",
   "language": "python",
   "name": "python3"
  },
  "language_info": {
   "codemirror_mode": {
    "name": "ipython",
    "version": 3
   },
   "file_extension": ".py",
   "mimetype": "text/x-python",
   "name": "python",
   "nbconvert_exporter": "python",
   "pygments_lexer": "ipython3",
   "version": "3.8.10"
  }
 },
 "nbformat": 4,
 "nbformat_minor": 2
}
